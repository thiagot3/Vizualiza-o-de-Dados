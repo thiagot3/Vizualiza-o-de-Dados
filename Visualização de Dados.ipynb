{
 "cells": [
  {
   "cell_type": "markdown",
   "id": "6b8c3eea",
   "metadata": {},
   "source": [
    "# Visualização de Dados\n",
    "\n",
    "1. Matplotlib, Seaborn e Ploty"
   ]
  },
  {
   "cell_type": "markdown",
   "id": "88e99d8a",
   "metadata": {},
   "source": [
    "SITUAÇÃO PROBLEMA\n",
    "\n",
    "Vamos supor que você seja dono de um banco em Taiwan que oferta serviço de crédito. Você tem em mãos uma tabela em excel com dados dos clientes que contrataram o serviço de crédito.\n",
    "\n",
    "    Objetivo: apresentar um panorama consolidado sobre a situação dos clientes no banco para o restante da empresa.\n",
    "\n",
    "    Objetivo específico: analisar a situação dos clientes (valor de crédito concedido, valor pago e extrato), nos últimos meses para o ano de 2005 de acordo com o nível de escolaridade."
   ]
  },
  {
   "cell_type": "code",
   "execution_count": 219,
   "id": "2eb6d51a",
   "metadata": {},
   "outputs": [],
   "source": [
    "#     Instalando Bibliotecas\n",
    "\"\"\"\n",
    "    CASO O PANDAS OU OUTRA BIBLIOTECA UTILIZADA NÂO ESTEJAM INSTALADOS EXECUTE:\n",
    "      #instalar Pandas \n",
    "        !pip install pandas\n",
    "        !pip install matplotlib\n",
    "        !pip install seaborn\n",
    "        !pip install plotly\n",
    "\"\"\"\n",
    "#     Importando Bibliotecas\n",
    "import pandas as pd\n",
    "import matplotlib.pyplot as plt\n",
    "import seaborn as sns\n",
    "import plotly.express as px\n",
    "import plotly.graph_objects as go\n",
    "from plotly.subplots import make_subplots"
   ]
  },
  {
   "cell_type": "code",
   "execution_count": 220,
   "id": "91864538",
   "metadata": {},
   "outputs": [
    {
     "data": {
      "text/html": [
       "<div>\n",
       "<style scoped>\n",
       "    .dataframe tbody tr th:only-of-type {\n",
       "        vertical-align: middle;\n",
       "    }\n",
       "\n",
       "    .dataframe tbody tr th {\n",
       "        vertical-align: top;\n",
       "    }\n",
       "\n",
       "    .dataframe thead th {\n",
       "        text-align: right;\n",
       "    }\n",
       "</style>\n",
       "<table border=\"1\" class=\"dataframe\">\n",
       "  <thead>\n",
       "    <tr style=\"text-align: right;\">\n",
       "      <th></th>\n",
       "      <th>Unnamed: 0</th>\n",
       "      <th>ID</th>\n",
       "      <th>valor_credito</th>\n",
       "      <th>sexo</th>\n",
       "      <th>escolaridade</th>\n",
       "      <th>estado_civil</th>\n",
       "      <th>idade</th>\n",
       "      <th>status_pag_set_2005</th>\n",
       "      <th>status_pag_ago_2005</th>\n",
       "      <th>status_pag_jul_2005</th>\n",
       "      <th>...</th>\n",
       "      <th>extrato_jul_2005</th>\n",
       "      <th>extrato_jun_2005</th>\n",
       "      <th>extrato_mai_2005</th>\n",
       "      <th>extrato_abr_2005</th>\n",
       "      <th>valor_pag_set_2005</th>\n",
       "      <th>valor_pag_ago_2005</th>\n",
       "      <th>valor_pag_jul_2005</th>\n",
       "      <th>valor_pag_jun_2005</th>\n",
       "      <th>valor_pag_mai_2005</th>\n",
       "      <th>valor_pag_abr_2005</th>\n",
       "    </tr>\n",
       "  </thead>\n",
       "  <tbody>\n",
       "    <tr>\n",
       "      <th>0</th>\n",
       "      <td>0</td>\n",
       "      <td>1</td>\n",
       "      <td>20000</td>\n",
       "      <td>2</td>\n",
       "      <td>2</td>\n",
       "      <td>1</td>\n",
       "      <td>24</td>\n",
       "      <td>2</td>\n",
       "      <td>2</td>\n",
       "      <td>-1</td>\n",
       "      <td>...</td>\n",
       "      <td>689</td>\n",
       "      <td>0</td>\n",
       "      <td>0</td>\n",
       "      <td>0</td>\n",
       "      <td>0</td>\n",
       "      <td>689</td>\n",
       "      <td>0</td>\n",
       "      <td>0</td>\n",
       "      <td>0</td>\n",
       "      <td>0</td>\n",
       "    </tr>\n",
       "    <tr>\n",
       "      <th>1</th>\n",
       "      <td>1</td>\n",
       "      <td>2</td>\n",
       "      <td>120000</td>\n",
       "      <td>2</td>\n",
       "      <td>2</td>\n",
       "      <td>2</td>\n",
       "      <td>26</td>\n",
       "      <td>-1</td>\n",
       "      <td>2</td>\n",
       "      <td>0</td>\n",
       "      <td>...</td>\n",
       "      <td>2682</td>\n",
       "      <td>3272</td>\n",
       "      <td>3455</td>\n",
       "      <td>3261</td>\n",
       "      <td>0</td>\n",
       "      <td>1000</td>\n",
       "      <td>1000</td>\n",
       "      <td>1000</td>\n",
       "      <td>0</td>\n",
       "      <td>2000</td>\n",
       "    </tr>\n",
       "    <tr>\n",
       "      <th>2</th>\n",
       "      <td>2</td>\n",
       "      <td>3</td>\n",
       "      <td>90000</td>\n",
       "      <td>2</td>\n",
       "      <td>2</td>\n",
       "      <td>2</td>\n",
       "      <td>34</td>\n",
       "      <td>0</td>\n",
       "      <td>0</td>\n",
       "      <td>0</td>\n",
       "      <td>...</td>\n",
       "      <td>13559</td>\n",
       "      <td>14331</td>\n",
       "      <td>14948</td>\n",
       "      <td>15549</td>\n",
       "      <td>1518</td>\n",
       "      <td>1500</td>\n",
       "      <td>1000</td>\n",
       "      <td>1000</td>\n",
       "      <td>1000</td>\n",
       "      <td>5000</td>\n",
       "    </tr>\n",
       "    <tr>\n",
       "      <th>3</th>\n",
       "      <td>3</td>\n",
       "      <td>4</td>\n",
       "      <td>50000</td>\n",
       "      <td>2</td>\n",
       "      <td>2</td>\n",
       "      <td>1</td>\n",
       "      <td>37</td>\n",
       "      <td>0</td>\n",
       "      <td>0</td>\n",
       "      <td>0</td>\n",
       "      <td>...</td>\n",
       "      <td>49291</td>\n",
       "      <td>28314</td>\n",
       "      <td>28959</td>\n",
       "      <td>29547</td>\n",
       "      <td>2000</td>\n",
       "      <td>2019</td>\n",
       "      <td>1200</td>\n",
       "      <td>1100</td>\n",
       "      <td>1069</td>\n",
       "      <td>1000</td>\n",
       "    </tr>\n",
       "    <tr>\n",
       "      <th>4</th>\n",
       "      <td>4</td>\n",
       "      <td>5</td>\n",
       "      <td>50000</td>\n",
       "      <td>1</td>\n",
       "      <td>2</td>\n",
       "      <td>1</td>\n",
       "      <td>57</td>\n",
       "      <td>-1</td>\n",
       "      <td>0</td>\n",
       "      <td>-1</td>\n",
       "      <td>...</td>\n",
       "      <td>35835</td>\n",
       "      <td>20940</td>\n",
       "      <td>19146</td>\n",
       "      <td>19131</td>\n",
       "      <td>2000</td>\n",
       "      <td>36681</td>\n",
       "      <td>10000</td>\n",
       "      <td>9000</td>\n",
       "      <td>689</td>\n",
       "      <td>679</td>\n",
       "    </tr>\n",
       "    <tr>\n",
       "      <th>...</th>\n",
       "      <td>...</td>\n",
       "      <td>...</td>\n",
       "      <td>...</td>\n",
       "      <td>...</td>\n",
       "      <td>...</td>\n",
       "      <td>...</td>\n",
       "      <td>...</td>\n",
       "      <td>...</td>\n",
       "      <td>...</td>\n",
       "      <td>...</td>\n",
       "      <td>...</td>\n",
       "      <td>...</td>\n",
       "      <td>...</td>\n",
       "      <td>...</td>\n",
       "      <td>...</td>\n",
       "      <td>...</td>\n",
       "      <td>...</td>\n",
       "      <td>...</td>\n",
       "      <td>...</td>\n",
       "      <td>...</td>\n",
       "      <td>...</td>\n",
       "    </tr>\n",
       "    <tr>\n",
       "      <th>29995</th>\n",
       "      <td>29995</td>\n",
       "      <td>29996</td>\n",
       "      <td>220000</td>\n",
       "      <td>1</td>\n",
       "      <td>3</td>\n",
       "      <td>1</td>\n",
       "      <td>39</td>\n",
       "      <td>0</td>\n",
       "      <td>0</td>\n",
       "      <td>0</td>\n",
       "      <td>...</td>\n",
       "      <td>208365</td>\n",
       "      <td>88004</td>\n",
       "      <td>31237</td>\n",
       "      <td>15980</td>\n",
       "      <td>8500</td>\n",
       "      <td>20000</td>\n",
       "      <td>5003</td>\n",
       "      <td>3047</td>\n",
       "      <td>5000</td>\n",
       "      <td>1000</td>\n",
       "    </tr>\n",
       "    <tr>\n",
       "      <th>29996</th>\n",
       "      <td>29996</td>\n",
       "      <td>29997</td>\n",
       "      <td>150000</td>\n",
       "      <td>1</td>\n",
       "      <td>3</td>\n",
       "      <td>2</td>\n",
       "      <td>43</td>\n",
       "      <td>-1</td>\n",
       "      <td>-1</td>\n",
       "      <td>-1</td>\n",
       "      <td>...</td>\n",
       "      <td>3502</td>\n",
       "      <td>8979</td>\n",
       "      <td>5190</td>\n",
       "      <td>0</td>\n",
       "      <td>1837</td>\n",
       "      <td>3526</td>\n",
       "      <td>8998</td>\n",
       "      <td>129</td>\n",
       "      <td>0</td>\n",
       "      <td>0</td>\n",
       "    </tr>\n",
       "    <tr>\n",
       "      <th>29997</th>\n",
       "      <td>29997</td>\n",
       "      <td>29998</td>\n",
       "      <td>30000</td>\n",
       "      <td>1</td>\n",
       "      <td>2</td>\n",
       "      <td>2</td>\n",
       "      <td>37</td>\n",
       "      <td>4</td>\n",
       "      <td>3</td>\n",
       "      <td>2</td>\n",
       "      <td>...</td>\n",
       "      <td>2758</td>\n",
       "      <td>20878</td>\n",
       "      <td>20582</td>\n",
       "      <td>19357</td>\n",
       "      <td>0</td>\n",
       "      <td>0</td>\n",
       "      <td>22000</td>\n",
       "      <td>4200</td>\n",
       "      <td>2000</td>\n",
       "      <td>3100</td>\n",
       "    </tr>\n",
       "    <tr>\n",
       "      <th>29998</th>\n",
       "      <td>29998</td>\n",
       "      <td>29999</td>\n",
       "      <td>80000</td>\n",
       "      <td>1</td>\n",
       "      <td>3</td>\n",
       "      <td>1</td>\n",
       "      <td>41</td>\n",
       "      <td>1</td>\n",
       "      <td>-1</td>\n",
       "      <td>0</td>\n",
       "      <td>...</td>\n",
       "      <td>76304</td>\n",
       "      <td>52774</td>\n",
       "      <td>11855</td>\n",
       "      <td>48944</td>\n",
       "      <td>85900</td>\n",
       "      <td>3409</td>\n",
       "      <td>1178</td>\n",
       "      <td>1926</td>\n",
       "      <td>52964</td>\n",
       "      <td>1804</td>\n",
       "    </tr>\n",
       "    <tr>\n",
       "      <th>29999</th>\n",
       "      <td>29999</td>\n",
       "      <td>30000</td>\n",
       "      <td>50000</td>\n",
       "      <td>1</td>\n",
       "      <td>2</td>\n",
       "      <td>1</td>\n",
       "      <td>46</td>\n",
       "      <td>0</td>\n",
       "      <td>0</td>\n",
       "      <td>0</td>\n",
       "      <td>...</td>\n",
       "      <td>49764</td>\n",
       "      <td>36535</td>\n",
       "      <td>32428</td>\n",
       "      <td>15313</td>\n",
       "      <td>2078</td>\n",
       "      <td>1800</td>\n",
       "      <td>1430</td>\n",
       "      <td>1000</td>\n",
       "      <td>1000</td>\n",
       "      <td>1000</td>\n",
       "    </tr>\n",
       "  </tbody>\n",
       "</table>\n",
       "<p>30000 rows × 25 columns</p>\n",
       "</div>"
      ],
      "text/plain": [
       "       Unnamed: 0     ID  valor_credito  sexo  escolaridade  estado_civil  \\\n",
       "0               0      1          20000     2             2             1   \n",
       "1               1      2         120000     2             2             2   \n",
       "2               2      3          90000     2             2             2   \n",
       "3               3      4          50000     2             2             1   \n",
       "4               4      5          50000     1             2             1   \n",
       "...           ...    ...            ...   ...           ...           ...   \n",
       "29995       29995  29996         220000     1             3             1   \n",
       "29996       29996  29997         150000     1             3             2   \n",
       "29997       29997  29998          30000     1             2             2   \n",
       "29998       29998  29999          80000     1             3             1   \n",
       "29999       29999  30000          50000     1             2             1   \n",
       "\n",
       "       idade  status_pag_set_2005  status_pag_ago_2005  status_pag_jul_2005  \\\n",
       "0         24                    2                    2                   -1   \n",
       "1         26                   -1                    2                    0   \n",
       "2         34                    0                    0                    0   \n",
       "3         37                    0                    0                    0   \n",
       "4         57                   -1                    0                   -1   \n",
       "...      ...                  ...                  ...                  ...   \n",
       "29995     39                    0                    0                    0   \n",
       "29996     43                   -1                   -1                   -1   \n",
       "29997     37                    4                    3                    2   \n",
       "29998     41                    1                   -1                    0   \n",
       "29999     46                    0                    0                    0   \n",
       "\n",
       "       ...  extrato_jul_2005  extrato_jun_2005  extrato_mai_2005  \\\n",
       "0      ...               689                 0                 0   \n",
       "1      ...              2682              3272              3455   \n",
       "2      ...             13559             14331             14948   \n",
       "3      ...             49291             28314             28959   \n",
       "4      ...             35835             20940             19146   \n",
       "...    ...               ...               ...               ...   \n",
       "29995  ...            208365             88004             31237   \n",
       "29996  ...              3502              8979              5190   \n",
       "29997  ...              2758             20878             20582   \n",
       "29998  ...             76304             52774             11855   \n",
       "29999  ...             49764             36535             32428   \n",
       "\n",
       "       extrato_abr_2005  valor_pag_set_2005  valor_pag_ago_2005  \\\n",
       "0                     0                   0                 689   \n",
       "1                  3261                   0                1000   \n",
       "2                 15549                1518                1500   \n",
       "3                 29547                2000                2019   \n",
       "4                 19131                2000               36681   \n",
       "...                 ...                 ...                 ...   \n",
       "29995             15980                8500               20000   \n",
       "29996                 0                1837                3526   \n",
       "29997             19357                   0                   0   \n",
       "29998             48944               85900                3409   \n",
       "29999             15313                2078                1800   \n",
       "\n",
       "       valor_pag_jul_2005  valor_pag_jun_2005  valor_pag_mai_2005  \\\n",
       "0                       0                   0                   0   \n",
       "1                    1000                1000                   0   \n",
       "2                    1000                1000                1000   \n",
       "3                    1200                1100                1069   \n",
       "4                   10000                9000                 689   \n",
       "...                   ...                 ...                 ...   \n",
       "29995                5003                3047                5000   \n",
       "29996                8998                 129                   0   \n",
       "29997               22000                4200                2000   \n",
       "29998                1178                1926               52964   \n",
       "29999                1430                1000                1000   \n",
       "\n",
       "       valor_pag_abr_2005  \n",
       "0                       0  \n",
       "1                    2000  \n",
       "2                    5000  \n",
       "3                    1000  \n",
       "4                     679  \n",
       "...                   ...  \n",
       "29995                1000  \n",
       "29996                   0  \n",
       "29997                3100  \n",
       "29998                1804  \n",
       "29999                1000  \n",
       "\n",
       "[30000 rows x 25 columns]"
      ]
     },
     "execution_count": 220,
     "metadata": {},
     "output_type": "execute_result"
    }
   ],
   "source": [
    "#     Importando DataSet\n",
    "credit = pd.read_excel(r'Arquivos da Aplicação\\credit_data.xlsx')\n",
    "credit"
   ]
  },
  {
   "cell_type": "code",
   "execution_count": 221,
   "id": "e7db8237",
   "metadata": {},
   "outputs": [],
   "source": [
    "'''     Excluindo dados com escolaridade = 0, pois eles não fazem sentido no DataFrame, tendo em vista\n",
    "    que os valores da escolaridade são de 1 até 6.\n",
    "   \n",
    "   Níveis de escolaridade:\n",
    "    1 = pós-graduação\n",
    "    2 = universidade\n",
    "    3 = ensino médio\n",
    "    4 = outros\n",
    "    5 = desconhecido\n",
    "    6 = desconhecido'''\n",
    "drop_dados = credit[credit.escolaridade == 0].index\n",
    "credit.drop(drop_dados, inplace = True)"
   ]
  },
  {
   "cell_type": "code",
   "execution_count": 222,
   "id": "8495167d",
   "metadata": {},
   "outputs": [
    {
     "data": {
      "text/html": [
       "<div>\n",
       "<style scoped>\n",
       "    .dataframe tbody tr th:only-of-type {\n",
       "        vertical-align: middle;\n",
       "    }\n",
       "\n",
       "    .dataframe tbody tr th {\n",
       "        vertical-align: top;\n",
       "    }\n",
       "\n",
       "    .dataframe thead th {\n",
       "        text-align: right;\n",
       "    }\n",
       "</style>\n",
       "<table border=\"1\" class=\"dataframe\">\n",
       "  <thead>\n",
       "    <tr style=\"text-align: right;\">\n",
       "      <th></th>\n",
       "      <th>escolaridade</th>\n",
       "      <th>Unnamed: 0</th>\n",
       "      <th>ID</th>\n",
       "      <th>valor_credito</th>\n",
       "      <th>sexo</th>\n",
       "      <th>estado_civil</th>\n",
       "      <th>idade</th>\n",
       "      <th>status_pag_set_2005</th>\n",
       "      <th>status_pag_ago_2005</th>\n",
       "      <th>status_pag_jul_2005</th>\n",
       "      <th>...</th>\n",
       "      <th>extrato_jul_2005</th>\n",
       "      <th>extrato_jun_2005</th>\n",
       "      <th>extrato_mai_2005</th>\n",
       "      <th>extrato_abr_2005</th>\n",
       "      <th>valor_pag_set_2005</th>\n",
       "      <th>valor_pag_ago_2005</th>\n",
       "      <th>valor_pag_jul_2005</th>\n",
       "      <th>valor_pag_jun_2005</th>\n",
       "      <th>valor_pag_mai_2005</th>\n",
       "      <th>valor_pag_abr_2005</th>\n",
       "    </tr>\n",
       "  </thead>\n",
       "  <tbody>\n",
       "    <tr>\n",
       "      <th>0</th>\n",
       "      <td>1</td>\n",
       "      <td>14696.212187</td>\n",
       "      <td>14697.212187</td>\n",
       "      <td>212956.069910</td>\n",
       "      <td>1.588663</td>\n",
       "      <td>1.652338</td>\n",
       "      <td>34.231838</td>\n",
       "      <td>-0.233916</td>\n",
       "      <td>-0.408125</td>\n",
       "      <td>-0.425886</td>\n",
       "      <td>...</td>\n",
       "      <td>45781.689183</td>\n",
       "      <td>42931.065187</td>\n",
       "      <td>40388.891261</td>\n",
       "      <td>38668.076051</td>\n",
       "      <td>6780.933585</td>\n",
       "      <td>7306.622201</td>\n",
       "      <td>6560.585735</td>\n",
       "      <td>5804.565612</td>\n",
       "      <td>5776.562211</td>\n",
       "      <td>6422.554842</td>\n",
       "    </tr>\n",
       "    <tr>\n",
       "      <th>1</th>\n",
       "      <td>2</td>\n",
       "      <td>15023.237776</td>\n",
       "      <td>15024.237776</td>\n",
       "      <td>147062.437634</td>\n",
       "      <td>1.616964</td>\n",
       "      <td>1.523022</td>\n",
       "      <td>34.722096</td>\n",
       "      <td>0.102210</td>\n",
       "      <td>0.022523</td>\n",
       "      <td>-0.018532</td>\n",
       "      <td>...</td>\n",
       "      <td>48662.161582</td>\n",
       "      <td>44748.779758</td>\n",
       "      <td>41588.566287</td>\n",
       "      <td>40431.943835</td>\n",
       "      <td>5080.463293</td>\n",
       "      <td>5106.711333</td>\n",
       "      <td>4556.800000</td>\n",
       "      <td>4375.387313</td>\n",
       "      <td>4452.678689</td>\n",
       "      <td>4716.487028</td>\n",
       "    </tr>\n",
       "    <tr>\n",
       "      <th>2</th>\n",
       "      <td>3</td>\n",
       "      <td>15341.314013</td>\n",
       "      <td>15342.314013</td>\n",
       "      <td>126550.270490</td>\n",
       "      <td>1.595282</td>\n",
       "      <td>1.421192</td>\n",
       "      <td>40.299980</td>\n",
       "      <td>0.132805</td>\n",
       "      <td>0.040879</td>\n",
       "      <td>0.002644</td>\n",
       "      <td>...</td>\n",
       "      <td>43440.916616</td>\n",
       "      <td>38718.582266</td>\n",
       "      <td>35957.469392</td>\n",
       "      <td>34704.597315</td>\n",
       "      <td>4866.397397</td>\n",
       "      <td>5053.454139</td>\n",
       "      <td>3964.056742</td>\n",
       "      <td>3992.658532</td>\n",
       "      <td>3599.658938</td>\n",
       "      <td>3825.749034</td>\n",
       "    </tr>\n",
       "    <tr>\n",
       "      <th>3</th>\n",
       "      <td>4</td>\n",
       "      <td>18142.447154</td>\n",
       "      <td>18143.447154</td>\n",
       "      <td>220894.308943</td>\n",
       "      <td>1.658537</td>\n",
       "      <td>1.601626</td>\n",
       "      <td>33.853659</td>\n",
       "      <td>-0.504065</td>\n",
       "      <td>-0.772358</td>\n",
       "      <td>-0.764228</td>\n",
       "      <td>...</td>\n",
       "      <td>44983.804878</td>\n",
       "      <td>39570.268293</td>\n",
       "      <td>33840.113821</td>\n",
       "      <td>32136.130081</td>\n",
       "      <td>5450.512195</td>\n",
       "      <td>6555.008130</td>\n",
       "      <td>9990.626016</td>\n",
       "      <td>5104.861789</td>\n",
       "      <td>5991.642276</td>\n",
       "      <td>4284.967480</td>\n",
       "    </tr>\n",
       "    <tr>\n",
       "      <th>4</th>\n",
       "      <td>5</td>\n",
       "      <td>17442.664286</td>\n",
       "      <td>17443.664286</td>\n",
       "      <td>168164.285714</td>\n",
       "      <td>1.660714</td>\n",
       "      <td>1.475000</td>\n",
       "      <td>35.600000</td>\n",
       "      <td>-0.121429</td>\n",
       "      <td>-0.303571</td>\n",
       "      <td>-0.375000</td>\n",
       "      <td>...</td>\n",
       "      <td>71743.357143</td>\n",
       "      <td>62275.767857</td>\n",
       "      <td>53568.014286</td>\n",
       "      <td>46083.860714</td>\n",
       "      <td>5970.714286</td>\n",
       "      <td>8912.921429</td>\n",
       "      <td>7718.510714</td>\n",
       "      <td>4927.332143</td>\n",
       "      <td>4633.246429</td>\n",
       "      <td>7772.114286</td>\n",
       "    </tr>\n",
       "    <tr>\n",
       "      <th>5</th>\n",
       "      <td>6</td>\n",
       "      <td>16894.019608</td>\n",
       "      <td>16895.019608</td>\n",
       "      <td>148235.294118</td>\n",
       "      <td>1.509804</td>\n",
       "      <td>1.490196</td>\n",
       "      <td>43.901961</td>\n",
       "      <td>-0.176471</td>\n",
       "      <td>-0.313725</td>\n",
       "      <td>-0.372549</td>\n",
       "      <td>...</td>\n",
       "      <td>70586.313725</td>\n",
       "      <td>54259.490196</td>\n",
       "      <td>44510.745098</td>\n",
       "      <td>39578.509804</td>\n",
       "      <td>9780.450980</td>\n",
       "      <td>6176.431373</td>\n",
       "      <td>7644.941176</td>\n",
       "      <td>5179.490196</td>\n",
       "      <td>11691.137255</td>\n",
       "      <td>14773.901961</td>\n",
       "    </tr>\n",
       "  </tbody>\n",
       "</table>\n",
       "<p>6 rows × 25 columns</p>\n",
       "</div>"
      ],
      "text/plain": [
       "   escolaridade    Unnamed: 0            ID  valor_credito      sexo  \\\n",
       "0             1  14696.212187  14697.212187  212956.069910  1.588663   \n",
       "1             2  15023.237776  15024.237776  147062.437634  1.616964   \n",
       "2             3  15341.314013  15342.314013  126550.270490  1.595282   \n",
       "3             4  18142.447154  18143.447154  220894.308943  1.658537   \n",
       "4             5  17442.664286  17443.664286  168164.285714  1.660714   \n",
       "5             6  16894.019608  16895.019608  148235.294118  1.509804   \n",
       "\n",
       "   estado_civil      idade  status_pag_set_2005  status_pag_ago_2005  \\\n",
       "0      1.652338  34.231838            -0.233916            -0.408125   \n",
       "1      1.523022  34.722096             0.102210             0.022523   \n",
       "2      1.421192  40.299980             0.132805             0.040879   \n",
       "3      1.601626  33.853659            -0.504065            -0.772358   \n",
       "4      1.475000  35.600000            -0.121429            -0.303571   \n",
       "5      1.490196  43.901961            -0.176471            -0.313725   \n",
       "\n",
       "   status_pag_jul_2005  ...  extrato_jul_2005  extrato_jun_2005  \\\n",
       "0            -0.425886  ...      45781.689183      42931.065187   \n",
       "1            -0.018532  ...      48662.161582      44748.779758   \n",
       "2             0.002644  ...      43440.916616      38718.582266   \n",
       "3            -0.764228  ...      44983.804878      39570.268293   \n",
       "4            -0.375000  ...      71743.357143      62275.767857   \n",
       "5            -0.372549  ...      70586.313725      54259.490196   \n",
       "\n",
       "   extrato_mai_2005  extrato_abr_2005  valor_pag_set_2005  valor_pag_ago_2005  \\\n",
       "0      40388.891261      38668.076051         6780.933585         7306.622201   \n",
       "1      41588.566287      40431.943835         5080.463293         5106.711333   \n",
       "2      35957.469392      34704.597315         4866.397397         5053.454139   \n",
       "3      33840.113821      32136.130081         5450.512195         6555.008130   \n",
       "4      53568.014286      46083.860714         5970.714286         8912.921429   \n",
       "5      44510.745098      39578.509804         9780.450980         6176.431373   \n",
       "\n",
       "   valor_pag_jul_2005  valor_pag_jun_2005  valor_pag_mai_2005  \\\n",
       "0         6560.585735         5804.565612         5776.562211   \n",
       "1         4556.800000         4375.387313         4452.678689   \n",
       "2         3964.056742         3992.658532         3599.658938   \n",
       "3         9990.626016         5104.861789         5991.642276   \n",
       "4         7718.510714         4927.332143         4633.246429   \n",
       "5         7644.941176         5179.490196        11691.137255   \n",
       "\n",
       "   valor_pag_abr_2005  \n",
       "0         6422.554842  \n",
       "1         4716.487028  \n",
       "2         3825.749034  \n",
       "3         4284.967480  \n",
       "4         7772.114286  \n",
       "5        14773.901961  \n",
       "\n",
       "[6 rows x 25 columns]"
      ]
     },
     "execution_count": 222,
     "metadata": {},
     "output_type": "execute_result"
    }
   ],
   "source": [
    "#     Agrupando Dados\n",
    "credit_grouped = credit.groupby(['escolaridade']).mean().reset_index()\n",
    "\n",
    "credit_grouped"
   ]
  },
  {
   "cell_type": "code",
   "execution_count": 223,
   "id": "06598bb2",
   "metadata": {},
   "outputs": [
    {
     "data": {
      "image/png": "[encoded data removed]",
      "text/plain": [
       "<Figure size 720x576 with 1 Axes>"
      ]
     },
     "metadata": {},
     "output_type": "display_data"
    }
   ],
   "source": [
    "#     Gráfico de barras com Matplotlib\n",
    "    #    Média de crédito concedida conforme a escolaridade\n",
    "plt.figure(figsize = (10,8), facecolor= \"w\") # Configurando tamanho do gráfico\n",
    "plt.title(\"Valor de Crédito conforme a Escolaridade\") # Configurando título do Gráfico\n",
    "plt.xlabel(\"Nível de Escolaridade\") # Configurando título do eixo x\n",
    "plt.ylabel(\"Média do Valor de Crédito\") # Configurando título do eixo y\n",
    "#Configurando valores dos eixos\n",
    "plt.bar(credit_grouped.escolaridade, credit_grouped.valor_credito, color = 'Green');"
   ]
  },
  {
   "cell_type": "code",
   "execution_count": 224,
   "id": "aa22f152",
   "metadata": {},
   "outputs": [
    {
     "data": {
      "image/png": "[encoded data removed]",
      "text/plain": [
       "<Figure size 1440x1080 with 4 Axes>"
      ]
     },
     "metadata": {},
     "output_type": "display_data"
    }
   ],
   "source": [
    "#     Gráficos de barras multiplos com Seaborn\n",
    "    #     Verificando extrato bancário de acordo com o nível de escolaridade para cada mês\n",
    "fig, axes = plt.subplots(2, 2, figsize = (20, 15), facecolor = \"w\")\n",
    "sns.barplot(data = credit_grouped, x = \"escolaridade\", y = \"extrato_jun_2005\", ax = axes[0, 0])\n",
    "sns.barplot(data = credit_grouped, x = \"escolaridade\", y = \"extrato_jul_2005\", ax = axes[0, 1])\n",
    "sns.barplot(data = credit_grouped, x = \"escolaridade\", y = \"extrato_ago_2005\", ax = axes[1, 0])\n",
    "sns.barplot(data = credit_grouped, x = \"escolaridade\", y = \"extrato_set_2005\", ax = axes[1, 1]);"
   ]
  },
  {
   "cell_type": "code",
   "execution_count": 225,
   "id": "f56eeae2",
   "metadata": {},
   "outputs": [
    {
     "data": {
      "application/vnd.plotly.v1+json": {
       "config": {
        "plotlyServerURL": "https://plot.ly"
       },
       "data": [
        {
         "marker": {
          "color": "Red"
         },
         "name": "Valor Pago em Abril",
         "type": "bar",
         "x": [
          1,
          2,
          3,
          4,
          5,
          6
         ],
         "y": [
          6422.554841757204,
          4716.487027797577,
          3825.749033963799,
          4284.967479674797,
          7772.114285714286,
          14773.901960784313
         ]
        },
        {
         "marker": {
          "color": "Green"
         },
         "name": "Valor Pago em Junho",
         "type": "bar",
         "x": [
          1,
          2,
          3,
          4,
          5,
          6
         ],
         "y": [
          5804.565611714691,
          4375.387312900926,
          3992.658531624975,
          5104.861788617886,
          4927.332142857143,
          5179.490196078431
         ]
        },
        {
         "marker": {
          "color": "Blue"
         },
         "name": "Valor Pago em Julho",
         "type": "bar",
         "x": [
          1,
          2,
          3,
          4,
          5,
          6
         ],
         "y": [
          6560.5857345299955,
          4556.8,
          3964.0567419158024,
          9990.626016260163,
          7718.510714285714,
          7644.941176470588
         ]
        },
        {
         "marker": {
          "color": "Yellow"
         },
         "name": "Valor Pago em Agosto",
         "type": "bar",
         "x": [
          1,
          2,
          3,
          4,
          5,
          6
         ],
         "y": [
          7306.622201228153,
          5106.711332858161,
          5053.454138702461,
          6555.008130081301,
          8912.921428571428,
          6176.431372549019
         ]
        },
        {
         "marker": {
          "color": "Purple"
         },
         "name": "Valor Pago em Setembro",
         "type": "bar",
         "x": [
          1,
          2,
          3,
          4,
          5,
          6
         ],
         "y": [
          6780.933585262163,
          5080.463292943692,
          4866.397396786659,
          5450.512195121952,
          5970.714285714285,
          9780.450980392157
         ]
        }
       ],
       "layout": {
        "template": {
         "data": {
          "bar": [
           {
            "error_x": {
             "color": "#2a3f5f"
            },
            "error_y": {
             "color": "#2a3f5f"
            },
            "marker": {
             "line": {
              "color": "#E5ECF6",
              "width": 0.5
             },
             "pattern": {
              "fillmode": "overlay",
              "size": 10,
              "solidity": 0.2
             }
            },
            "type": "bar"
           }
          ],
          "barpolar": [
           {
            "marker": {
             "line": {
              "color": "#E5ECF6",
              "width": 0.5
             },
             "pattern": {
              "fillmode": "overlay",
              "size": 10,
              "solidity": 0.2
             }
            },
            "type": "barpolar"
           }
          ],
          "carpet": [
           {
            "aaxis": {
             "endlinecolor": "#2a3f5f",
             "gridcolor": "white",
             "linecolor": "white",
             "minorgridcolor": "white",
             "startlinecolor": "#2a3f5f"
            },
            "baxis": {
             "endlinecolor": "#2a3f5f",
             "gridcolor": "white",
             "linecolor": "white",
             "minorgridcolor": "white",
             "startlinecolor": "#2a3f5f"
            },
            "type": "carpet"
           }
          ],
          "choropleth": [
           {
            "colorbar": {
             "outlinewidth": 0,
             "ticks": ""
            },
            "type": "choropleth"
           }
          ],
          "contour": [
           {
            "colorbar": {
             "outlinewidth": 0,
             "ticks": ""
            },
            "colorscale": [
             [
              0,
              "#0d0887"
             ],
             [
              0.1111111111111111,
              "#46039f"
             ],
             [
              0.2222222222222222,
              "#7201a8"
             ],
             [
              0.3333333333333333,
              "#9c179e"
             ],
             [
              0.4444444444444444,
              "#bd3786"
             ],
             [
              0.5555555555555556,
              "#d8576b"
             ],
             [
              0.6666666666666666,
              "#ed7953"
             ],
             [
              0.7777777777777778,
              "#fb9f3a"
             ],
             [
              0.8888888888888888,
              "#fdca26"
             ],
             [
              1,
              "#f0f921"
             ]
            ],
            "type": "contour"
           }
          ],
          "contourcarpet": [
           {
            "colorbar": {
             "outlinewidth": 0,
             "ticks": ""
            },
            "type": "contourcarpet"
           }
          ],
          "heatmap": [
           {
            "colorbar": {
             "outlinewidth": 0,
             "ticks": ""
            },
            "colorscale": [
             [
              0,
              "#0d0887"
             ],
             [
              0.1111111111111111,
              "#46039f"
             ],
             [
              0.2222222222222222,
              "#7201a8"
             ],
             [
              0.3333333333333333,
              "#9c179e"
             ],
             [
              0.4444444444444444,
              "#bd3786"
             ],
             [
              0.5555555555555556,
              "#d8576b"
             ],
             [
              0.6666666666666666,
              "#ed7953"
             ],
             [
              0.7777777777777778,
              "#fb9f3a"
             ],
             [
              0.8888888888888888,
              "#fdca26"
             ],
             [
              1,
              "#f0f921"
             ]
            ],
            "type": "heatmap"
           }
          ],
          "heatmapgl": [
           {
            "colorbar": {
             "outlinewidth": 0,
             "ticks": ""
            },
            "colorscale": [
             [
              0,
              "#0d0887"
             ],
             [
              0.1111111111111111,
              "#46039f"
             ],
             [
              0.2222222222222222,
              "#7201a8"
             ],
             [
              0.3333333333333333,
              "#9c179e"
             ],
             [
              0.4444444444444444,
              "#bd3786"
             ],
             [
              0.5555555555555556,
              "#d8576b"
             ],
             [
              0.6666666666666666,
              "#ed7953"
             ],
             [
              0.7777777777777778,
              "#fb9f3a"
             ],
             [
              0.8888888888888888,
              "#fdca26"
             ],
             [
              1,
              "#f0f921"
             ]
            ],
            "type": "heatmapgl"
           }
          ],
          "histogram": [
           {
            "marker": {
             "pattern": {
              "fillmode": "overlay",
              "size": 10,
              "solidity": 0.2
             }
            },
            "type": "histogram"
           }
          ],
          "histogram2d": [
           {
            "colorbar": {
             "outlinewidth": 0,
             "ticks": ""
            },
            "colorscale": [
             [
              0,
              "#0d0887"
             ],
             [
              0.1111111111111111,
              "#46039f"
             ],
             [
              0.2222222222222222,
              "#7201a8"
             ],
             [
              0.3333333333333333,
              "#9c179e"
             ],
             [
              0.4444444444444444,
              "#bd3786"
             ],
             [
              0.5555555555555556,
              "#d8576b"
             ],
             [
              0.6666666666666666,
              "#ed7953"
             ],
             [
              0.7777777777777778,
              "#fb9f3a"
             ],
             [
              0.8888888888888888,
              "#fdca26"
             ],
             [
              1,
              "#f0f921"
             ]
            ],
            "type": "histogram2d"
           }
          ],
          "histogram2dcontour": [
           {
            "colorbar": {
             "outlinewidth": 0,
             "ticks": ""
            },
            "colorscale": [
             [
              0,
              "#0d0887"
             ],
             [
              0.1111111111111111,
              "#46039f"
             ],
             [
              0.2222222222222222,
              "#7201a8"
             ],
             [
              0.3333333333333333,
              "#9c179e"
             ],
             [
              0.4444444444444444,
              "#bd3786"
             ],
             [
              0.5555555555555556,
              "#d8576b"
             ],
             [
              0.6666666666666666,
              "#ed7953"
             ],
             [
              0.7777777777777778,
              "#fb9f3a"
             ],
             [
              0.8888888888888888,
              "#fdca26"
             ],
             [
              1,
              "#f0f921"
             ]
            ],
            "type": "histogram2dcontour"
           }
          ],
          "mesh3d": [
           {
            "colorbar": {
             "outlinewidth": 0,
             "ticks": ""
            },
            "type": "mesh3d"
           }
          ],
          "parcoords": [
           {
            "line": {
             "colorbar": {
              "outlinewidth": 0,
              "ticks": ""
             }
            },
            "type": "parcoords"
           }
          ],
          "pie": [
           {
            "automargin": true,
            "type": "pie"
           }
          ],
          "scatter": [
           {
            "marker": {
             "colorbar": {
              "outlinewidth": 0,
              "ticks": ""
             }
            },
            "type": "scatter"
           }
          ],
          "scatter3d": [
           {
            "line": {
             "colorbar": {
              "outlinewidth": 0,
              "ticks": ""
             }
            },
            "marker": {
             "colorbar": {
              "outlinewidth": 0,
              "ticks": ""
             }
            },
            "type": "scatter3d"
           }
          ],
          "scattercarpet": [
           {
            "marker": {
             "colorbar": {
              "outlinewidth": 0,
              "ticks": ""
             }
            },
            "type": "scattercarpet"
           }
          ],
          "scattergeo": [
           {
            "marker": {
             "colorbar": {
              "outlinewidth": 0,
              "ticks": ""
             }
            },
            "type": "scattergeo"
           }
          ],
          "scattergl": [
           {
            "marker": {
             "colorbar": {
              "outlinewidth": 0,
              "ticks": ""
             }
            },
            "type": "scattergl"
           }
          ],
          "scattermapbox": [
           {
            "marker": {
             "colorbar": {
              "outlinewidth": 0,
              "ticks": ""
             }
            },
            "type": "scattermapbox"
           }
          ],
          "scatterpolar": [
           {
            "marker": {
             "colorbar": {
              "outlinewidth": 0,
              "ticks": ""
             }
            },
            "type": "scatterpolar"
           }
          ],
          "scatterpolargl": [
           {
            "marker": {
             "colorbar": {
              "outlinewidth": 0,
              "ticks": ""
             }
            },
            "type": "scatterpolargl"
           }
          ],
          "scatterternary": [
           {
            "marker": {
             "colorbar": {
              "outlinewidth": 0,
              "ticks": ""
             }
            },
            "type": "scatterternary"
           }
          ],
          "surface": [
           {
            "colorbar": {
             "outlinewidth": 0,
             "ticks": ""
            },
            "colorscale": [
             [
              0,
              "#0d0887"
             ],
             [
              0.1111111111111111,
              "#46039f"
             ],
             [
              0.2222222222222222,
              "#7201a8"
             ],
             [
              0.3333333333333333,
              "#9c179e"
             ],
             [
              0.4444444444444444,
              "#bd3786"
             ],
             [
              0.5555555555555556,
              "#d8576b"
             ],
             [
              0.6666666666666666,
              "#ed7953"
             ],
             [
              0.7777777777777778,
              "#fb9f3a"
             ],
             [
              0.8888888888888888,
              "#fdca26"
             ],
             [
              1,
              "#f0f921"
             ]
            ],
            "type": "surface"
           }
          ],
          "table": [
           {
            "cells": {
             "fill": {
              "color": "#EBF0F8"
             },
             "line": {
              "color": "white"
             }
            },
            "header": {
             "fill": {
              "color": "#C8D4E3"
             },
             "line": {
              "color": "white"
             }
            },
            "type": "table"
           }
          ]
         },
         "layout": {
          "annotationdefaults": {
           "arrowcolor": "#2a3f5f",
           "arrowhead": 0,
           "arrowwidth": 1
          },
          "autotypenumbers": "strict",
          "coloraxis": {
           "colorbar": {
            "outlinewidth": 0,
            "ticks": ""
           }
          },
          "colorscale": {
           "diverging": [
            [
             0,
             "#8e0152"
            ],
            [
             0.1,
             "#c51b7d"
            ],
            [
             0.2,
             "#de77ae"
            ],
            [
             0.3,
             "#f1b6da"
            ],
            [
             0.4,
             "#fde0ef"
            ],
            [
             0.5,
             "#f7f7f7"
            ],
            [
             0.6,
             "#e6f5d0"
            ],
            [
             0.7,
             "#b8e186"
            ],
            [
             0.8,
             "#7fbc41"
            ],
            [
             0.9,
             "#4d9221"
            ],
            [
             1,
             "#276419"
            ]
           ],
           "sequential": [
            [
             0,
             "#0d0887"
            ],
            [
             0.1111111111111111,
             "#46039f"
            ],
            [
             0.2222222222222222,
             "#7201a8"
            ],
            [
             0.3333333333333333,
             "#9c179e"
            ],
            [
             0.4444444444444444,
             "#bd3786"
            ],
            [
             0.5555555555555556,
             "#d8576b"
            ],
            [
             0.6666666666666666,
             "#ed7953"
            ],
            [
             0.7777777777777778,
             "#fb9f3a"
            ],
            [
             0.8888888888888888,
             "#fdca26"
            ],
            [
             1,
             "#f0f921"
            ]
           ],
           "sequentialminus": [
            [
             0,
             "#0d0887"
            ],
            [
             0.1111111111111111,
             "#46039f"
            ],
            [
             0.2222222222222222,
             "#7201a8"
            ],
            [
             0.3333333333333333,
             "#9c179e"
            ],
            [
             0.4444444444444444,
             "#bd3786"
            ],
            [
             0.5555555555555556,
             "#d8576b"
            ],
            [
             0.6666666666666666,
             "#ed7953"
            ],
            [
             0.7777777777777778,
             "#fb9f3a"
            ],
            [
             0.8888888888888888,
             "#fdca26"
            ],
            [
             1,
             "#f0f921"
            ]
           ]
          },
          "colorway": [
           "#636efa",
           "#EF553B",
           "#00cc96",
           "#ab63fa",
           "#FFA15A",
           "#19d3f3",
           "#FF6692",
           "#B6E880",
           "#FF97FF",
           "#FECB52"
          ],
          "font": {
           "color": "#2a3f5f"
          },
          "geo": {
           "bgcolor": "white",
           "lakecolor": "white",
           "landcolor": "#E5ECF6",
           "showlakes": true,
           "showland": true,
           "subunitcolor": "white"
          },
          "hoverlabel": {
           "align": "left"
          },
          "hovermode": "closest",
          "mapbox": {
           "style": "light"
          },
          "paper_bgcolor": "white",
          "plot_bgcolor": "#E5ECF6",
          "polar": {
           "angularaxis": {
            "gridcolor": "white",
            "linecolor": "white",
            "ticks": ""
           },
           "bgcolor": "#E5ECF6",
           "radialaxis": {
            "gridcolor": "white",
            "linecolor": "white",
            "ticks": ""
           }
          },
          "scene": {
           "xaxis": {
            "backgroundcolor": "#E5ECF6",
            "gridcolor": "white",
            "gridwidth": 2,
            "linecolor": "white",
            "showbackground": true,
            "ticks": "",
            "zerolinecolor": "white"
           },
           "yaxis": {
            "backgroundcolor": "#E5ECF6",
            "gridcolor": "white",
            "gridwidth": 2,
            "linecolor": "white",
            "showbackground": true,
            "ticks": "",
            "zerolinecolor": "white"
           },
           "zaxis": {
            "backgroundcolor": "#E5ECF6",
            "gridcolor": "white",
            "gridwidth": 2,
            "linecolor": "white",
            "showbackground": true,
            "ticks": "",
            "zerolinecolor": "white"
           }
          },
          "shapedefaults": {
           "line": {
            "color": "#2a3f5f"
           }
          },
          "ternary": {
           "aaxis": {
            "gridcolor": "white",
            "linecolor": "white",
            "ticks": ""
           },
           "baxis": {
            "gridcolor": "white",
            "linecolor": "white",
            "ticks": ""
           },
           "bgcolor": "#E5ECF6",
           "caxis": {
            "gridcolor": "white",
            "linecolor": "white",
            "ticks": ""
           }
          },
          "title": {
           "x": 0.05
          },
          "xaxis": {
           "automargin": true,
           "gridcolor": "white",
           "linecolor": "white",
           "ticks": "",
           "title": {
            "standoff": 15
           },
           "zerolinecolor": "white",
           "zerolinewidth": 2
          },
          "yaxis": {
           "automargin": true,
           "gridcolor": "white",
           "linecolor": "white",
           "ticks": "",
           "title": {
            "standoff": 15
           },
           "zerolinecolor": "white",
           "zerolinewidth": 2
          }
         }
        }
       }
      },
      "text/html": [
       "<div>                            <div id=\"c39c4d8c-d840-4cfc-bddc-b569c68d6a98\" class=\"plotly-graph-div\" style=\"height:525px; width:100%;\"></div>            <script type=\"text/javascript\">                require([\"plotly\"], function(Plotly) {                    window.PLOTLYENV=window.PLOTLYENV || {};                                    if (document.getElementById(\"c39c4d8c-d840-4cfc-bddc-b569c68d6a98\")) {                    Plotly.newPlot(                        \"c39c4d8c-d840-4cfc-bddc-b569c68d6a98\",                        [{\"marker\":{\"color\":\"Red\"},\"name\":\"Valor Pago em Abril\",\"x\":[1,2,3,4,5,6],\"y\":[6422.554841757204,4716.487027797577,3825.749033963799,4284.967479674797,7772.114285714286,14773.901960784313],\"type\":\"bar\"},{\"marker\":{\"color\":\"Green\"},\"name\":\"Valor Pago em Junho\",\"x\":[1,2,3,4,5,6],\"y\":[5804.565611714691,4375.387312900926,3992.658531624975,5104.861788617886,4927.332142857143,5179.490196078431],\"type\":\"bar\"},{\"marker\":{\"color\":\"Blue\"},\"name\":\"Valor Pago em Julho\",\"x\":[1,2,3,4,5,6],\"y\":[6560.5857345299955,4556.8,3964.0567419158024,9990.626016260163,7718.510714285714,7644.941176470588],\"type\":\"bar\"},{\"marker\":{\"color\":\"Yellow\"},\"name\":\"Valor Pago em Agosto\",\"x\":[1,2,3,4,5,6],\"y\":[7306.622201228153,5106.711332858161,5053.454138702461,6555.008130081301,8912.921428571428,6176.431372549019],\"type\":\"bar\"},{\"marker\":{\"color\":\"Purple\"},\"name\":\"Valor Pago em Setembro\",\"x\":[1,2,3,4,5,6],\"y\":[6780.933585262163,5080.463292943692,4866.397396786659,5450.512195121952,5970.714285714285,9780.450980392157],\"type\":\"bar\"}],                        {\"template\":{\"data\":{\"bar\":[{\"error_x\":{\"color\":\"#2a3f5f\"},\"error_y\":{\"color\":\"#2a3f5f\"},\"marker\":{\"line\":{\"color\":\"#E5ECF6\",\"width\":0.5},\"pattern\":{\"fillmode\":\"overlay\",\"size\":10,\"solidity\":0.2}},\"type\":\"bar\"}],\"barpolar\":[{\"marker\":{\"line\":{\"color\":\"#E5ECF6\",\"width\":0.5},\"pattern\":{\"fillmode\":\"overlay\",\"size\":10,\"solidity\":0.2}},\"type\":\"barpolar\"}],\"carpet\":[{\"aaxis\":{\"endlinecolor\":\"#2a3f5f\",\"gridcolor\":\"white\",\"linecolor\":\"white\",\"minorgridcolor\":\"white\",\"startlinecolor\":\"#2a3f5f\"},\"baxis\":{\"endlinecolor\":\"#2a3f5f\",\"gridcolor\":\"white\",\"linecolor\":\"white\",\"minorgridcolor\":\"white\",\"startlinecolor\":\"#2a3f5f\"},\"type\":\"carpet\"}],\"choropleth\":[{\"colorbar\":{\"outlinewidth\":0,\"ticks\":\"\"},\"type\":\"choropleth\"}],\"contour\":[{\"colorbar\":{\"outlinewidth\":0,\"ticks\":\"\"},\"colorscale\":[[0.0,\"#0d0887\"],[0.1111111111111111,\"#46039f\"],[0.2222222222222222,\"#7201a8\"],[0.3333333333333333,\"#9c179e\"],[0.4444444444444444,\"#bd3786\"],[0.5555555555555556,\"#d8576b\"],[0.6666666666666666,\"#ed7953\"],[0.7777777777777778,\"#fb9f3a\"],[0.8888888888888888,\"#fdca26\"],[1.0,\"#f0f921\"]],\"type\":\"contour\"}],\"contourcarpet\":[{\"colorbar\":{\"outlinewidth\":0,\"ticks\":\"\"},\"type\":\"contourcarpet\"}],\"heatmap\":[{\"colorbar\":{\"outlinewidth\":0,\"ticks\":\"\"},\"colorscale\":[[0.0,\"#0d0887\"],[0.1111111111111111,\"#46039f\"],[0.2222222222222222,\"#7201a8\"],[0.3333333333333333,\"#9c179e\"],[0.4444444444444444,\"#bd3786\"],[0.5555555555555556,\"#d8576b\"],[0.6666666666666666,\"#ed7953\"],[0.7777777777777778,\"#fb9f3a\"],[0.8888888888888888,\"#fdca26\"],[1.0,\"#f0f921\"]],\"type\":\"heatmap\"}],\"heatmapgl\":[{\"colorbar\":{\"outlinewidth\":0,\"ticks\":\"\"},\"colorscale\":[[0.0,\"#0d0887\"],[0.1111111111111111,\"#46039f\"],[0.2222222222222222,\"#7201a8\"],[0.3333333333333333,\"#9c179e\"],[0.4444444444444444,\"#bd3786\"],[0.5555555555555556,\"#d8576b\"],[0.6666666666666666,\"#ed7953\"],[0.7777777777777778,\"#fb9f3a\"],[0.8888888888888888,\"#fdca26\"],[1.0,\"#f0f921\"]],\"type\":\"heatmapgl\"}],\"histogram\":[{\"marker\":{\"pattern\":{\"fillmode\":\"overlay\",\"size\":10,\"solidity\":0.2}},\"type\":\"histogram\"}],\"histogram2d\":[{\"colorbar\":{\"outlinewidth\":0,\"ticks\":\"\"},\"colorscale\":[[0.0,\"#0d0887\"],[0.1111111111111111,\"#46039f\"],[0.2222222222222222,\"#7201a8\"],[0.3333333333333333,\"#9c179e\"],[0.4444444444444444,\"#bd3786\"],[0.5555555555555556,\"#d8576b\"],[0.6666666666666666,\"#ed7953\"],[0.7777777777777778,\"#fb9f3a\"],[0.8888888888888888,\"#fdca26\"],[1.0,\"#f0f921\"]],\"type\":\"histogram2d\"}],\"histogram2dcontour\":[{\"colorbar\":{\"outlinewidth\":0,\"ticks\":\"\"},\"colorscale\":[[0.0,\"#0d0887\"],[0.1111111111111111,\"#46039f\"],[0.2222222222222222,\"#7201a8\"],[0.3333333333333333,\"#9c179e\"],[0.4444444444444444,\"#bd3786\"],[0.5555555555555556,\"#d8576b\"],[0.6666666666666666,\"#ed7953\"],[0.7777777777777778,\"#fb9f3a\"],[0.8888888888888888,\"#fdca26\"],[1.0,\"#f0f921\"]],\"type\":\"histogram2dcontour\"}],\"mesh3d\":[{\"colorbar\":{\"outlinewidth\":0,\"ticks\":\"\"},\"type\":\"mesh3d\"}],\"parcoords\":[{\"line\":{\"colorbar\":{\"outlinewidth\":0,\"ticks\":\"\"}},\"type\":\"parcoords\"}],\"pie\":[{\"automargin\":true,\"type\":\"pie\"}],\"scatter\":[{\"marker\":{\"colorbar\":{\"outlinewidth\":0,\"ticks\":\"\"}},\"type\":\"scatter\"}],\"scatter3d\":[{\"line\":{\"colorbar\":{\"outlinewidth\":0,\"ticks\":\"\"}},\"marker\":{\"colorbar\":{\"outlinewidth\":0,\"ticks\":\"\"}},\"type\":\"scatter3d\"}],\"scattercarpet\":[{\"marker\":{\"colorbar\":{\"outlinewidth\":0,\"ticks\":\"\"}},\"type\":\"scattercarpet\"}],\"scattergeo\":[{\"marker\":{\"colorbar\":{\"outlinewidth\":0,\"ticks\":\"\"}},\"type\":\"scattergeo\"}],\"scattergl\":[{\"marker\":{\"colorbar\":{\"outlinewidth\":0,\"ticks\":\"\"}},\"type\":\"scattergl\"}],\"scattermapbox\":[{\"marker\":{\"colorbar\":{\"outlinewidth\":0,\"ticks\":\"\"}},\"type\":\"scattermapbox\"}],\"scatterpolar\":[{\"marker\":{\"colorbar\":{\"outlinewidth\":0,\"ticks\":\"\"}},\"type\":\"scatterpolar\"}],\"scatterpolargl\":[{\"marker\":{\"colorbar\":{\"outlinewidth\":0,\"ticks\":\"\"}},\"type\":\"scatterpolargl\"}],\"scatterternary\":[{\"marker\":{\"colorbar\":{\"outlinewidth\":0,\"ticks\":\"\"}},\"type\":\"scatterternary\"}],\"surface\":[{\"colorbar\":{\"outlinewidth\":0,\"ticks\":\"\"},\"colorscale\":[[0.0,\"#0d0887\"],[0.1111111111111111,\"#46039f\"],[0.2222222222222222,\"#7201a8\"],[0.3333333333333333,\"#9c179e\"],[0.4444444444444444,\"#bd3786\"],[0.5555555555555556,\"#d8576b\"],[0.6666666666666666,\"#ed7953\"],[0.7777777777777778,\"#fb9f3a\"],[0.8888888888888888,\"#fdca26\"],[1.0,\"#f0f921\"]],\"type\":\"surface\"}],\"table\":[{\"cells\":{\"fill\":{\"color\":\"#EBF0F8\"},\"line\":{\"color\":\"white\"}},\"header\":{\"fill\":{\"color\":\"#C8D4E3\"},\"line\":{\"color\":\"white\"}},\"type\":\"table\"}]},\"layout\":{\"annotationdefaults\":{\"arrowcolor\":\"#2a3f5f\",\"arrowhead\":0,\"arrowwidth\":1},\"autotypenumbers\":\"strict\",\"coloraxis\":{\"colorbar\":{\"outlinewidth\":0,\"ticks\":\"\"}},\"colorscale\":{\"diverging\":[[0,\"#8e0152\"],[0.1,\"#c51b7d\"],[0.2,\"#de77ae\"],[0.3,\"#f1b6da\"],[0.4,\"#fde0ef\"],[0.5,\"#f7f7f7\"],[0.6,\"#e6f5d0\"],[0.7,\"#b8e186\"],[0.8,\"#7fbc41\"],[0.9,\"#4d9221\"],[1,\"#276419\"]],\"sequential\":[[0.0,\"#0d0887\"],[0.1111111111111111,\"#46039f\"],[0.2222222222222222,\"#7201a8\"],[0.3333333333333333,\"#9c179e\"],[0.4444444444444444,\"#bd3786\"],[0.5555555555555556,\"#d8576b\"],[0.6666666666666666,\"#ed7953\"],[0.7777777777777778,\"#fb9f3a\"],[0.8888888888888888,\"#fdca26\"],[1.0,\"#f0f921\"]],\"sequentialminus\":[[0.0,\"#0d0887\"],[0.1111111111111111,\"#46039f\"],[0.2222222222222222,\"#7201a8\"],[0.3333333333333333,\"#9c179e\"],[0.4444444444444444,\"#bd3786\"],[0.5555555555555556,\"#d8576b\"],[0.6666666666666666,\"#ed7953\"],[0.7777777777777778,\"#fb9f3a\"],[0.8888888888888888,\"#fdca26\"],[1.0,\"#f0f921\"]]},\"colorway\":[\"#636efa\",\"#EF553B\",\"#00cc96\",\"#ab63fa\",\"#FFA15A\",\"#19d3f3\",\"#FF6692\",\"#B6E880\",\"#FF97FF\",\"#FECB52\"],\"font\":{\"color\":\"#2a3f5f\"},\"geo\":{\"bgcolor\":\"white\",\"lakecolor\":\"white\",\"landcolor\":\"#E5ECF6\",\"showlakes\":true,\"showland\":true,\"subunitcolor\":\"white\"},\"hoverlabel\":{\"align\":\"left\"},\"hovermode\":\"closest\",\"mapbox\":{\"style\":\"light\"},\"paper_bgcolor\":\"white\",\"plot_bgcolor\":\"#E5ECF6\",\"polar\":{\"angularaxis\":{\"gridcolor\":\"white\",\"linecolor\":\"white\",\"ticks\":\"\"},\"bgcolor\":\"#E5ECF6\",\"radialaxis\":{\"gridcolor\":\"white\",\"linecolor\":\"white\",\"ticks\":\"\"}},\"scene\":{\"xaxis\":{\"backgroundcolor\":\"#E5ECF6\",\"gridcolor\":\"white\",\"gridwidth\":2,\"linecolor\":\"white\",\"showbackground\":true,\"ticks\":\"\",\"zerolinecolor\":\"white\"},\"yaxis\":{\"backgroundcolor\":\"#E5ECF6\",\"gridcolor\":\"white\",\"gridwidth\":2,\"linecolor\":\"white\",\"showbackground\":true,\"ticks\":\"\",\"zerolinecolor\":\"white\"},\"zaxis\":{\"backgroundcolor\":\"#E5ECF6\",\"gridcolor\":\"white\",\"gridwidth\":2,\"linecolor\":\"white\",\"showbackground\":true,\"ticks\":\"\",\"zerolinecolor\":\"white\"}},\"shapedefaults\":{\"line\":{\"color\":\"#2a3f5f\"}},\"ternary\":{\"aaxis\":{\"gridcolor\":\"white\",\"linecolor\":\"white\",\"ticks\":\"\"},\"baxis\":{\"gridcolor\":\"white\",\"linecolor\":\"white\",\"ticks\":\"\"},\"bgcolor\":\"#E5ECF6\",\"caxis\":{\"gridcolor\":\"white\",\"linecolor\":\"white\",\"ticks\":\"\"}},\"title\":{\"x\":0.05},\"xaxis\":{\"automargin\":true,\"gridcolor\":\"white\",\"linecolor\":\"white\",\"ticks\":\"\",\"title\":{\"standoff\":15},\"zerolinecolor\":\"white\",\"zerolinewidth\":2},\"yaxis\":{\"automargin\":true,\"gridcolor\":\"white\",\"linecolor\":\"white\",\"ticks\":\"\",\"title\":{\"standoff\":15},\"zerolinecolor\":\"white\",\"zerolinewidth\":2}}}},                        {\"responsive\": true}                    ).then(function(){\n",
       "                            \n",
       "var gd = document.getElementById('c39c4d8c-d840-4cfc-bddc-b569c68d6a98');\n",
       "var x = new MutationObserver(function (mutations, observer) {{\n",
       "        var display = window.getComputedStyle(gd).display;\n",
       "        if (!display || display === 'none') {{\n",
       "            console.log([gd, 'removed!']);\n",
       "            Plotly.purge(gd);\n",
       "            observer.disconnect();\n",
       "        }}\n",
       "}});\n",
       "\n",
       "// Listen for the removal of the full notebook cells\n",
       "var notebookContainer = gd.closest('#notebook-container');\n",
       "if (notebookContainer) {{\n",
       "    x.observe(notebookContainer, {childList: true});\n",
       "}}\n",
       "\n",
       "// Listen for the clearing of the current output cell\n",
       "var outputEl = gd.closest('.output');\n",
       "if (outputEl) {{\n",
       "    x.observe(outputEl, {childList: true});\n",
       "}}\n",
       "\n",
       "                        })                };                });            </script>        </div>"
      ]
     },
     "metadata": {},
     "output_type": "display_data"
    }
   ],
   "source": [
    "#     Gráfico de barras com Plotly\n",
    "    #     Valor pago nos últimos conforme escolaridade\n",
    "fig = go.Figure()\n",
    "\n",
    "fig.add_trace(go.Bar(x = credit_grouped.escolaridade, \n",
    "                     y= credit_grouped.valor_pag_abr_2005,\n",
    "                    marker_color = \"Red\",\n",
    "                    name = \"Valor Pago em Abril\"))\n",
    "fig.add_trace(go.Bar(x = credit_grouped.escolaridade, \n",
    "                     y= credit_grouped.valor_pag_jun_2005,\n",
    "                    marker_color = \"Green\",\n",
    "                    name = \"Valor Pago em Junho\"))\n",
    "fig.add_trace(go.Bar(x = credit_grouped.escolaridade, \n",
    "                     y= credit_grouped.valor_pag_jul_2005,\n",
    "                    marker_color = \"Blue\",\n",
    "                    name = \"Valor Pago em Julho\"))\n",
    "fig.add_trace(go.Bar(x = credit_grouped.escolaridade, \n",
    "                     y= credit_grouped.valor_pag_ago_2005,\n",
    "                    marker_color = \"Yellow\",\n",
    "                    name = \"Valor Pago em Agosto\"))\n",
    "fig.add_trace(go.Bar(x = credit_grouped.escolaridade, \n",
    "                     y= credit_grouped.valor_pag_set_2005,\n",
    "                    marker_color = \"Purple\",\n",
    "                    name = \"Valor Pago em Setembro\"))\n",
    "#     Editando características do gráfico\n",
    "'''fig.update_layout(title= \"Valor Pago em Cada Mês Conforme a Escolaridade\",\n",
    "                  xaxis=dict(title = \"Nível de Escolaridade\", titlefont_size = 14, tickfont_size = 12),\n",
    "                  yaxis=dict(title = \"Valor Pago\", titlefont_size = 14, tickfont_size = 12))'''\n",
    "#     Salvando Gráfico Interativo em html\n",
    "fig.write_html(r\"Arquivos da Aplicação/Valor pago por escolaridade.html\")\n",
    "#     Mostrando gráfico no output\n",
    "fig.show()"
   ]
  },
  {
   "cell_type": "markdown",
   "id": "e31c4ed5",
   "metadata": {},
   "source": [
    "    Objetivo específico: analisar a situação dos clientes (valor de crédito concedido, valor pago e extrato), nos últimos meses para o ano de 2005 de acordo com a idade."
   ]
  },
  {
   "cell_type": "code",
   "execution_count": 226,
   "id": "599d12d9",
   "metadata": {},
   "outputs": [
    {
     "data": {
      "text/html": [
       "<div>\n",
       "<style scoped>\n",
       "    .dataframe tbody tr th:only-of-type {\n",
       "        vertical-align: middle;\n",
       "    }\n",
       "\n",
       "    .dataframe tbody tr th {\n",
       "        vertical-align: top;\n",
       "    }\n",
       "\n",
       "    .dataframe thead th {\n",
       "        text-align: right;\n",
       "    }\n",
       "</style>\n",
       "<table border=\"1\" class=\"dataframe\">\n",
       "  <thead>\n",
       "    <tr style=\"text-align: right;\">\n",
       "      <th></th>\n",
       "      <th>idade</th>\n",
       "      <th>Unnamed: 0</th>\n",
       "      <th>ID</th>\n",
       "      <th>valor_credito</th>\n",
       "      <th>sexo</th>\n",
       "      <th>escolaridade</th>\n",
       "      <th>estado_civil</th>\n",
       "      <th>status_pag_set_2005</th>\n",
       "      <th>status_pag_ago_2005</th>\n",
       "      <th>status_pag_jul_2005</th>\n",
       "      <th>...</th>\n",
       "      <th>extrato_jul_2005</th>\n",
       "      <th>extrato_jun_2005</th>\n",
       "      <th>extrato_mai_2005</th>\n",
       "      <th>extrato_abr_2005</th>\n",
       "      <th>valor_pag_set_2005</th>\n",
       "      <th>valor_pag_ago_2005</th>\n",
       "      <th>valor_pag_jul_2005</th>\n",
       "      <th>valor_pag_jun_2005</th>\n",
       "      <th>valor_pag_mai_2005</th>\n",
       "      <th>valor_pag_abr_2005</th>\n",
       "    </tr>\n",
       "  </thead>\n",
       "  <tbody>\n",
       "    <tr>\n",
       "      <th>0</th>\n",
       "      <td>21</td>\n",
       "      <td>13813.104478</td>\n",
       "      <td>13814.104478</td>\n",
       "      <td>23283.582090</td>\n",
       "      <td>1.686567</td>\n",
       "      <td>2.104478</td>\n",
       "      <td>1.880597</td>\n",
       "      <td>0.194030</td>\n",
       "      <td>0.089552</td>\n",
       "      <td>0.194030</td>\n",
       "      <td>...</td>\n",
       "      <td>14515.701493</td>\n",
       "      <td>12768.373134</td>\n",
       "      <td>11055.074627</td>\n",
       "      <td>7790.910448</td>\n",
       "      <td>2085.776119</td>\n",
       "      <td>1749.716418</td>\n",
       "      <td>1179.865672</td>\n",
       "      <td>1381.865672</td>\n",
       "      <td>827.656716</td>\n",
       "      <td>568.208955</td>\n",
       "    </tr>\n",
       "    <tr>\n",
       "      <th>1</th>\n",
       "      <td>22</td>\n",
       "      <td>13798.010714</td>\n",
       "      <td>13799.010714</td>\n",
       "      <td>37928.571429</td>\n",
       "      <td>1.751786</td>\n",
       "      <td>1.969643</td>\n",
       "      <td>1.917857</td>\n",
       "      <td>0.405357</td>\n",
       "      <td>0.401786</td>\n",
       "      <td>0.346429</td>\n",
       "      <td>...</td>\n",
       "      <td>22515.450000</td>\n",
       "      <td>19718.173214</td>\n",
       "      <td>16932.230357</td>\n",
       "      <td>15539.044643</td>\n",
       "      <td>2369.537500</td>\n",
       "      <td>2408.187500</td>\n",
       "      <td>1845.053571</td>\n",
       "      <td>1743.666071</td>\n",
       "      <td>1661.521429</td>\n",
       "      <td>1542.930357</td>\n",
       "    </tr>\n",
       "    <tr>\n",
       "      <th>2</th>\n",
       "      <td>23</td>\n",
       "      <td>14261.792696</td>\n",
       "      <td>14262.792696</td>\n",
       "      <td>59752.953813</td>\n",
       "      <td>1.720730</td>\n",
       "      <td>1.888292</td>\n",
       "      <td>1.905478</td>\n",
       "      <td>0.250269</td>\n",
       "      <td>0.183673</td>\n",
       "      <td>0.131042</td>\n",
       "      <td>...</td>\n",
       "      <td>26876.412460</td>\n",
       "      <td>23830.878625</td>\n",
       "      <td>22221.128894</td>\n",
       "      <td>21363.386681</td>\n",
       "      <td>3239.650913</td>\n",
       "      <td>3167.992481</td>\n",
       "      <td>2833.618690</td>\n",
       "      <td>2633.437164</td>\n",
       "      <td>2278.273899</td>\n",
       "      <td>2668.021482</td>\n",
       "    </tr>\n",
       "    <tr>\n",
       "      <th>3</th>\n",
       "      <td>24</td>\n",
       "      <td>14149.837622</td>\n",
       "      <td>14150.837622</td>\n",
       "      <td>75661.047028</td>\n",
       "      <td>1.685004</td>\n",
       "      <td>1.842059</td>\n",
       "      <td>1.879326</td>\n",
       "      <td>0.223602</td>\n",
       "      <td>0.147294</td>\n",
       "      <td>0.110914</td>\n",
       "      <td>...</td>\n",
       "      <td>31003.772848</td>\n",
       "      <td>27955.181899</td>\n",
       "      <td>26043.818101</td>\n",
       "      <td>25660.377107</td>\n",
       "      <td>3437.509317</td>\n",
       "      <td>3456.996451</td>\n",
       "      <td>2667.676131</td>\n",
       "      <td>2734.072760</td>\n",
       "      <td>2987.842946</td>\n",
       "      <td>2745.241349</td>\n",
       "    </tr>\n",
       "    <tr>\n",
       "      <th>4</th>\n",
       "      <td>25</td>\n",
       "      <td>14540.063238</td>\n",
       "      <td>14541.063238</td>\n",
       "      <td>102731.871838</td>\n",
       "      <td>1.671164</td>\n",
       "      <td>1.779933</td>\n",
       "      <td>1.870995</td>\n",
       "      <td>0.155143</td>\n",
       "      <td>0.069140</td>\n",
       "      <td>0.087690</td>\n",
       "      <td>...</td>\n",
       "      <td>38327.632378</td>\n",
       "      <td>34916.935919</td>\n",
       "      <td>31979.716695</td>\n",
       "      <td>30657.220067</td>\n",
       "      <td>4711.833895</td>\n",
       "      <td>3721.000000</td>\n",
       "      <td>3363.674536</td>\n",
       "      <td>3640.538786</td>\n",
       "      <td>2949.698988</td>\n",
       "      <td>3636.136594</td>\n",
       "    </tr>\n",
       "    <tr>\n",
       "      <th>5</th>\n",
       "      <td>26</td>\n",
       "      <td>14592.886943</td>\n",
       "      <td>14593.886943</td>\n",
       "      <td>128813.694268</td>\n",
       "      <td>1.630573</td>\n",
       "      <td>1.773885</td>\n",
       "      <td>1.858280</td>\n",
       "      <td>0.120223</td>\n",
       "      <td>0.038217</td>\n",
       "      <td>-0.021497</td>\n",
       "      <td>...</td>\n",
       "      <td>43776.285828</td>\n",
       "      <td>39513.843949</td>\n",
       "      <td>35831.103503</td>\n",
       "      <td>34551.278662</td>\n",
       "      <td>4783.465764</td>\n",
       "      <td>4635.628185</td>\n",
       "      <td>3940.216561</td>\n",
       "      <td>3638.614650</td>\n",
       "      <td>4086.846338</td>\n",
       "      <td>4628.853503</td>\n",
       "    </tr>\n",
       "    <tr>\n",
       "      <th>6</th>\n",
       "      <td>27</td>\n",
       "      <td>14974.387271</td>\n",
       "      <td>14975.387271</td>\n",
       "      <td>147941.773866</td>\n",
       "      <td>1.641842</td>\n",
       "      <td>1.689912</td>\n",
       "      <td>1.834800</td>\n",
       "      <td>0.045362</td>\n",
       "      <td>-0.098172</td>\n",
       "      <td>-0.146242</td>\n",
       "      <td>...</td>\n",
       "      <td>46371.018957</td>\n",
       "      <td>43062.862559</td>\n",
       "      <td>40918.643873</td>\n",
       "      <td>39488.114421</td>\n",
       "      <td>5230.849695</td>\n",
       "      <td>5302.418416</td>\n",
       "      <td>4649.622207</td>\n",
       "      <td>4551.387949</td>\n",
       "      <td>4556.484766</td>\n",
       "      <td>4526.699391</td>\n",
       "    </tr>\n",
       "    <tr>\n",
       "      <th>7</th>\n",
       "      <td>28</td>\n",
       "      <td>15139.129972</td>\n",
       "      <td>15140.129972</td>\n",
       "      <td>170958.806818</td>\n",
       "      <td>1.641335</td>\n",
       "      <td>1.665483</td>\n",
       "      <td>1.798295</td>\n",
       "      <td>-0.002841</td>\n",
       "      <td>-0.104403</td>\n",
       "      <td>-0.130682</td>\n",
       "      <td>...</td>\n",
       "      <td>50055.903409</td>\n",
       "      <td>46826.700284</td>\n",
       "      <td>43557.306818</td>\n",
       "      <td>42475.941761</td>\n",
       "      <td>6151.973722</td>\n",
       "      <td>5606.740767</td>\n",
       "      <td>5787.330966</td>\n",
       "      <td>4625.855824</td>\n",
       "      <td>5139.367188</td>\n",
       "      <td>5425.638494</td>\n",
       "    </tr>\n",
       "    <tr>\n",
       "      <th>8</th>\n",
       "      <td>29</td>\n",
       "      <td>14926.917757</td>\n",
       "      <td>14927.917757</td>\n",
       "      <td>179401.869159</td>\n",
       "      <td>1.615576</td>\n",
       "      <td>1.621184</td>\n",
       "      <td>1.793769</td>\n",
       "      <td>-0.062928</td>\n",
       "      <td>-0.158255</td>\n",
       "      <td>-0.191900</td>\n",
       "      <td>...</td>\n",
       "      <td>48301.691589</td>\n",
       "      <td>44727.031776</td>\n",
       "      <td>42673.198754</td>\n",
       "      <td>42065.074143</td>\n",
       "      <td>5820.047352</td>\n",
       "      <td>5878.453583</td>\n",
       "      <td>5074.471651</td>\n",
       "      <td>5339.152025</td>\n",
       "      <td>5506.229907</td>\n",
       "      <td>4963.722118</td>\n",
       "    </tr>\n",
       "    <tr>\n",
       "      <th>9</th>\n",
       "      <td>30</td>\n",
       "      <td>15160.833453</td>\n",
       "      <td>15161.833453</td>\n",
       "      <td>189461.593683</td>\n",
       "      <td>1.597990</td>\n",
       "      <td>1.692032</td>\n",
       "      <td>1.717875</td>\n",
       "      <td>-0.086145</td>\n",
       "      <td>-0.188083</td>\n",
       "      <td>-0.192391</td>\n",
       "      <td>...</td>\n",
       "      <td>51592.762383</td>\n",
       "      <td>48100.109835</td>\n",
       "      <td>44904.565686</td>\n",
       "      <td>43738.292893</td>\n",
       "      <td>6074.815506</td>\n",
       "      <td>7668.456569</td>\n",
       "      <td>6238.377602</td>\n",
       "      <td>5582.819095</td>\n",
       "      <td>5930.862886</td>\n",
       "      <td>6408.609476</td>\n",
       "    </tr>\n",
       "    <tr>\n",
       "      <th>10</th>\n",
       "      <td>31</td>\n",
       "      <td>15676.135579</td>\n",
       "      <td>15677.135579</td>\n",
       "      <td>193755.135579</td>\n",
       "      <td>1.603122</td>\n",
       "      <td>1.674610</td>\n",
       "      <td>1.669680</td>\n",
       "      <td>-0.079704</td>\n",
       "      <td>-0.239113</td>\n",
       "      <td>-0.249795</td>\n",
       "      <td>...</td>\n",
       "      <td>49754.496302</td>\n",
       "      <td>46032.113394</td>\n",
       "      <td>42867.750205</td>\n",
       "      <td>42039.016434</td>\n",
       "      <td>5736.939195</td>\n",
       "      <td>6237.588332</td>\n",
       "      <td>5845.458505</td>\n",
       "      <td>5546.709121</td>\n",
       "      <td>5408.346754</td>\n",
       "      <td>6167.003287</td>\n",
       "    </tr>\n",
       "    <tr>\n",
       "      <th>11</th>\n",
       "      <td>32</td>\n",
       "      <td>15175.025907</td>\n",
       "      <td>15176.025907</td>\n",
       "      <td>200397.236615</td>\n",
       "      <td>1.588946</td>\n",
       "      <td>1.719344</td>\n",
       "      <td>1.607945</td>\n",
       "      <td>-0.126079</td>\n",
       "      <td>-0.227116</td>\n",
       "      <td>-0.284111</td>\n",
       "      <td>...</td>\n",
       "      <td>51436.235751</td>\n",
       "      <td>48245.441278</td>\n",
       "      <td>45370.168394</td>\n",
       "      <td>42775.381693</td>\n",
       "      <td>6518.833333</td>\n",
       "      <td>6693.841969</td>\n",
       "      <td>6335.168394</td>\n",
       "      <td>5454.658895</td>\n",
       "      <td>5070.840242</td>\n",
       "      <td>7768.040587</td>\n",
       "    </tr>\n",
       "    <tr>\n",
       "      <th>12</th>\n",
       "      <td>33</td>\n",
       "      <td>14771.164049</td>\n",
       "      <td>14772.164049</td>\n",
       "      <td>196815.008726</td>\n",
       "      <td>1.614311</td>\n",
       "      <td>1.719895</td>\n",
       "      <td>1.584642</td>\n",
       "      <td>-0.130017</td>\n",
       "      <td>-0.262653</td>\n",
       "      <td>-0.290576</td>\n",
       "      <td>...</td>\n",
       "      <td>48358.027051</td>\n",
       "      <td>45023.101222</td>\n",
       "      <td>41679.636998</td>\n",
       "      <td>39805.712914</td>\n",
       "      <td>5420.812391</td>\n",
       "      <td>7087.707679</td>\n",
       "      <td>6250.220768</td>\n",
       "      <td>5700.849040</td>\n",
       "      <td>5745.897906</td>\n",
       "      <td>6277.003490</td>\n",
       "    </tr>\n",
       "    <tr>\n",
       "      <th>13</th>\n",
       "      <td>34</td>\n",
       "      <td>15101.430293</td>\n",
       "      <td>15102.430293</td>\n",
       "      <td>199388.984509</td>\n",
       "      <td>1.593804</td>\n",
       "      <td>1.772806</td>\n",
       "      <td>1.492255</td>\n",
       "      <td>-0.126506</td>\n",
       "      <td>-0.252151</td>\n",
       "      <td>-0.244406</td>\n",
       "      <td>...</td>\n",
       "      <td>50930.549053</td>\n",
       "      <td>46674.998279</td>\n",
       "      <td>44181.892427</td>\n",
       "      <td>42675.154905</td>\n",
       "      <td>6274.706540</td>\n",
       "      <td>6572.253873</td>\n",
       "      <td>5493.368330</td>\n",
       "      <td>5786.057659</td>\n",
       "      <td>5431.170396</td>\n",
       "      <td>6284.820138</td>\n",
       "    </tr>\n",
       "    <tr>\n",
       "      <th>14</th>\n",
       "      <td>35</td>\n",
       "      <td>15333.149415</td>\n",
       "      <td>15334.149415</td>\n",
       "      <td>198226.822682</td>\n",
       "      <td>1.608461</td>\n",
       "      <td>1.776778</td>\n",
       "      <td>1.454545</td>\n",
       "      <td>-0.072007</td>\n",
       "      <td>-0.198020</td>\n",
       "      <td>-0.238524</td>\n",
       "      <td>...</td>\n",
       "      <td>52862.243024</td>\n",
       "      <td>49454.697570</td>\n",
       "      <td>45908.678668</td>\n",
       "      <td>43301.133213</td>\n",
       "      <td>6125.522952</td>\n",
       "      <td>6930.647165</td>\n",
       "      <td>6331.399640</td>\n",
       "      <td>5430.568857</td>\n",
       "      <td>5023.072007</td>\n",
       "      <td>5992.973897</td>\n",
       "    </tr>\n",
       "    <tr>\n",
       "      <th>15</th>\n",
       "      <td>36</td>\n",
       "      <td>14680.446751</td>\n",
       "      <td>14681.446751</td>\n",
       "      <td>195216.606498</td>\n",
       "      <td>1.607401</td>\n",
       "      <td>1.810469</td>\n",
       "      <td>1.421480</td>\n",
       "      <td>-0.107401</td>\n",
       "      <td>-0.268953</td>\n",
       "      <td>-0.265343</td>\n",
       "      <td>...</td>\n",
       "      <td>47636.981047</td>\n",
       "      <td>44687.816787</td>\n",
       "      <td>41882.501805</td>\n",
       "      <td>40867.385379</td>\n",
       "      <td>5992.757220</td>\n",
       "      <td>6128.349278</td>\n",
       "      <td>5314.801444</td>\n",
       "      <td>5197.907942</td>\n",
       "      <td>5419.254513</td>\n",
       "      <td>5776.472022</td>\n",
       "    </tr>\n",
       "    <tr>\n",
       "      <th>16</th>\n",
       "      <td>37</td>\n",
       "      <td>15214.073077</td>\n",
       "      <td>15215.073077</td>\n",
       "      <td>200663.461538</td>\n",
       "      <td>1.582692</td>\n",
       "      <td>1.788462</td>\n",
       "      <td>1.349038</td>\n",
       "      <td>-0.120192</td>\n",
       "      <td>-0.260577</td>\n",
       "      <td>-0.299038</td>\n",
       "      <td>...</td>\n",
       "      <td>50546.809615</td>\n",
       "      <td>46751.081731</td>\n",
       "      <td>44096.864423</td>\n",
       "      <td>42936.086538</td>\n",
       "      <td>7905.260577</td>\n",
       "      <td>7218.371154</td>\n",
       "      <td>6114.751923</td>\n",
       "      <td>5610.624038</td>\n",
       "      <td>5764.140385</td>\n",
       "      <td>5710.404808</td>\n",
       "    </tr>\n",
       "    <tr>\n",
       "      <th>17</th>\n",
       "      <td>38</td>\n",
       "      <td>15262.010604</td>\n",
       "      <td>15263.010604</td>\n",
       "      <td>192820.784730</td>\n",
       "      <td>1.550371</td>\n",
       "      <td>1.798515</td>\n",
       "      <td>1.357370</td>\n",
       "      <td>-0.111347</td>\n",
       "      <td>-0.281018</td>\n",
       "      <td>-0.316013</td>\n",
       "      <td>...</td>\n",
       "      <td>46249.921527</td>\n",
       "      <td>42934.209968</td>\n",
       "      <td>40598.202545</td>\n",
       "      <td>39308.898197</td>\n",
       "      <td>5122.004242</td>\n",
       "      <td>5694.885472</td>\n",
       "      <td>5155.712619</td>\n",
       "      <td>4491.478261</td>\n",
       "      <td>4823.954401</td>\n",
       "      <td>4358.292683</td>\n",
       "    </tr>\n",
       "    <tr>\n",
       "      <th>18</th>\n",
       "      <td>39</td>\n",
       "      <td>15147.769150</td>\n",
       "      <td>15148.769150</td>\n",
       "      <td>205813.221406</td>\n",
       "      <td>1.580273</td>\n",
       "      <td>1.913956</td>\n",
       "      <td>1.331584</td>\n",
       "      <td>-0.065058</td>\n",
       "      <td>-0.221406</td>\n",
       "      <td>-0.304302</td>\n",
       "      <td>...</td>\n",
       "      <td>55110.356768</td>\n",
       "      <td>50956.010493</td>\n",
       "      <td>48340.824764</td>\n",
       "      <td>45709.991605</td>\n",
       "      <td>6608.164743</td>\n",
       "      <td>8151.305352</td>\n",
       "      <td>5824.222455</td>\n",
       "      <td>5500.784890</td>\n",
       "      <td>5279.706191</td>\n",
       "      <td>6191.266527</td>\n",
       "    </tr>\n",
       "    <tr>\n",
       "      <th>19</th>\n",
       "      <td>40</td>\n",
       "      <td>15509.011521</td>\n",
       "      <td>15510.011521</td>\n",
       "      <td>188594.470046</td>\n",
       "      <td>1.587558</td>\n",
       "      <td>1.934332</td>\n",
       "      <td>1.314516</td>\n",
       "      <td>-0.116359</td>\n",
       "      <td>-0.236175</td>\n",
       "      <td>-0.276498</td>\n",
       "      <td>...</td>\n",
       "      <td>48474.849078</td>\n",
       "      <td>44914.034562</td>\n",
       "      <td>41757.064516</td>\n",
       "      <td>38912.868664</td>\n",
       "      <td>6381.034562</td>\n",
       "      <td>5456.914747</td>\n",
       "      <td>6208.221198</td>\n",
       "      <td>6226.813364</td>\n",
       "      <td>4737.092166</td>\n",
       "      <td>5827.472350</td>\n",
       "    </tr>\n",
       "    <tr>\n",
       "      <th>20</th>\n",
       "      <td>41</td>\n",
       "      <td>15431.066748</td>\n",
       "      <td>15432.066748</td>\n",
       "      <td>189672.330097</td>\n",
       "      <td>1.571602</td>\n",
       "      <td>1.944175</td>\n",
       "      <td>1.288835</td>\n",
       "      <td>-0.100728</td>\n",
       "      <td>-0.158981</td>\n",
       "      <td>-0.217233</td>\n",
       "      <td>...</td>\n",
       "      <td>53352.018204</td>\n",
       "      <td>48830.368932</td>\n",
       "      <td>44522.359223</td>\n",
       "      <td>42799.484223</td>\n",
       "      <td>6249.923544</td>\n",
       "      <td>6205.388350</td>\n",
       "      <td>5249.935680</td>\n",
       "      <td>5091.774272</td>\n",
       "      <td>5106.851942</td>\n",
       "      <td>4828.307039</td>\n",
       "    </tr>\n",
       "    <tr>\n",
       "      <th>21</th>\n",
       "      <td>42</td>\n",
       "      <td>14860.187657</td>\n",
       "      <td>14861.187657</td>\n",
       "      <td>187969.370277</td>\n",
       "      <td>1.585642</td>\n",
       "      <td>1.955919</td>\n",
       "      <td>1.292191</td>\n",
       "      <td>-0.002519</td>\n",
       "      <td>-0.181360</td>\n",
       "      <td>-0.215365</td>\n",
       "      <td>...</td>\n",
       "      <td>50983.555416</td>\n",
       "      <td>46097.329975</td>\n",
       "      <td>43919.263224</td>\n",
       "      <td>43802.323678</td>\n",
       "      <td>7469.342569</td>\n",
       "      <td>7700.147355</td>\n",
       "      <td>6076.350126</td>\n",
       "      <td>5931.706549</td>\n",
       "      <td>5320.347607</td>\n",
       "      <td>5648.954660</td>\n",
       "    </tr>\n",
       "    <tr>\n",
       "      <th>22</th>\n",
       "      <td>43</td>\n",
       "      <td>14956.804478</td>\n",
       "      <td>14957.804478</td>\n",
       "      <td>180850.746269</td>\n",
       "      <td>1.592537</td>\n",
       "      <td>2.011940</td>\n",
       "      <td>1.316418</td>\n",
       "      <td>-0.100000</td>\n",
       "      <td>-0.235821</td>\n",
       "      <td>-0.271642</td>\n",
       "      <td>...</td>\n",
       "      <td>46016.026866</td>\n",
       "      <td>43371.350746</td>\n",
       "      <td>39305.574627</td>\n",
       "      <td>37347.802985</td>\n",
       "      <td>5852.259701</td>\n",
       "      <td>7482.422388</td>\n",
       "      <td>5740.295522</td>\n",
       "      <td>4463.434328</td>\n",
       "      <td>4980.438806</td>\n",
       "      <td>6202.826866</td>\n",
       "    </tr>\n",
       "    <tr>\n",
       "      <th>23</th>\n",
       "      <td>44</td>\n",
       "      <td>15794.128571</td>\n",
       "      <td>15795.128571</td>\n",
       "      <td>186600.000000</td>\n",
       "      <td>1.568571</td>\n",
       "      <td>2.034286</td>\n",
       "      <td>1.311429</td>\n",
       "      <td>-0.070000</td>\n",
       "      <td>-0.194286</td>\n",
       "      <td>-0.228571</td>\n",
       "      <td>...</td>\n",
       "      <td>51849.218571</td>\n",
       "      <td>48952.910000</td>\n",
       "      <td>44534.310000</td>\n",
       "      <td>42204.865714</td>\n",
       "      <td>5951.842857</td>\n",
       "      <td>7354.101429</td>\n",
       "      <td>6739.000000</td>\n",
       "      <td>4898.247143</td>\n",
       "      <td>5630.211429</td>\n",
       "      <td>5820.688571</td>\n",
       "    </tr>\n",
       "    <tr>\n",
       "      <th>24</th>\n",
       "      <td>45</td>\n",
       "      <td>15648.537338</td>\n",
       "      <td>15649.537338</td>\n",
       "      <td>172646.103896</td>\n",
       "      <td>1.564935</td>\n",
       "      <td>2.069805</td>\n",
       "      <td>1.243506</td>\n",
       "      <td>-0.079545</td>\n",
       "      <td>-0.193182</td>\n",
       "      <td>-0.248377</td>\n",
       "      <td>...</td>\n",
       "      <td>49025.569805</td>\n",
       "      <td>43711.855519</td>\n",
       "      <td>41435.459416</td>\n",
       "      <td>39952.767857</td>\n",
       "      <td>6267.785714</td>\n",
       "      <td>5602.764610</td>\n",
       "      <td>4529.951299</td>\n",
       "      <td>5583.259740</td>\n",
       "      <td>4579.415584</td>\n",
       "      <td>5001.657468</td>\n",
       "    </tr>\n",
       "    <tr>\n",
       "      <th>25</th>\n",
       "      <td>46</td>\n",
       "      <td>15470.235088</td>\n",
       "      <td>15471.235088</td>\n",
       "      <td>175817.543860</td>\n",
       "      <td>1.571930</td>\n",
       "      <td>2.100000</td>\n",
       "      <td>1.292982</td>\n",
       "      <td>-0.019298</td>\n",
       "      <td>-0.042105</td>\n",
       "      <td>-0.117544</td>\n",
       "      <td>...</td>\n",
       "      <td>46424.166667</td>\n",
       "      <td>41390.087719</td>\n",
       "      <td>38847.429825</td>\n",
       "      <td>37508.710526</td>\n",
       "      <td>6439.168421</td>\n",
       "      <td>6619.278947</td>\n",
       "      <td>5649.747368</td>\n",
       "      <td>5368.731579</td>\n",
       "      <td>5732.619298</td>\n",
       "      <td>6480.721053</td>\n",
       "    </tr>\n",
       "    <tr>\n",
       "      <th>26</th>\n",
       "      <td>47</td>\n",
       "      <td>14980.845691</td>\n",
       "      <td>14981.845691</td>\n",
       "      <td>167815.631263</td>\n",
       "      <td>1.557114</td>\n",
       "      <td>2.066132</td>\n",
       "      <td>1.284569</td>\n",
       "      <td>-0.060120</td>\n",
       "      <td>-0.158317</td>\n",
       "      <td>-0.186373</td>\n",
       "      <td>...</td>\n",
       "      <td>46337.685371</td>\n",
       "      <td>43220.452906</td>\n",
       "      <td>39825.849699</td>\n",
       "      <td>37245.775551</td>\n",
       "      <td>5650.416834</td>\n",
       "      <td>6266.503006</td>\n",
       "      <td>7065.064128</td>\n",
       "      <td>5128.519038</td>\n",
       "      <td>4954.362725</td>\n",
       "      <td>6481.931864</td>\n",
       "    </tr>\n",
       "    <tr>\n",
       "      <th>27</th>\n",
       "      <td>48</td>\n",
       "      <td>14827.787554</td>\n",
       "      <td>14828.787554</td>\n",
       "      <td>168703.862661</td>\n",
       "      <td>1.560086</td>\n",
       "      <td>2.143777</td>\n",
       "      <td>1.343348</td>\n",
       "      <td>-0.098712</td>\n",
       "      <td>-0.193133</td>\n",
       "      <td>-0.186695</td>\n",
       "      <td>...</td>\n",
       "      <td>48953.873391</td>\n",
       "      <td>41535.343348</td>\n",
       "      <td>38419.710300</td>\n",
       "      <td>38234.081545</td>\n",
       "      <td>6078.706009</td>\n",
       "      <td>5843.066524</td>\n",
       "      <td>5606.751073</td>\n",
       "      <td>5426.697425</td>\n",
       "      <td>5743.242489</td>\n",
       "      <td>5305.188841</td>\n",
       "    </tr>\n",
       "    <tr>\n",
       "      <th>28</th>\n",
       "      <td>49</td>\n",
       "      <td>14625.254425</td>\n",
       "      <td>14626.254425</td>\n",
       "      <td>172123.893805</td>\n",
       "      <td>1.524336</td>\n",
       "      <td>2.139381</td>\n",
       "      <td>1.269912</td>\n",
       "      <td>-0.059735</td>\n",
       "      <td>-0.269912</td>\n",
       "      <td>-0.267699</td>\n",
       "      <td>...</td>\n",
       "      <td>44351.794248</td>\n",
       "      <td>39451.157080</td>\n",
       "      <td>36021.606195</td>\n",
       "      <td>35682.141593</td>\n",
       "      <td>5127.767699</td>\n",
       "      <td>7581.059735</td>\n",
       "      <td>5488.727876</td>\n",
       "      <td>4892.336283</td>\n",
       "      <td>5661.836283</td>\n",
       "      <td>4272.528761</td>\n",
       "    </tr>\n",
       "    <tr>\n",
       "      <th>29</th>\n",
       "      <td>50</td>\n",
       "      <td>15473.566910</td>\n",
       "      <td>15474.566910</td>\n",
       "      <td>180851.581509</td>\n",
       "      <td>1.574209</td>\n",
       "      <td>2.136253</td>\n",
       "      <td>1.233577</td>\n",
       "      <td>-0.051095</td>\n",
       "      <td>-0.143552</td>\n",
       "      <td>-0.175182</td>\n",
       "      <td>...</td>\n",
       "      <td>56178.598540</td>\n",
       "      <td>49600.294404</td>\n",
       "      <td>46549.369830</td>\n",
       "      <td>46514.819951</td>\n",
       "      <td>5840.082725</td>\n",
       "      <td>6469.513382</td>\n",
       "      <td>4903.982968</td>\n",
       "      <td>5281.326034</td>\n",
       "      <td>5485.175182</td>\n",
       "      <td>4238.085158</td>\n",
       "    </tr>\n",
       "    <tr>\n",
       "      <th>30</th>\n",
       "      <td>51</td>\n",
       "      <td>14923.444118</td>\n",
       "      <td>14924.444118</td>\n",
       "      <td>160558.823529</td>\n",
       "      <td>1.541176</td>\n",
       "      <td>2.141176</td>\n",
       "      <td>1.288235</td>\n",
       "      <td>-0.002941</td>\n",
       "      <td>-0.223529</td>\n",
       "      <td>-0.255882</td>\n",
       "      <td>...</td>\n",
       "      <td>46201.038235</td>\n",
       "      <td>44197.623529</td>\n",
       "      <td>40872.082353</td>\n",
       "      <td>36956.788235</td>\n",
       "      <td>4579.582353</td>\n",
       "      <td>5110.602941</td>\n",
       "      <td>6363.223529</td>\n",
       "      <td>3434.376471</td>\n",
       "      <td>3751.167647</td>\n",
       "      <td>4715.638235</td>\n",
       "    </tr>\n",
       "    <tr>\n",
       "      <th>31</th>\n",
       "      <td>52</td>\n",
       "      <td>14937.450658</td>\n",
       "      <td>14938.450658</td>\n",
       "      <td>153618.421053</td>\n",
       "      <td>1.549342</td>\n",
       "      <td>2.220395</td>\n",
       "      <td>1.368421</td>\n",
       "      <td>0.131579</td>\n",
       "      <td>0.042763</td>\n",
       "      <td>0.059211</td>\n",
       "      <td>...</td>\n",
       "      <td>50254.088816</td>\n",
       "      <td>44486.476974</td>\n",
       "      <td>40313.493421</td>\n",
       "      <td>38484.848684</td>\n",
       "      <td>4855.207237</td>\n",
       "      <td>5745.493421</td>\n",
       "      <td>6723.098684</td>\n",
       "      <td>4327.835526</td>\n",
       "      <td>4666.621711</td>\n",
       "      <td>4257.108553</td>\n",
       "    </tr>\n",
       "    <tr>\n",
       "      <th>32</th>\n",
       "      <td>53</td>\n",
       "      <td>14327.762346</td>\n",
       "      <td>14328.762346</td>\n",
       "      <td>173919.753086</td>\n",
       "      <td>1.555556</td>\n",
       "      <td>2.271605</td>\n",
       "      <td>1.283951</td>\n",
       "      <td>-0.077160</td>\n",
       "      <td>-0.203704</td>\n",
       "      <td>-0.228395</td>\n",
       "      <td>...</td>\n",
       "      <td>47322.413580</td>\n",
       "      <td>42449.407407</td>\n",
       "      <td>39742.083333</td>\n",
       "      <td>37956.660494</td>\n",
       "      <td>5849.250000</td>\n",
       "      <td>4750.305556</td>\n",
       "      <td>4009.030864</td>\n",
       "      <td>5384.435185</td>\n",
       "      <td>4139.635802</td>\n",
       "      <td>4771.981481</td>\n",
       "    </tr>\n",
       "    <tr>\n",
       "      <th>33</th>\n",
       "      <td>54</td>\n",
       "      <td>15829.951417</td>\n",
       "      <td>15830.951417</td>\n",
       "      <td>171700.404858</td>\n",
       "      <td>1.530364</td>\n",
       "      <td>2.190283</td>\n",
       "      <td>1.283401</td>\n",
       "      <td>0.000000</td>\n",
       "      <td>-0.080972</td>\n",
       "      <td>-0.109312</td>\n",
       "      <td>...</td>\n",
       "      <td>55037.761134</td>\n",
       "      <td>52096.959514</td>\n",
       "      <td>47548.643725</td>\n",
       "      <td>44859.097166</td>\n",
       "      <td>5818.809717</td>\n",
       "      <td>5471.392713</td>\n",
       "      <td>4498.356275</td>\n",
       "      <td>5504.457490</td>\n",
       "      <td>3761.477733</td>\n",
       "      <td>4306.846154</td>\n",
       "    </tr>\n",
       "    <tr>\n",
       "      <th>34</th>\n",
       "      <td>55</td>\n",
       "      <td>15675.794258</td>\n",
       "      <td>15676.794258</td>\n",
       "      <td>150956.937799</td>\n",
       "      <td>1.502392</td>\n",
       "      <td>2.244019</td>\n",
       "      <td>1.287081</td>\n",
       "      <td>0.153110</td>\n",
       "      <td>0.043062</td>\n",
       "      <td>0.047847</td>\n",
       "      <td>...</td>\n",
       "      <td>51094.301435</td>\n",
       "      <td>46803.650718</td>\n",
       "      <td>39896.296651</td>\n",
       "      <td>37839.177033</td>\n",
       "      <td>7464.636364</td>\n",
       "      <td>5968.717703</td>\n",
       "      <td>5543.038278</td>\n",
       "      <td>3223.669856</td>\n",
       "      <td>2914.301435</td>\n",
       "      <td>5491.971292</td>\n",
       "    </tr>\n",
       "    <tr>\n",
       "      <th>35</th>\n",
       "      <td>56</td>\n",
       "      <td>15833.157303</td>\n",
       "      <td>15834.157303</td>\n",
       "      <td>146910.112360</td>\n",
       "      <td>1.550562</td>\n",
       "      <td>2.219101</td>\n",
       "      <td>1.264045</td>\n",
       "      <td>0.146067</td>\n",
       "      <td>0.005618</td>\n",
       "      <td>0.011236</td>\n",
       "      <td>...</td>\n",
       "      <td>46718.511236</td>\n",
       "      <td>40543.320225</td>\n",
       "      <td>36551.044944</td>\n",
       "      <td>35146.910112</td>\n",
       "      <td>4222.696629</td>\n",
       "      <td>4242.348315</td>\n",
       "      <td>3534.353933</td>\n",
       "      <td>3776.674157</td>\n",
       "      <td>3220.994382</td>\n",
       "      <td>3006.747191</td>\n",
       "    </tr>\n",
       "    <tr>\n",
       "      <th>36</th>\n",
       "      <td>57</td>\n",
       "      <td>13873.024590</td>\n",
       "      <td>13874.024590</td>\n",
       "      <td>160819.672131</td>\n",
       "      <td>1.385246</td>\n",
       "      <td>2.163934</td>\n",
       "      <td>1.295082</td>\n",
       "      <td>-0.139344</td>\n",
       "      <td>-0.262295</td>\n",
       "      <td>-0.418033</td>\n",
       "      <td>...</td>\n",
       "      <td>44335.754098</td>\n",
       "      <td>38824.434426</td>\n",
       "      <td>37059.680328</td>\n",
       "      <td>33525.975410</td>\n",
       "      <td>5567.967213</td>\n",
       "      <td>4817.745902</td>\n",
       "      <td>4901.762295</td>\n",
       "      <td>4465.836066</td>\n",
       "      <td>3654.040984</td>\n",
       "      <td>5073.000000</td>\n",
       "    </tr>\n",
       "    <tr>\n",
       "      <th>37</th>\n",
       "      <td>58</td>\n",
       "      <td>14427.639344</td>\n",
       "      <td>14428.639344</td>\n",
       "      <td>169016.393443</td>\n",
       "      <td>1.483607</td>\n",
       "      <td>2.131148</td>\n",
       "      <td>1.221311</td>\n",
       "      <td>-0.040984</td>\n",
       "      <td>-0.065574</td>\n",
       "      <td>-0.147541</td>\n",
       "      <td>...</td>\n",
       "      <td>40092.909836</td>\n",
       "      <td>35705.967213</td>\n",
       "      <td>34674.122951</td>\n",
       "      <td>35283.393443</td>\n",
       "      <td>5874.975410</td>\n",
       "      <td>5138.237705</td>\n",
       "      <td>2262.098361</td>\n",
       "      <td>3441.934426</td>\n",
       "      <td>4030.057377</td>\n",
       "      <td>7609.909836</td>\n",
       "    </tr>\n",
       "    <tr>\n",
       "      <th>38</th>\n",
       "      <td>59</td>\n",
       "      <td>15227.855422</td>\n",
       "      <td>15228.855422</td>\n",
       "      <td>133012.048193</td>\n",
       "      <td>1.493976</td>\n",
       "      <td>2.361446</td>\n",
       "      <td>1.325301</td>\n",
       "      <td>0.313253</td>\n",
       "      <td>0.132530</td>\n",
       "      <td>0.024096</td>\n",
       "      <td>...</td>\n",
       "      <td>45096.867470</td>\n",
       "      <td>41587.807229</td>\n",
       "      <td>36680.240964</td>\n",
       "      <td>37111.638554</td>\n",
       "      <td>3651.240964</td>\n",
       "      <td>3276.216867</td>\n",
       "      <td>3582.566265</td>\n",
       "      <td>3588.385542</td>\n",
       "      <td>5299.000000</td>\n",
       "      <td>2926.156627</td>\n",
       "    </tr>\n",
       "    <tr>\n",
       "      <th>39</th>\n",
       "      <td>60</td>\n",
       "      <td>13452.059701</td>\n",
       "      <td>13453.059701</td>\n",
       "      <td>131940.298507</td>\n",
       "      <td>1.552239</td>\n",
       "      <td>2.074627</td>\n",
       "      <td>1.253731</td>\n",
       "      <td>0.164179</td>\n",
       "      <td>-0.029851</td>\n",
       "      <td>0.029851</td>\n",
       "      <td>...</td>\n",
       "      <td>39347.910448</td>\n",
       "      <td>35140.850746</td>\n",
       "      <td>32373.313433</td>\n",
       "      <td>29880.104478</td>\n",
       "      <td>3543.194030</td>\n",
       "      <td>5454.865672</td>\n",
       "      <td>2376.373134</td>\n",
       "      <td>2134.014925</td>\n",
       "      <td>2333.313433</td>\n",
       "      <td>5496.492537</td>\n",
       "    </tr>\n",
       "    <tr>\n",
       "      <th>40</th>\n",
       "      <td>61</td>\n",
       "      <td>16006.785714</td>\n",
       "      <td>16007.785714</td>\n",
       "      <td>184285.714286</td>\n",
       "      <td>1.500000</td>\n",
       "      <td>2.357143</td>\n",
       "      <td>1.250000</td>\n",
       "      <td>0.464286</td>\n",
       "      <td>-0.053571</td>\n",
       "      <td>-0.428571</td>\n",
       "      <td>...</td>\n",
       "      <td>47970.107143</td>\n",
       "      <td>42511.642857</td>\n",
       "      <td>37550.589286</td>\n",
       "      <td>38505.482143</td>\n",
       "      <td>3981.357143</td>\n",
       "      <td>3237.321429</td>\n",
       "      <td>2552.589286</td>\n",
       "      <td>3447.910714</td>\n",
       "      <td>3506.017857</td>\n",
       "      <td>2013.267857</td>\n",
       "    </tr>\n",
       "    <tr>\n",
       "      <th>41</th>\n",
       "      <td>62</td>\n",
       "      <td>14045.409091</td>\n",
       "      <td>14046.409091</td>\n",
       "      <td>157045.454545</td>\n",
       "      <td>1.386364</td>\n",
       "      <td>2.022727</td>\n",
       "      <td>1.136364</td>\n",
       "      <td>0.272727</td>\n",
       "      <td>0.000000</td>\n",
       "      <td>-0.068182</td>\n",
       "      <td>...</td>\n",
       "      <td>57119.431818</td>\n",
       "      <td>53852.022727</td>\n",
       "      <td>49990.250000</td>\n",
       "      <td>50425.295455</td>\n",
       "      <td>4515.590909</td>\n",
       "      <td>3851.954545</td>\n",
       "      <td>4504.613636</td>\n",
       "      <td>4553.409091</td>\n",
       "      <td>6168.863636</td>\n",
       "      <td>5671.454545</td>\n",
       "    </tr>\n",
       "    <tr>\n",
       "      <th>42</th>\n",
       "      <td>63</td>\n",
       "      <td>13146.580645</td>\n",
       "      <td>13147.580645</td>\n",
       "      <td>197741.935484</td>\n",
       "      <td>1.419355</td>\n",
       "      <td>2.064516</td>\n",
       "      <td>1.161290</td>\n",
       "      <td>-0.258065</td>\n",
       "      <td>-0.193548</td>\n",
       "      <td>-0.096774</td>\n",
       "      <td>...</td>\n",
       "      <td>85381.870968</td>\n",
       "      <td>82288.483871</td>\n",
       "      <td>79123.774194</td>\n",
       "      <td>71729.193548</td>\n",
       "      <td>5124.096774</td>\n",
       "      <td>7252.258065</td>\n",
       "      <td>25609.322581</td>\n",
       "      <td>4129.967742</td>\n",
       "      <td>3182.612903</td>\n",
       "      <td>3935.419355</td>\n",
       "    </tr>\n",
       "    <tr>\n",
       "      <th>43</th>\n",
       "      <td>64</td>\n",
       "      <td>15368.935484</td>\n",
       "      <td>15369.935484</td>\n",
       "      <td>232258.064516</td>\n",
       "      <td>1.483871</td>\n",
       "      <td>2.129032</td>\n",
       "      <td>1.290323</td>\n",
       "      <td>0.096774</td>\n",
       "      <td>-0.161290</td>\n",
       "      <td>-0.290323</td>\n",
       "      <td>...</td>\n",
       "      <td>65628.967742</td>\n",
       "      <td>57964.483871</td>\n",
       "      <td>57740.838710</td>\n",
       "      <td>51188.774194</td>\n",
       "      <td>3492.483871</td>\n",
       "      <td>5686.580645</td>\n",
       "      <td>3932.838710</td>\n",
       "      <td>5203.612903</td>\n",
       "      <td>3328.612903</td>\n",
       "      <td>3973.645161</td>\n",
       "    </tr>\n",
       "    <tr>\n",
       "      <th>44</th>\n",
       "      <td>65</td>\n",
       "      <td>16278.125000</td>\n",
       "      <td>16279.125000</td>\n",
       "      <td>201666.666667</td>\n",
       "      <td>1.416667</td>\n",
       "      <td>2.458333</td>\n",
       "      <td>1.250000</td>\n",
       "      <td>-0.166667</td>\n",
       "      <td>-0.541667</td>\n",
       "      <td>-0.500000</td>\n",
       "      <td>...</td>\n",
       "      <td>54455.833333</td>\n",
       "      <td>51525.208333</td>\n",
       "      <td>48467.541667</td>\n",
       "      <td>47455.958333</td>\n",
       "      <td>17672.916667</td>\n",
       "      <td>2959.958333</td>\n",
       "      <td>2659.875000</td>\n",
       "      <td>2875.500000</td>\n",
       "      <td>8976.250000</td>\n",
       "      <td>2029.000000</td>\n",
       "    </tr>\n",
       "    <tr>\n",
       "      <th>45</th>\n",
       "      <td>66</td>\n",
       "      <td>12297.480000</td>\n",
       "      <td>12298.480000</td>\n",
       "      <td>252000.000000</td>\n",
       "      <td>1.400000</td>\n",
       "      <td>2.280000</td>\n",
       "      <td>1.200000</td>\n",
       "      <td>-0.160000</td>\n",
       "      <td>-0.360000</td>\n",
       "      <td>-0.160000</td>\n",
       "      <td>...</td>\n",
       "      <td>71665.320000</td>\n",
       "      <td>78123.800000</td>\n",
       "      <td>67584.120000</td>\n",
       "      <td>75546.120000</td>\n",
       "      <td>9458.560000</td>\n",
       "      <td>5978.040000</td>\n",
       "      <td>11150.760000</td>\n",
       "      <td>5499.000000</td>\n",
       "      <td>19874.080000</td>\n",
       "      <td>10335.760000</td>\n",
       "    </tr>\n",
       "    <tr>\n",
       "      <th>46</th>\n",
       "      <td>67</td>\n",
       "      <td>13391.750000</td>\n",
       "      <td>13392.750000</td>\n",
       "      <td>198125.000000</td>\n",
       "      <td>1.437500</td>\n",
       "      <td>2.375000</td>\n",
       "      <td>1.187500</td>\n",
       "      <td>0.750000</td>\n",
       "      <td>0.500000</td>\n",
       "      <td>0.187500</td>\n",
       "      <td>...</td>\n",
       "      <td>130558.187500</td>\n",
       "      <td>129247.375000</td>\n",
       "      <td>125600.500000</td>\n",
       "      <td>124863.062500</td>\n",
       "      <td>7883.625000</td>\n",
       "      <td>10669.000000</td>\n",
       "      <td>10794.875000</td>\n",
       "      <td>6384.812500</td>\n",
       "      <td>6555.000000</td>\n",
       "      <td>16379.187500</td>\n",
       "    </tr>\n",
       "    <tr>\n",
       "      <th>47</th>\n",
       "      <td>68</td>\n",
       "      <td>10804.800000</td>\n",
       "      <td>10805.800000</td>\n",
       "      <td>192000.000000</td>\n",
       "      <td>1.400000</td>\n",
       "      <td>2.000000</td>\n",
       "      <td>1.400000</td>\n",
       "      <td>0.000000</td>\n",
       "      <td>0.000000</td>\n",
       "      <td>-0.400000</td>\n",
       "      <td>...</td>\n",
       "      <td>89207.000000</td>\n",
       "      <td>86855.600000</td>\n",
       "      <td>88802.400000</td>\n",
       "      <td>107144.200000</td>\n",
       "      <td>6254.000000</td>\n",
       "      <td>6002.800000</td>\n",
       "      <td>7214.000000</td>\n",
       "      <td>5274.800000</td>\n",
       "      <td>22892.200000</td>\n",
       "      <td>4677.600000</td>\n",
       "    </tr>\n",
       "    <tr>\n",
       "      <th>48</th>\n",
       "      <td>69</td>\n",
       "      <td>14101.600000</td>\n",
       "      <td>14102.600000</td>\n",
       "      <td>236000.000000</td>\n",
       "      <td>1.600000</td>\n",
       "      <td>2.133333</td>\n",
       "      <td>1.000000</td>\n",
       "      <td>-0.066667</td>\n",
       "      <td>-0.066667</td>\n",
       "      <td>-0.466667</td>\n",
       "      <td>...</td>\n",
       "      <td>31293.133333</td>\n",
       "      <td>30566.400000</td>\n",
       "      <td>32793.066667</td>\n",
       "      <td>30135.333333</td>\n",
       "      <td>1851.400000</td>\n",
       "      <td>2942.666667</td>\n",
       "      <td>1695.733333</td>\n",
       "      <td>5755.200000</td>\n",
       "      <td>1594.666667</td>\n",
       "      <td>1584.133333</td>\n",
       "    </tr>\n",
       "    <tr>\n",
       "      <th>49</th>\n",
       "      <td>70</td>\n",
       "      <td>13614.900000</td>\n",
       "      <td>13615.900000</td>\n",
       "      <td>208000.000000</td>\n",
       "      <td>1.600000</td>\n",
       "      <td>2.100000</td>\n",
       "      <td>1.200000</td>\n",
       "      <td>0.200000</td>\n",
       "      <td>0.000000</td>\n",
       "      <td>-0.100000</td>\n",
       "      <td>...</td>\n",
       "      <td>55670.900000</td>\n",
       "      <td>48609.000000</td>\n",
       "      <td>43921.400000</td>\n",
       "      <td>35748.100000</td>\n",
       "      <td>3256.400000</td>\n",
       "      <td>2892.900000</td>\n",
       "      <td>1967.100000</td>\n",
       "      <td>1746.900000</td>\n",
       "      <td>1326.500000</td>\n",
       "      <td>1426.700000</td>\n",
       "    </tr>\n",
       "    <tr>\n",
       "      <th>50</th>\n",
       "      <td>71</td>\n",
       "      <td>11889.333333</td>\n",
       "      <td>11890.333333</td>\n",
       "      <td>190000.000000</td>\n",
       "      <td>1.333333</td>\n",
       "      <td>1.666667</td>\n",
       "      <td>1.000000</td>\n",
       "      <td>0.000000</td>\n",
       "      <td>0.000000</td>\n",
       "      <td>0.000000</td>\n",
       "      <td>...</td>\n",
       "      <td>136220.666667</td>\n",
       "      <td>119911.666667</td>\n",
       "      <td>114167.666667</td>\n",
       "      <td>112574.000000</td>\n",
       "      <td>5304.333333</td>\n",
       "      <td>6079.666667</td>\n",
       "      <td>3389.000000</td>\n",
       "      <td>3713.000000</td>\n",
       "      <td>4701.666667</td>\n",
       "      <td>3237.666667</td>\n",
       "    </tr>\n",
       "    <tr>\n",
       "      <th>51</th>\n",
       "      <td>72</td>\n",
       "      <td>15683.333333</td>\n",
       "      <td>15684.333333</td>\n",
       "      <td>166666.666667</td>\n",
       "      <td>1.333333</td>\n",
       "      <td>3.000000</td>\n",
       "      <td>1.000000</td>\n",
       "      <td>-0.333333</td>\n",
       "      <td>-1.000000</td>\n",
       "      <td>-1.000000</td>\n",
       "      <td>...</td>\n",
       "      <td>13634.333333</td>\n",
       "      <td>15004.666667</td>\n",
       "      <td>17413.666667</td>\n",
       "      <td>14964.333333</td>\n",
       "      <td>1304.666667</td>\n",
       "      <td>1791.333333</td>\n",
       "      <td>2823.000000</td>\n",
       "      <td>4440.666667</td>\n",
       "      <td>652.000000</td>\n",
       "      <td>9077.333333</td>\n",
       "    </tr>\n",
       "    <tr>\n",
       "      <th>52</th>\n",
       "      <td>73</td>\n",
       "      <td>17357.000000</td>\n",
       "      <td>17358.000000</td>\n",
       "      <td>270000.000000</td>\n",
       "      <td>1.500000</td>\n",
       "      <td>2.500000</td>\n",
       "      <td>1.000000</td>\n",
       "      <td>-1.250000</td>\n",
       "      <td>-1.000000</td>\n",
       "      <td>-1.000000</td>\n",
       "      <td>...</td>\n",
       "      <td>51617.500000</td>\n",
       "      <td>52313.250000</td>\n",
       "      <td>55110.250000</td>\n",
       "      <td>54016.250000</td>\n",
       "      <td>2852.000000</td>\n",
       "      <td>2997.500000</td>\n",
       "      <td>2833.750000</td>\n",
       "      <td>4603.000000</td>\n",
       "      <td>3092.000000</td>\n",
       "      <td>2768.750000</td>\n",
       "    </tr>\n",
       "    <tr>\n",
       "      <th>53</th>\n",
       "      <td>74</td>\n",
       "      <td>29175.000000</td>\n",
       "      <td>29176.000000</td>\n",
       "      <td>160000.000000</td>\n",
       "      <td>2.000000</td>\n",
       "      <td>3.000000</td>\n",
       "      <td>1.000000</td>\n",
       "      <td>0.000000</td>\n",
       "      <td>0.000000</td>\n",
       "      <td>0.000000</td>\n",
       "      <td>...</td>\n",
       "      <td>66192.000000</td>\n",
       "      <td>16905.000000</td>\n",
       "      <td>0.000000</td>\n",
       "      <td>19789.000000</td>\n",
       "      <td>3783.000000</td>\n",
       "      <td>2268.000000</td>\n",
       "      <td>16905.000000</td>\n",
       "      <td>0.000000</td>\n",
       "      <td>19789.000000</td>\n",
       "      <td>26442.000000</td>\n",
       "    </tr>\n",
       "    <tr>\n",
       "      <th>54</th>\n",
       "      <td>75</td>\n",
       "      <td>16841.000000</td>\n",
       "      <td>16842.000000</td>\n",
       "      <td>213333.333333</td>\n",
       "      <td>1.333333</td>\n",
       "      <td>1.666667</td>\n",
       "      <td>1.000000</td>\n",
       "      <td>0.333333</td>\n",
       "      <td>-1.000000</td>\n",
       "      <td>-1.000000</td>\n",
       "      <td>...</td>\n",
       "      <td>67139.333333</td>\n",
       "      <td>68262.000000</td>\n",
       "      <td>70491.000000</td>\n",
       "      <td>70266.666667</td>\n",
       "      <td>3777.000000</td>\n",
       "      <td>3448.666667</td>\n",
       "      <td>3336.666667</td>\n",
       "      <td>4290.666667</td>\n",
       "      <td>2764.666667</td>\n",
       "      <td>2928.000000</td>\n",
       "    </tr>\n",
       "    <tr>\n",
       "      <th>55</th>\n",
       "      <td>79</td>\n",
       "      <td>18245.000000</td>\n",
       "      <td>18246.000000</td>\n",
       "      <td>440000.000000</td>\n",
       "      <td>1.000000</td>\n",
       "      <td>1.000000</td>\n",
       "      <td>1.000000</td>\n",
       "      <td>0.000000</td>\n",
       "      <td>0.000000</td>\n",
       "      <td>0.000000</td>\n",
       "      <td>...</td>\n",
       "      <td>447326.000000</td>\n",
       "      <td>447112.000000</td>\n",
       "      <td>438187.000000</td>\n",
       "      <td>447543.000000</td>\n",
       "      <td>15715.000000</td>\n",
       "      <td>16519.000000</td>\n",
       "      <td>16513.000000</td>\n",
       "      <td>15800.000000</td>\n",
       "      <td>16531.000000</td>\n",
       "      <td>15677.000000</td>\n",
       "    </tr>\n",
       "  </tbody>\n",
       "</table>\n",
       "<p>56 rows × 25 columns</p>\n",
       "</div>"
      ],
      "text/plain": [
       "    idade    Unnamed: 0            ID  valor_credito      sexo  escolaridade  \\\n",
       "0      21  13813.104478  13814.104478   23283.582090  1.686567      2.104478   \n",
       "1      22  13798.010714  13799.010714   37928.571429  1.751786      1.969643   \n",
       "2      23  14261.792696  14262.792696   59752.953813  1.720730      1.888292   \n",
       "3      24  14149.837622  14150.837622   75661.047028  1.685004      1.842059   \n",
       "4      25  14540.063238  14541.063238  102731.871838  1.671164      1.779933   \n",
       "5      26  14592.886943  14593.886943  128813.694268  1.630573      1.773885   \n",
       "6      27  14974.387271  14975.387271  147941.773866  1.641842      1.689912   \n",
       "7      28  15139.129972  15140.129972  170958.806818  1.641335      1.665483   \n",
       "8      29  14926.917757  14927.917757  179401.869159  1.615576      1.621184   \n",
       "9      30  15160.833453  15161.833453  189461.593683  1.597990      1.692032   \n",
       "10     31  15676.135579  15677.135579  193755.135579  1.603122      1.674610   \n",
       "11     32  15175.025907  15176.025907  200397.236615  1.588946      1.719344   \n",
       "12     33  14771.164049  14772.164049  196815.008726  1.614311      1.719895   \n",
       "13     34  15101.430293  15102.430293  199388.984509  1.593804      1.772806   \n",
       "14     35  15333.149415  15334.149415  198226.822682  1.608461      1.776778   \n",
       "15     36  14680.446751  14681.446751  195216.606498  1.607401      1.810469   \n",
       "16     37  15214.073077  15215.073077  200663.461538  1.582692      1.788462   \n",
       "17     38  15262.010604  15263.010604  192820.784730  1.550371      1.798515   \n",
       "18     39  15147.769150  15148.769150  205813.221406  1.580273      1.913956   \n",
       "19     40  15509.011521  15510.011521  188594.470046  1.587558      1.934332   \n",
       "20     41  15431.066748  15432.066748  189672.330097  1.571602      1.944175   \n",
       "21     42  14860.187657  14861.187657  187969.370277  1.585642      1.955919   \n",
       "22     43  14956.804478  14957.804478  180850.746269  1.592537      2.011940   \n",
       "23     44  15794.128571  15795.128571  186600.000000  1.568571      2.034286   \n",
       "24     45  15648.537338  15649.537338  172646.103896  1.564935      2.069805   \n",
       "25     46  15470.235088  15471.235088  175817.543860  1.571930      2.100000   \n",
       "26     47  14980.845691  14981.845691  167815.631263  1.557114      2.066132   \n",
       "27     48  14827.787554  14828.787554  168703.862661  1.560086      2.143777   \n",
       "28     49  14625.254425  14626.254425  172123.893805  1.524336      2.139381   \n",
       "29     50  15473.566910  15474.566910  180851.581509  1.574209      2.136253   \n",
       "30     51  14923.444118  14924.444118  160558.823529  1.541176      2.141176   \n",
       "31     52  14937.450658  14938.450658  153618.421053  1.549342      2.220395   \n",
       "32     53  14327.762346  14328.762346  173919.753086  1.555556      2.271605   \n",
       "33     54  15829.951417  15830.951417  171700.404858  1.530364      2.190283   \n",
       "34     55  15675.794258  15676.794258  150956.937799  1.502392      2.244019   \n",
       "35     56  15833.157303  15834.157303  146910.112360  1.550562      2.219101   \n",
       "36     57  13873.024590  13874.024590  160819.672131  1.385246      2.163934   \n",
       "37     58  14427.639344  14428.639344  169016.393443  1.483607      2.131148   \n",
       "38     59  15227.855422  15228.855422  133012.048193  1.493976      2.361446   \n",
       "39     60  13452.059701  13453.059701  131940.298507  1.552239      2.074627   \n",
       "40     61  16006.785714  16007.785714  184285.714286  1.500000      2.357143   \n",
       "41     62  14045.409091  14046.409091  157045.454545  1.386364      2.022727   \n",
       "42     63  13146.580645  13147.580645  197741.935484  1.419355      2.064516   \n",
       "43     64  15368.935484  15369.935484  232258.064516  1.483871      2.129032   \n",
       "44     65  16278.125000  16279.125000  201666.666667  1.416667      2.458333   \n",
       "45     66  12297.480000  12298.480000  252000.000000  1.400000      2.280000   \n",
       "46     67  13391.750000  13392.750000  198125.000000  1.437500      2.375000   \n",
       "47     68  10804.800000  10805.800000  192000.000000  1.400000      2.000000   \n",
       "48     69  14101.600000  14102.600000  236000.000000  1.600000      2.133333   \n",
       "49     70  13614.900000  13615.900000  208000.000000  1.600000      2.100000   \n",
       "50     71  11889.333333  11890.333333  190000.000000  1.333333      1.666667   \n",
       "51     72  15683.333333  15684.333333  166666.666667  1.333333      3.000000   \n",
       "52     73  17357.000000  17358.000000  270000.000000  1.500000      2.500000   \n",
       "53     74  29175.000000  29176.000000  160000.000000  2.000000      3.000000   \n",
       "54     75  16841.000000  16842.000000  213333.333333  1.333333      1.666667   \n",
       "55     79  18245.000000  18246.000000  440000.000000  1.000000      1.000000   \n",
       "\n",
       "    estado_civil  status_pag_set_2005  status_pag_ago_2005  \\\n",
       "0       1.880597             0.194030             0.089552   \n",
       "1       1.917857             0.405357             0.401786   \n",
       "2       1.905478             0.250269             0.183673   \n",
       "3       1.879326             0.223602             0.147294   \n",
       "4       1.870995             0.155143             0.069140   \n",
       "5       1.858280             0.120223             0.038217   \n",
       "6       1.834800             0.045362            -0.098172   \n",
       "7       1.798295            -0.002841            -0.104403   \n",
       "8       1.793769            -0.062928            -0.158255   \n",
       "9       1.717875            -0.086145            -0.188083   \n",
       "10      1.669680            -0.079704            -0.239113   \n",
       "11      1.607945            -0.126079            -0.227116   \n",
       "12      1.584642            -0.130017            -0.262653   \n",
       "13      1.492255            -0.126506            -0.252151   \n",
       "14      1.454545            -0.072007            -0.198020   \n",
       "15      1.421480            -0.107401            -0.268953   \n",
       "16      1.349038            -0.120192            -0.260577   \n",
       "17      1.357370            -0.111347            -0.281018   \n",
       "18      1.331584            -0.065058            -0.221406   \n",
       "19      1.314516            -0.116359            -0.236175   \n",
       "20      1.288835            -0.100728            -0.158981   \n",
       "21      1.292191            -0.002519            -0.181360   \n",
       "22      1.316418            -0.100000            -0.235821   \n",
       "23      1.311429            -0.070000            -0.194286   \n",
       "24      1.243506            -0.079545            -0.193182   \n",
       "25      1.292982            -0.019298            -0.042105   \n",
       "26      1.284569            -0.060120            -0.158317   \n",
       "27      1.343348            -0.098712            -0.193133   \n",
       "28      1.269912            -0.059735            -0.269912   \n",
       "29      1.233577            -0.051095            -0.143552   \n",
       "30      1.288235            -0.002941            -0.223529   \n",
       "31      1.368421             0.131579             0.042763   \n",
       "32      1.283951            -0.077160            -0.203704   \n",
       "33      1.283401             0.000000            -0.080972   \n",
       "34      1.287081             0.153110             0.043062   \n",
       "35      1.264045             0.146067             0.005618   \n",
       "36      1.295082            -0.139344            -0.262295   \n",
       "37      1.221311            -0.040984            -0.065574   \n",
       "38      1.325301             0.313253             0.132530   \n",
       "39      1.253731             0.164179            -0.029851   \n",
       "40      1.250000             0.464286            -0.053571   \n",
       "41      1.136364             0.272727             0.000000   \n",
       "42      1.161290            -0.258065            -0.193548   \n",
       "43      1.290323             0.096774            -0.161290   \n",
       "44      1.250000            -0.166667            -0.541667   \n",
       "45      1.200000            -0.160000            -0.360000   \n",
       "46      1.187500             0.750000             0.500000   \n",
       "47      1.400000             0.000000             0.000000   \n",
       "48      1.000000            -0.066667            -0.066667   \n",
       "49      1.200000             0.200000             0.000000   \n",
       "50      1.000000             0.000000             0.000000   \n",
       "51      1.000000            -0.333333            -1.000000   \n",
       "52      1.000000            -1.250000            -1.000000   \n",
       "53      1.000000             0.000000             0.000000   \n",
       "54      1.000000             0.333333            -1.000000   \n",
       "55      1.000000             0.000000             0.000000   \n",
       "\n",
       "    status_pag_jul_2005  ...  extrato_jul_2005  extrato_jun_2005  \\\n",
       "0              0.194030  ...      14515.701493      12768.373134   \n",
       "1              0.346429  ...      22515.450000      19718.173214   \n",
       "2              0.131042  ...      26876.412460      23830.878625   \n",
       "3              0.110914  ...      31003.772848      27955.181899   \n",
       "4              0.087690  ...      38327.632378      34916.935919   \n",
       "5             -0.021497  ...      43776.285828      39513.843949   \n",
       "6             -0.146242  ...      46371.018957      43062.862559   \n",
       "7             -0.130682  ...      50055.903409      46826.700284   \n",
       "8             -0.191900  ...      48301.691589      44727.031776   \n",
       "9             -0.192391  ...      51592.762383      48100.109835   \n",
       "10            -0.249795  ...      49754.496302      46032.113394   \n",
       "11            -0.284111  ...      51436.235751      48245.441278   \n",
       "12            -0.290576  ...      48358.027051      45023.101222   \n",
       "13            -0.244406  ...      50930.549053      46674.998279   \n",
       "14            -0.238524  ...      52862.243024      49454.697570   \n",
       "15            -0.265343  ...      47636.981047      44687.816787   \n",
       "16            -0.299038  ...      50546.809615      46751.081731   \n",
       "17            -0.316013  ...      46249.921527      42934.209968   \n",
       "18            -0.304302  ...      55110.356768      50956.010493   \n",
       "19            -0.276498  ...      48474.849078      44914.034562   \n",
       "20            -0.217233  ...      53352.018204      48830.368932   \n",
       "21            -0.215365  ...      50983.555416      46097.329975   \n",
       "22            -0.271642  ...      46016.026866      43371.350746   \n",
       "23            -0.228571  ...      51849.218571      48952.910000   \n",
       "24            -0.248377  ...      49025.569805      43711.855519   \n",
       "25            -0.117544  ...      46424.166667      41390.087719   \n",
       "26            -0.186373  ...      46337.685371      43220.452906   \n",
       "27            -0.186695  ...      48953.873391      41535.343348   \n",
       "28            -0.267699  ...      44351.794248      39451.157080   \n",
       "29            -0.175182  ...      56178.598540      49600.294404   \n",
       "30            -0.255882  ...      46201.038235      44197.623529   \n",
       "31             0.059211  ...      50254.088816      44486.476974   \n",
       "32            -0.228395  ...      47322.413580      42449.407407   \n",
       "33            -0.109312  ...      55037.761134      52096.959514   \n",
       "34             0.047847  ...      51094.301435      46803.650718   \n",
       "35             0.011236  ...      46718.511236      40543.320225   \n",
       "36            -0.418033  ...      44335.754098      38824.434426   \n",
       "37            -0.147541  ...      40092.909836      35705.967213   \n",
       "38             0.024096  ...      45096.867470      41587.807229   \n",
       "39             0.029851  ...      39347.910448      35140.850746   \n",
       "40            -0.428571  ...      47970.107143      42511.642857   \n",
       "41            -0.068182  ...      57119.431818      53852.022727   \n",
       "42            -0.096774  ...      85381.870968      82288.483871   \n",
       "43            -0.290323  ...      65628.967742      57964.483871   \n",
       "44            -0.500000  ...      54455.833333      51525.208333   \n",
       "45            -0.160000  ...      71665.320000      78123.800000   \n",
       "46             0.187500  ...     130558.187500     129247.375000   \n",
       "47            -0.400000  ...      89207.000000      86855.600000   \n",
       "48            -0.466667  ...      31293.133333      30566.400000   \n",
       "49            -0.100000  ...      55670.900000      48609.000000   \n",
       "50             0.000000  ...     136220.666667     119911.666667   \n",
       "51            -1.000000  ...      13634.333333      15004.666667   \n",
       "52            -1.000000  ...      51617.500000      52313.250000   \n",
       "53             0.000000  ...      66192.000000      16905.000000   \n",
       "54            -1.000000  ...      67139.333333      68262.000000   \n",
       "55             0.000000  ...     447326.000000     447112.000000   \n",
       "\n",
       "    extrato_mai_2005  extrato_abr_2005  valor_pag_set_2005  \\\n",
       "0       11055.074627       7790.910448         2085.776119   \n",
       "1       16932.230357      15539.044643         2369.537500   \n",
       "2       22221.128894      21363.386681         3239.650913   \n",
       "3       26043.818101      25660.377107         3437.509317   \n",
       "4       31979.716695      30657.220067         4711.833895   \n",
       "5       35831.103503      34551.278662         4783.465764   \n",
       "6       40918.643873      39488.114421         5230.849695   \n",
       "7       43557.306818      42475.941761         6151.973722   \n",
       "8       42673.198754      42065.074143         5820.047352   \n",
       "9       44904.565686      43738.292893         6074.815506   \n",
       "10      42867.750205      42039.016434         5736.939195   \n",
       "11      45370.168394      42775.381693         6518.833333   \n",
       "12      41679.636998      39805.712914         5420.812391   \n",
       "13      44181.892427      42675.154905         6274.706540   \n",
       "14      45908.678668      43301.133213         6125.522952   \n",
       "15      41882.501805      40867.385379         5992.757220   \n",
       "16      44096.864423      42936.086538         7905.260577   \n",
       "17      40598.202545      39308.898197         5122.004242   \n",
       "18      48340.824764      45709.991605         6608.164743   \n",
       "19      41757.064516      38912.868664         6381.034562   \n",
       "20      44522.359223      42799.484223         6249.923544   \n",
       "21      43919.263224      43802.323678         7469.342569   \n",
       "22      39305.574627      37347.802985         5852.259701   \n",
       "23      44534.310000      42204.865714         5951.842857   \n",
       "24      41435.459416      39952.767857         6267.785714   \n",
       "25      38847.429825      37508.710526         6439.168421   \n",
       "26      39825.849699      37245.775551         5650.416834   \n",
       "27      38419.710300      38234.081545         6078.706009   \n",
       "28      36021.606195      35682.141593         5127.767699   \n",
       "29      46549.369830      46514.819951         5840.082725   \n",
       "30      40872.082353      36956.788235         4579.582353   \n",
       "31      40313.493421      38484.848684         4855.207237   \n",
       "32      39742.083333      37956.660494         5849.250000   \n",
       "33      47548.643725      44859.097166         5818.809717   \n",
       "34      39896.296651      37839.177033         7464.636364   \n",
       "35      36551.044944      35146.910112         4222.696629   \n",
       "36      37059.680328      33525.975410         5567.967213   \n",
       "37      34674.122951      35283.393443         5874.975410   \n",
       "38      36680.240964      37111.638554         3651.240964   \n",
       "39      32373.313433      29880.104478         3543.194030   \n",
       "40      37550.589286      38505.482143         3981.357143   \n",
       "41      49990.250000      50425.295455         4515.590909   \n",
       "42      79123.774194      71729.193548         5124.096774   \n",
       "43      57740.838710      51188.774194         3492.483871   \n",
       "44      48467.541667      47455.958333        17672.916667   \n",
       "45      67584.120000      75546.120000         9458.560000   \n",
       "46     125600.500000     124863.062500         7883.625000   \n",
       "47      88802.400000     107144.200000         6254.000000   \n",
       "48      32793.066667      30135.333333         1851.400000   \n",
       "49      43921.400000      35748.100000         3256.400000   \n",
       "50     114167.666667     112574.000000         5304.333333   \n",
       "51      17413.666667      14964.333333         1304.666667   \n",
       "52      55110.250000      54016.250000         2852.000000   \n",
       "53          0.000000      19789.000000         3783.000000   \n",
       "54      70491.000000      70266.666667         3777.000000   \n",
       "55     438187.000000     447543.000000        15715.000000   \n",
       "\n",
       "    valor_pag_ago_2005  valor_pag_jul_2005  valor_pag_jun_2005  \\\n",
       "0          1749.716418         1179.865672         1381.865672   \n",
       "1          2408.187500         1845.053571         1743.666071   \n",
       "2          3167.992481         2833.618690         2633.437164   \n",
       "3          3456.996451         2667.676131         2734.072760   \n",
       "4          3721.000000         3363.674536         3640.538786   \n",
       "5          4635.628185         3940.216561         3638.614650   \n",
       "6          5302.418416         4649.622207         4551.387949   \n",
       "7          5606.740767         5787.330966         4625.855824   \n",
       "8          5878.453583         5074.471651         5339.152025   \n",
       "9          7668.456569         6238.377602         5582.819095   \n",
       "10         6237.588332         5845.458505         5546.709121   \n",
       "11         6693.841969         6335.168394         5454.658895   \n",
       "12         7087.707679         6250.220768         5700.849040   \n",
       "13         6572.253873         5493.368330         5786.057659   \n",
       "14         6930.647165         6331.399640         5430.568857   \n",
       "15         6128.349278         5314.801444         5197.907942   \n",
       "16         7218.371154         6114.751923         5610.624038   \n",
       "17         5694.885472         5155.712619         4491.478261   \n",
       "18         8151.305352         5824.222455         5500.784890   \n",
       "19         5456.914747         6208.221198         6226.813364   \n",
       "20         6205.388350         5249.935680         5091.774272   \n",
       "21         7700.147355         6076.350126         5931.706549   \n",
       "22         7482.422388         5740.295522         4463.434328   \n",
       "23         7354.101429         6739.000000         4898.247143   \n",
       "24         5602.764610         4529.951299         5583.259740   \n",
       "25         6619.278947         5649.747368         5368.731579   \n",
       "26         6266.503006         7065.064128         5128.519038   \n",
       "27         5843.066524         5606.751073         5426.697425   \n",
       "28         7581.059735         5488.727876         4892.336283   \n",
       "29         6469.513382         4903.982968         5281.326034   \n",
       "30         5110.602941         6363.223529         3434.376471   \n",
       "31         5745.493421         6723.098684         4327.835526   \n",
       "32         4750.305556         4009.030864         5384.435185   \n",
       "33         5471.392713         4498.356275         5504.457490   \n",
       "34         5968.717703         5543.038278         3223.669856   \n",
       "35         4242.348315         3534.353933         3776.674157   \n",
       "36         4817.745902         4901.762295         4465.836066   \n",
       "37         5138.237705         2262.098361         3441.934426   \n",
       "38         3276.216867         3582.566265         3588.385542   \n",
       "39         5454.865672         2376.373134         2134.014925   \n",
       "40         3237.321429         2552.589286         3447.910714   \n",
       "41         3851.954545         4504.613636         4553.409091   \n",
       "42         7252.258065        25609.322581         4129.967742   \n",
       "43         5686.580645         3932.838710         5203.612903   \n",
       "44         2959.958333         2659.875000         2875.500000   \n",
       "45         5978.040000        11150.760000         5499.000000   \n",
       "46        10669.000000        10794.875000         6384.812500   \n",
       "47         6002.800000         7214.000000         5274.800000   \n",
       "48         2942.666667         1695.733333         5755.200000   \n",
       "49         2892.900000         1967.100000         1746.900000   \n",
       "50         6079.666667         3389.000000         3713.000000   \n",
       "51         1791.333333         2823.000000         4440.666667   \n",
       "52         2997.500000         2833.750000         4603.000000   \n",
       "53         2268.000000        16905.000000            0.000000   \n",
       "54         3448.666667         3336.666667         4290.666667   \n",
       "55        16519.000000        16513.000000        15800.000000   \n",
       "\n",
       "    valor_pag_mai_2005  valor_pag_abr_2005  \n",
       "0           827.656716          568.208955  \n",
       "1          1661.521429         1542.930357  \n",
       "2          2278.273899         2668.021482  \n",
       "3          2987.842946         2745.241349  \n",
       "4          2949.698988         3636.136594  \n",
       "5          4086.846338         4628.853503  \n",
       "6          4556.484766         4526.699391  \n",
       "7          5139.367188         5425.638494  \n",
       "8          5506.229907         4963.722118  \n",
       "9          5930.862886         6408.609476  \n",
       "10         5408.346754         6167.003287  \n",
       "11         5070.840242         7768.040587  \n",
       "12         5745.897906         6277.003490  \n",
       "13         5431.170396         6284.820138  \n",
       "14         5023.072007         5992.973897  \n",
       "15         5419.254513         5776.472022  \n",
       "16         5764.140385         5710.404808  \n",
       "17         4823.954401         4358.292683  \n",
       "18         5279.706191         6191.266527  \n",
       "19         4737.092166         5827.472350  \n",
       "20         5106.851942         4828.307039  \n",
       "21         5320.347607         5648.954660  \n",
       "22         4980.438806         6202.826866  \n",
       "23         5630.211429         5820.688571  \n",
       "24         4579.415584         5001.657468  \n",
       "25         5732.619298         6480.721053  \n",
       "26         4954.362725         6481.931864  \n",
       "27         5743.242489         5305.188841  \n",
       "28         5661.836283         4272.528761  \n",
       "29         5485.175182         4238.085158  \n",
       "30         3751.167647         4715.638235  \n",
       "31         4666.621711         4257.108553  \n",
       "32         4139.635802         4771.981481  \n",
       "33         3761.477733         4306.846154  \n",
       "34         2914.301435         5491.971292  \n",
       "35         3220.994382         3006.747191  \n",
       "36         3654.040984         5073.000000  \n",
       "37         4030.057377         7609.909836  \n",
       "38         5299.000000         2926.156627  \n",
       "39         2333.313433         5496.492537  \n",
       "40         3506.017857         2013.267857  \n",
       "41         6168.863636         5671.454545  \n",
       "42         3182.612903         3935.419355  \n",
       "43         3328.612903         3973.645161  \n",
       "44         8976.250000         2029.000000  \n",
       "45        19874.080000        10335.760000  \n",
       "46         6555.000000        16379.187500  \n",
       "47        22892.200000         4677.600000  \n",
       "48         1594.666667         1584.133333  \n",
       "49         1326.500000         1426.700000  \n",
       "50         4701.666667         3237.666667  \n",
       "51          652.000000         9077.333333  \n",
       "52         3092.000000         2768.750000  \n",
       "53        19789.000000        26442.000000  \n",
       "54         2764.666667         2928.000000  \n",
       "55        16531.000000        15677.000000  \n",
       "\n",
       "[56 rows x 25 columns]"
      ]
     },
     "execution_count": 226,
     "metadata": {},
     "output_type": "execute_result"
    }
   ],
   "source": [
    "#     Analizando dados segundo a Idade\n",
    "    #     Agrupando dados pela idade\n",
    "credit_gp_idade = credit.groupby(['idade']).mean().reset_index()\n",
    "credit_gp_idade\n"
   ]
  },
  {
   "cell_type": "code",
   "execution_count": 227,
   "id": "e27fe611",
   "metadata": {},
   "outputs": [
    {
     "data": {
      "image/png": "[encoded data removed]",
      "text/plain": [
       "<Figure size 720x576 with 1 Axes>"
      ]
     },
     "metadata": {},
     "output_type": "display_data"
    }
   ],
   "source": [
    "#     Gráfico de linha com Matplotlib\n",
    "plt.figure(figsize = (10, 8), facecolor= \"w\")\n",
    "\n",
    "#     Título do gráfico\n",
    "plt.title(\"Valor de crédito concedido conforme a idade dos clientes:\")\n",
    "#     Título dos Eixos\n",
    "plt.xlabel(\"Idade\")\n",
    "plt.ylabel(\"Valor de Crédito\")\n",
    "\n",
    "#     Plotando gráfico com a primeira variável referente ao eixo x e a segunda ao eixo y\n",
    "plt.plot(credit_gp_idade.idade, credit_gp_idade.valor_credito);\n",
    "\n",
    "plt.grid(b = True, color = 'gray', linestyle= '--', linewidth = 0.75)"
   ]
  },
  {
   "cell_type": "code",
   "execution_count": 228,
   "id": "954dc612",
   "metadata": {},
   "outputs": [
    {
     "data": {
      "image/png": "[encoded data removed]",
      "text/plain": [
       "<Figure size 1440x1080 with 4 Axes>"
      ]
     },
     "metadata": {},
     "output_type": "display_data"
    }
   ],
   "source": [
    "#     Gráficos de linha usando Seaborn\n",
    "    #     Analisando Extrato Bancário dos Clientes\n",
    "\n",
    "#     Criando Matriz de Gráficos de 2 x 2 e  definindo tamanho\n",
    "fig, axes = plt.subplots(2, 2, figsize = (20, 15), facecolor = \"w\")\n",
    "#     Preenchendo cada plano cartesiano categorizando pelo sexo(hue =) e estilisando o gráfico\n",
    "    #     1- Masculino    2- Feminino\n",
    "sns.lineplot(data = credit, x = \"idade\", y = \"extrato_jun_2005\",\n",
    "             hue = \"sexo\", style = \"sexo\", palette = \"Set2\", ax = axes[0,0]).set(\n",
    "    title = \"Extrato de Junho de 2005 conforme a Idade\", xlabel = None, ylabel = \"Extrato de Junho\")\n",
    "sns.lineplot(data = credit, x = \"idade\", y = \"extrato_jul_2005\",\n",
    "             hue = \"sexo\", style = \"sexo\", palette = \"Set2\", ax = axes[0,1]).set(\n",
    "    title = \"Extrato de Julho de 2005 conforme a Idade\", xlabel = None, ylabel = \"Extrato de Julho\")\n",
    "sns.lineplot(data = credit, x = \"idade\", y = \"extrato_ago_2005\",\n",
    "             hue = \"sexo\", style = \"sexo\", palette = \"Set2\", ax = axes[1,0]).set(\n",
    "    title = \"Extrato de Agosto de 2005 conforme a Idade\", xlabel = \"Idade\", ylabel = \"Extrato de Agosto\")\n",
    "sns.lineplot(data = credit, x = \"idade\", y = \"extrato_set_2005\",\n",
    "             hue = \"sexo\", style = \"sexo\", palette = \"Set2\", ax = axes[1,1]).set(\n",
    "    title = \"Extrato de Setembro de 2005 conforme a Idade\", xlabel = \"Idade\", ylabel = \"Extrato de Setembro\");\n"
   ]
  },
  {
   "cell_type": "code",
   "execution_count": 309,
   "id": "00a267d9",
   "metadata": {},
   "outputs": [
    {
     "data": {
      "application/vnd.plotly.v1+json": {
       "config": {
        "plotlyServerURL": "https://plot.ly"
       },
       "data": [
        {
         "line": {
          "color": "red",
          "width": 1.5
         },
         "name": "Valor Pago em 04/2005",
         "type": "scatter",
         "x": [
          21,
          22,
          23,
          24,
          25,
          26,
          27,
          28,
          29,
          30,
          31,
          32,
          33,
          34,
          35,
          36,
          37,
          38,
          39,
          40,
          41,
          42,
          43,
          44,
          45,
          46,
          47,
          48,
          49,
          50,
          51,
          52,
          53,
          54,
          55,
          56,
          57,
          58,
          59,
          60,
          61,
          62,
          63,
          64,
          65,
          66,
          67,
          68,
          69,
          70,
          71,
          72,
          73,
          74,
          75,
          79
         ],
         "xaxis": "x",
         "y": [
          568.2089552238806,
          1542.9303571428572,
          2668.0214822771213,
          2745.2413487133986,
          3636.1365935919057,
          4628.853503184713,
          4526.699390656737,
          5425.638494318182,
          4963.722118380062,
          6408.609475951184,
          6167.003286770748,
          7768.040587219343,
          6277.003490401396,
          6284.820137693631,
          5992.973897389739,
          5776.47202166065,
          5710.404807692307,
          4358.292682926829,
          6191.266526757608,
          5827.472350230415,
          4828.3070388349515,
          5648.9546599496225,
          6202.826865671642,
          5820.688571428572,
          5001.657467532467,
          6480.721052631579,
          6481.931863727455,
          5305.188841201717,
          4272.528761061947,
          4238.085158150851,
          4715.638235294117,
          4257.108552631579,
          4771.981481481482,
          4306.846153846154,
          5491.971291866029,
          3006.747191011236,
          5073,
          7609.9098360655735,
          2926.156626506024,
          5496.492537313433,
          2013.267857142857,
          5671.454545454545,
          3935.4193548387098,
          3973.6451612903224,
          2029,
          10335.76,
          16379.1875,
          4677.6,
          1584.1333333333334,
          1426.7,
          3237.6666666666665,
          9077.333333333334,
          2768.75,
          26442,
          2928,
          15677
         ],
         "yaxis": "y"
        },
        {
         "line": {
          "color": "blue",
          "width": 1.5
         },
         "name": "Valor Pago em 05/2005",
         "type": "scatter",
         "x": [
          21,
          22,
          23,
          24,
          25,
          26,
          27,
          28,
          29,
          30,
          31,
          32,
          33,
          34,
          35,
          36,
          37,
          38,
          39,
          40,
          41,
          42,
          43,
          44,
          45,
          46,
          47,
          48,
          49,
          50,
          51,
          52,
          53,
          54,
          55,
          56,
          57,
          58,
          59,
          60,
          61,
          62,
          63,
          64,
          65,
          66,
          67,
          68,
          69,
          70,
          71,
          72,
          73,
          74,
          75,
          79
         ],
         "xaxis": "x2",
         "y": [
          827.6567164179105,
          1661.5214285714285,
          2278.2738990332973,
          2987.842945874002,
          2949.6989881956156,
          4086.8463375796177,
          4556.484766418415,
          5139.3671875,
          5506.229906542056,
          5930.86288585786,
          5408.346754313887,
          5070.840241796201,
          5745.897905759162,
          5431.170395869191,
          5023.07200720072,
          5419.254512635379,
          5764.140384615384,
          4823.954400848356,
          5279.706190975866,
          4737.092165898617,
          5106.851941747573,
          5320.347607052897,
          4980.43880597015,
          5630.211428571429,
          4579.415584415585,
          5732.619298245614,
          4954.362725450902,
          5743.242489270387,
          5661.83628318584,
          5485.175182481752,
          3751.1676470588236,
          4666.621710526316,
          4139.635802469136,
          3761.477732793522,
          2914.3014354066986,
          3220.994382022472,
          3654.0409836065573,
          4030.05737704918,
          5299,
          2333.313432835821,
          3506.0178571428573,
          6168.863636363636,
          3182.6129032258063,
          3328.6129032258063,
          8976.25,
          19874.08,
          6555,
          22892.2,
          1594.6666666666667,
          1326.5,
          4701.666666666667,
          652,
          3092,
          19789,
          2764.6666666666665,
          16531
         ],
         "yaxis": "y2"
        },
        {
         "line": {
          "color": "green",
          "width": 1.5
         },
         "name": "Valor Pago em 06/2005",
         "type": "scatter",
         "x": [
          21,
          22,
          23,
          24,
          25,
          26,
          27,
          28,
          29,
          30,
          31,
          32,
          33,
          34,
          35,
          36,
          37,
          38,
          39,
          40,
          41,
          42,
          43,
          44,
          45,
          46,
          47,
          48,
          49,
          50,
          51,
          52,
          53,
          54,
          55,
          56,
          57,
          58,
          59,
          60,
          61,
          62,
          63,
          64,
          65,
          66,
          67,
          68,
          69,
          70,
          71,
          72,
          73,
          74,
          75,
          79
         ],
         "xaxis": "x3",
         "y": [
          1381.865671641791,
          1743.6660714285715,
          2633.43716433942,
          2734.072759538598,
          3640.5387858347385,
          3638.6146496815286,
          4551.387948544347,
          4625.855823863636,
          5339.1520249221185,
          5582.819095477387,
          5546.709120788825,
          5454.6588946459415,
          5700.849040139616,
          5786.057659208262,
          5430.568856885689,
          5197.907942238267,
          5610.6240384615385,
          4491.478260869565,
          5500.784889821616,
          6226.8133640553,
          5091.77427184466,
          5931.706549118388,
          4463.434328358209,
          4898.2471428571425,
          5583.25974025974,
          5368.731578947369,
          5128.519038076152,
          5426.697424892704,
          4892.33628318584,
          5281.3260340632605,
          3434.3764705882354,
          4327.835526315789,
          5384.435185185185,
          5504.457489878542,
          3223.6698564593303,
          3776.674157303371,
          4465.836065573771,
          3441.934426229508,
          3588.385542168675,
          2134.0149253731342,
          3447.910714285714,
          4553.409090909091,
          4129.967741935484,
          5203.612903225807,
          2875.5,
          5499,
          6384.8125,
          5274.8,
          5755.2,
          1746.9,
          3713,
          4440.666666666667,
          4603,
          0,
          4290.666666666667,
          15800
         ],
         "yaxis": "y3"
        },
        {
         "line": {
          "color": "purple",
          "width": 1.5
         },
         "name": "Valor Pago em 07/2005",
         "type": "scatter",
         "x": [
          21,
          22,
          23,
          24,
          25,
          26,
          27,
          28,
          29,
          30,
          31,
          32,
          33,
          34,
          35,
          36,
          37,
          38,
          39,
          40,
          41,
          42,
          43,
          44,
          45,
          46,
          47,
          48,
          49,
          50,
          51,
          52,
          53,
          54,
          55,
          56,
          57,
          58,
          59,
          60,
          61,
          62,
          63,
          64,
          65,
          66,
          67,
          68,
          69,
          70,
          71,
          72,
          73,
          74,
          75,
          79
         ],
         "xaxis": "x4",
         "y": [
          1179.865671641791,
          1845.0535714285713,
          2833.6186895810956,
          2667.676131322094,
          3363.674536256324,
          3940.2165605095543,
          4649.62220717671,
          5787.330965909091,
          5074.471651090343,
          6238.377602297201,
          5845.45850451931,
          6335.168393782384,
          6250.220767888307,
          5493.368330464716,
          6331.399639963996,
          5314.801444043322,
          6114.751923076923,
          5155.712619300106,
          5824.222455403988,
          6208.2211981566825,
          5249.935679611651,
          6076.350125944585,
          5740.29552238806,
          6739,
          4529.951298701299,
          5649.747368421053,
          7065.064128256513,
          5606.751072961373,
          5488.727876106194,
          4903.98296836983,
          6363.2235294117645,
          6723.098684210527,
          4009.0308641975307,
          4498.356275303644,
          5543.0382775119615,
          3534.35393258427,
          4901.762295081967,
          2262.098360655738,
          3582.5662650602408,
          2376.373134328358,
          2552.589285714286,
          4504.613636363636,
          25609.322580645163,
          3932.8387096774195,
          2659.875,
          11150.76,
          10794.875,
          7214,
          1695.7333333333333,
          1967.1,
          3389,
          2823,
          2833.75,
          16905,
          3336.6666666666665,
          16513
         ],
         "yaxis": "y4"
        },
        {
         "line": {
          "color": "yellow",
          "width": 1.5
         },
         "name": "Valor Pago em 08/2005",
         "type": "scatter",
         "x": [
          21,
          22,
          23,
          24,
          25,
          26,
          27,
          28,
          29,
          30,
          31,
          32,
          33,
          34,
          35,
          36,
          37,
          38,
          39,
          40,
          41,
          42,
          43,
          44,
          45,
          46,
          47,
          48,
          49,
          50,
          51,
          52,
          53,
          54,
          55,
          56,
          57,
          58,
          59,
          60,
          61,
          62,
          63,
          64,
          65,
          66,
          67,
          68,
          69,
          70,
          71,
          72,
          73,
          74,
          75,
          79
         ],
         "xaxis": "x5",
         "y": [
          1749.7164179104477,
          2408.1875,
          3167.9924812030076,
          3456.996450754215,
          3721,
          4635.628184713376,
          5302.418415707515,
          5606.740767045455,
          5878.453582554517,
          7668.4565685570715,
          6237.588331963845,
          6693.841968911917,
          7087.707678883072,
          6572.2538726333905,
          6930.647164716472,
          6128.349277978339,
          7218.371153846154,
          5694.8854718981975,
          8151.305351521511,
          5456.914746543779,
          6205.388349514563,
          7700.147355163728,
          7482.422388059702,
          7354.101428571428,
          5602.76461038961,
          6619.278947368421,
          6266.503006012024,
          5843.06652360515,
          7581.059734513275,
          6469.513381995133,
          5110.60294117647,
          5745.493421052632,
          4750.305555555556,
          5471.392712550607,
          5968.717703349283,
          4242.348314606742,
          4817.745901639344,
          5138.237704918033,
          3276.2168674698796,
          5454.865671641791,
          3237.3214285714284,
          3851.9545454545455,
          7252.258064516129,
          5686.580645161291,
          2959.9583333333335,
          5978.04,
          10669,
          6002.8,
          2942.6666666666665,
          2892.9,
          6079.666666666667,
          1791.3333333333333,
          2997.5,
          2268,
          3448.6666666666665,
          16519
         ],
         "yaxis": "y5"
        },
        {
         "line": {
          "color": "#FF0092",
          "width": 1.5
         },
         "name": "Valor Pago em 09/2005",
         "type": "scatter",
         "x": [
          21,
          22,
          23,
          24,
          25,
          26,
          27,
          28,
          29,
          30,
          31,
          32,
          33,
          34,
          35,
          36,
          37,
          38,
          39,
          40,
          41,
          42,
          43,
          44,
          45,
          46,
          47,
          48,
          49,
          50,
          51,
          52,
          53,
          54,
          55,
          56,
          57,
          58,
          59,
          60,
          61,
          62,
          63,
          64,
          65,
          66,
          67,
          68,
          69,
          70,
          71,
          72,
          73,
          74,
          75,
          79
         ],
         "xaxis": "x6",
         "y": [
          2085.776119402985,
          2369.5375,
          3239.6509129967776,
          3437.509316770186,
          4711.83389544688,
          4783.46576433121,
          5230.849695328368,
          6151.973721590909,
          5820.0473520249225,
          6074.815506101938,
          5736.939194741167,
          6518.833333333333,
          5420.812390924956,
          6274.706540447504,
          6125.5229522952295,
          5992.757220216607,
          7905.260576923077,
          5122.004241781548,
          6608.1647429171035,
          6381.034562211981,
          6249.9235436893205,
          7469.342569269522,
          5852.259701492538,
          5951.842857142857,
          6267.785714285715,
          6439.168421052632,
          5650.416833667335,
          6078.706008583691,
          5127.767699115044,
          5840.082725060827,
          4579.582352941176,
          4855.207236842105,
          5849.25,
          5818.80971659919,
          7464.636363636364,
          4222.696629213483,
          5567.9672131147545,
          5874.975409836065,
          3651.240963855422,
          3543.194029850746,
          3981.3571428571427,
          4515.590909090909,
          5124.096774193548,
          3492.483870967742,
          17672.916666666668,
          9458.56,
          7883.625,
          6254,
          1851.4,
          3256.4,
          5304.333333333333,
          1304.6666666666667,
          2852,
          3783,
          3777,
          15715
         ],
         "yaxis": "y6"
        }
       ],
       "layout": {
        "annotations": [
         {
          "font": {
           "size": 16
          },
          "showarrow": false,
          "text": "Abril",
          "x": 0.225,
          "xanchor": "center",
          "xref": "paper",
          "y": 1,
          "yanchor": "bottom",
          "yref": "paper"
         },
         {
          "font": {
           "size": 16
          },
          "showarrow": false,
          "text": "Maio",
          "x": 0.775,
          "xanchor": "center",
          "xref": "paper",
          "y": 1,
          "yanchor": "bottom",
          "yref": "paper"
         },
         {
          "font": {
           "size": 16
          },
          "showarrow": false,
          "text": "Junho",
          "x": 0.225,
          "xanchor": "center",
          "xref": "paper",
          "y": 0.6111111111111112,
          "yanchor": "bottom",
          "yref": "paper"
         },
         {
          "font": {
           "size": 16
          },
          "showarrow": false,
          "text": "Julho",
          "x": 0.775,
          "xanchor": "center",
          "xref": "paper",
          "y": 0.6111111111111112,
          "yanchor": "bottom",
          "yref": "paper"
         },
         {
          "font": {
           "size": 16
          },
          "showarrow": false,
          "text": "Agosto",
          "x": 0.225,
          "xanchor": "center",
          "xref": "paper",
          "y": 0.22222222222222224,
          "yanchor": "bottom",
          "yref": "paper"
         },
         {
          "font": {
           "size": 16
          },
          "showarrow": false,
          "text": "Setembro",
          "x": 0.775,
          "xanchor": "center",
          "xref": "paper",
          "y": 0.22222222222222224,
          "yanchor": "bottom",
          "yref": "paper"
         }
        ],
        "template": {
         "data": {
          "bar": [
           {
            "error_x": {
             "color": "#2a3f5f"
            },
            "error_y": {
             "color": "#2a3f5f"
            },
            "marker": {
             "line": {
              "color": "#E5ECF6",
              "width": 0.5
             },
             "pattern": {
              "fillmode": "overlay",
              "size": 10,
              "solidity": 0.2
             }
            },
            "type": "bar"
           }
          ],
          "barpolar": [
           {
            "marker": {
             "line": {
              "color": "#E5ECF6",
              "width": 0.5
             },
             "pattern": {
              "fillmode": "overlay",
              "size": 10,
              "solidity": 0.2
             }
            },
            "type": "barpolar"
           }
          ],
          "carpet": [
           {
            "aaxis": {
             "endlinecolor": "#2a3f5f",
             "gridcolor": "white",
             "linecolor": "white",
             "minorgridcolor": "white",
             "startlinecolor": "#2a3f5f"
            },
            "baxis": {
             "endlinecolor": "#2a3f5f",
             "gridcolor": "white",
             "linecolor": "white",
             "minorgridcolor": "white",
             "startlinecolor": "#2a3f5f"
            },
            "type": "carpet"
           }
          ],
          "choropleth": [
           {
            "colorbar": {
             "outlinewidth": 0,
             "ticks": ""
            },
            "type": "choropleth"
           }
          ],
          "contour": [
           {
            "colorbar": {
             "outlinewidth": 0,
             "ticks": ""
            },
            "colorscale": [
             [
              0,
              "#0d0887"
             ],
             [
              0.1111111111111111,
              "#46039f"
             ],
             [
              0.2222222222222222,
              "#7201a8"
             ],
             [
              0.3333333333333333,
              "#9c179e"
             ],
             [
              0.4444444444444444,
              "#bd3786"
             ],
             [
              0.5555555555555556,
              "#d8576b"
             ],
             [
              0.6666666666666666,
              "#ed7953"
             ],
             [
              0.7777777777777778,
              "#fb9f3a"
             ],
             [
              0.8888888888888888,
              "#fdca26"
             ],
             [
              1,
              "#f0f921"
             ]
            ],
            "type": "contour"
           }
          ],
          "contourcarpet": [
           {
            "colorbar": {
             "outlinewidth": 0,
             "ticks": ""
            },
            "type": "contourcarpet"
           }
          ],
          "heatmap": [
           {
            "colorbar": {
             "outlinewidth": 0,
             "ticks": ""
            },
            "colorscale": [
             [
              0,
              "#0d0887"
             ],
             [
              0.1111111111111111,
              "#46039f"
             ],
             [
              0.2222222222222222,
              "#7201a8"
             ],
             [
              0.3333333333333333,
              "#9c179e"
             ],
             [
              0.4444444444444444,
              "#bd3786"
             ],
             [
              0.5555555555555556,
              "#d8576b"
             ],
             [
              0.6666666666666666,
              "#ed7953"
             ],
             [
              0.7777777777777778,
              "#fb9f3a"
             ],
             [
              0.8888888888888888,
              "#fdca26"
             ],
             [
              1,
              "#f0f921"
             ]
            ],
            "type": "heatmap"
           }
          ],
          "heatmapgl": [
           {
            "colorbar": {
             "outlinewidth": 0,
             "ticks": ""
            },
            "colorscale": [
             [
              0,
              "#0d0887"
             ],
             [
              0.1111111111111111,
              "#46039f"
             ],
             [
              0.2222222222222222,
              "#7201a8"
             ],
             [
              0.3333333333333333,
              "#9c179e"
             ],
             [
              0.4444444444444444,
              "#bd3786"
             ],
             [
              0.5555555555555556,
              "#d8576b"
             ],
             [
              0.6666666666666666,
              "#ed7953"
             ],
             [
              0.7777777777777778,
              "#fb9f3a"
             ],
             [
              0.8888888888888888,
              "#fdca26"
             ],
             [
              1,
              "#f0f921"
             ]
            ],
            "type": "heatmapgl"
           }
          ],
          "histogram": [
           {
            "marker": {
             "pattern": {
              "fillmode": "overlay",
              "size": 10,
              "solidity": 0.2
             }
            },
            "type": "histogram"
           }
          ],
          "histogram2d": [
           {
            "colorbar": {
             "outlinewidth": 0,
             "ticks": ""
            },
            "colorscale": [
             [
              0,
              "#0d0887"
             ],
             [
              0.1111111111111111,
              "#46039f"
             ],
             [
              0.2222222222222222,
              "#7201a8"
             ],
             [
              0.3333333333333333,
              "#9c179e"
             ],
             [
              0.4444444444444444,
              "#bd3786"
             ],
             [
              0.5555555555555556,
              "#d8576b"
             ],
             [
              0.6666666666666666,
              "#ed7953"
             ],
             [
              0.7777777777777778,
              "#fb9f3a"
             ],
             [
              0.8888888888888888,
              "#fdca26"
             ],
             [
              1,
              "#f0f921"
             ]
            ],
            "type": "histogram2d"
           }
          ],
          "histogram2dcontour": [
           {
            "colorbar": {
             "outlinewidth": 0,
             "ticks": ""
            },
            "colorscale": [
             [
              0,
              "#0d0887"
             ],
             [
              0.1111111111111111,
              "#46039f"
             ],
             [
              0.2222222222222222,
              "#7201a8"
             ],
             [
              0.3333333333333333,
              "#9c179e"
             ],
             [
              0.4444444444444444,
              "#bd3786"
             ],
             [
              0.5555555555555556,
              "#d8576b"
             ],
             [
              0.6666666666666666,
              "#ed7953"
             ],
             [
              0.7777777777777778,
              "#fb9f3a"
             ],
             [
              0.8888888888888888,
              "#fdca26"
             ],
             [
              1,
              "#f0f921"
             ]
            ],
            "type": "histogram2dcontour"
           }
          ],
          "mesh3d": [
           {
            "colorbar": {
             "outlinewidth": 0,
             "ticks": ""
            },
            "type": "mesh3d"
           }
          ],
          "parcoords": [
           {
            "line": {
             "colorbar": {
              "outlinewidth": 0,
              "ticks": ""
             }
            },
            "type": "parcoords"
           }
          ],
          "pie": [
           {
            "automargin": true,
            "type": "pie"
           }
          ],
          "scatter": [
           {
            "marker": {
             "colorbar": {
              "outlinewidth": 0,
              "ticks": ""
             }
            },
            "type": "scatter"
           }
          ],
          "scatter3d": [
           {
            "line": {
             "colorbar": {
              "outlinewidth": 0,
              "ticks": ""
             }
            },
            "marker": {
             "colorbar": {
              "outlinewidth": 0,
              "ticks": ""
             }
            },
            "type": "scatter3d"
           }
          ],
          "scattercarpet": [
           {
            "marker": {
             "colorbar": {
              "outlinewidth": 0,
              "ticks": ""
             }
            },
            "type": "scattercarpet"
           }
          ],
          "scattergeo": [
           {
            "marker": {
             "colorbar": {
              "outlinewidth": 0,
              "ticks": ""
             }
            },
            "type": "scattergeo"
           }
          ],
          "scattergl": [
           {
            "marker": {
             "colorbar": {
              "outlinewidth": 0,
              "ticks": ""
             }
            },
            "type": "scattergl"
           }
          ],
          "scattermapbox": [
           {
            "marker": {
             "colorbar": {
              "outlinewidth": 0,
              "ticks": ""
             }
            },
            "type": "scattermapbox"
           }
          ],
          "scatterpolar": [
           {
            "marker": {
             "colorbar": {
              "outlinewidth": 0,
              "ticks": ""
             }
            },
            "type": "scatterpolar"
           }
          ],
          "scatterpolargl": [
           {
            "marker": {
             "colorbar": {
              "outlinewidth": 0,
              "ticks": ""
             }
            },
            "type": "scatterpolargl"
           }
          ],
          "scatterternary": [
           {
            "marker": {
             "colorbar": {
              "outlinewidth": 0,
              "ticks": ""
             }
            },
            "type": "scatterternary"
           }
          ],
          "surface": [
           {
            "colorbar": {
             "outlinewidth": 0,
             "ticks": ""
            },
            "colorscale": [
             [
              0,
              "#0d0887"
             ],
             [
              0.1111111111111111,
              "#46039f"
             ],
             [
              0.2222222222222222,
              "#7201a8"
             ],
             [
              0.3333333333333333,
              "#9c179e"
             ],
             [
              0.4444444444444444,
              "#bd3786"
             ],
             [
              0.5555555555555556,
              "#d8576b"
             ],
             [
              0.6666666666666666,
              "#ed7953"
             ],
             [
              0.7777777777777778,
              "#fb9f3a"
             ],
             [
              0.8888888888888888,
              "#fdca26"
             ],
             [
              1,
              "#f0f921"
             ]
            ],
            "type": "surface"
           }
          ],
          "table": [
           {
            "cells": {
             "fill": {
              "color": "#EBF0F8"
             },
             "line": {
              "color": "white"
             }
            },
            "header": {
             "fill": {
              "color": "#C8D4E3"
             },
             "line": {
              "color": "white"
             }
            },
            "type": "table"
           }
          ]
         },
         "layout": {
          "annotationdefaults": {
           "arrowcolor": "#2a3f5f",
           "arrowhead": 0,
           "arrowwidth": 1
          },
          "autotypenumbers": "strict",
          "coloraxis": {
           "colorbar": {
            "outlinewidth": 0,
            "ticks": ""
           }
          },
          "colorscale": {
           "diverging": [
            [
             0,
             "#8e0152"
            ],
            [
             0.1,
             "#c51b7d"
            ],
            [
             0.2,
             "#de77ae"
            ],
            [
             0.3,
             "#f1b6da"
            ],
            [
             0.4,
             "#fde0ef"
            ],
            [
             0.5,
             "#f7f7f7"
            ],
            [
             0.6,
             "#e6f5d0"
            ],
            [
             0.7,
             "#b8e186"
            ],
            [
             0.8,
             "#7fbc41"
            ],
            [
             0.9,
             "#4d9221"
            ],
            [
             1,
             "#276419"
            ]
           ],
           "sequential": [
            [
             0,
             "#0d0887"
            ],
            [
             0.1111111111111111,
             "#46039f"
            ],
            [
             0.2222222222222222,
             "#7201a8"
            ],
            [
             0.3333333333333333,
             "#9c179e"
            ],
            [
             0.4444444444444444,
             "#bd3786"
            ],
            [
             0.5555555555555556,
             "#d8576b"
            ],
            [
             0.6666666666666666,
             "#ed7953"
            ],
            [
             0.7777777777777778,
             "#fb9f3a"
            ],
            [
             0.8888888888888888,
             "#fdca26"
            ],
            [
             1,
             "#f0f921"
            ]
           ],
           "sequentialminus": [
            [
             0,
             "#0d0887"
            ],
            [
             0.1111111111111111,
             "#46039f"
            ],
            [
             0.2222222222222222,
             "#7201a8"
            ],
            [
             0.3333333333333333,
             "#9c179e"
            ],
            [
             0.4444444444444444,
             "#bd3786"
            ],
            [
             0.5555555555555556,
             "#d8576b"
            ],
            [
             0.6666666666666666,
             "#ed7953"
            ],
            [
             0.7777777777777778,
             "#fb9f3a"
            ],
            [
             0.8888888888888888,
             "#fdca26"
            ],
            [
             1,
             "#f0f921"
            ]
           ]
          },
          "colorway": [
           "#636efa",
           "#EF553B",
           "#00cc96",
           "#ab63fa",
           "#FFA15A",
           "#19d3f3",
           "#FF6692",
           "#B6E880",
           "#FF97FF",
           "#FECB52"
          ],
          "font": {
           "color": "#2a3f5f"
          },
          "geo": {
           "bgcolor": "white",
           "lakecolor": "white",
           "landcolor": "#E5ECF6",
           "showlakes": true,
           "showland": true,
           "subunitcolor": "white"
          },
          "hoverlabel": {
           "align": "left"
          },
          "hovermode": "closest",
          "mapbox": {
           "style": "light"
          },
          "paper_bgcolor": "white",
          "plot_bgcolor": "#E5ECF6",
          "polar": {
           "angularaxis": {
            "gridcolor": "white",
            "linecolor": "white",
            "ticks": ""
           },
           "bgcolor": "#E5ECF6",
           "radialaxis": {
            "gridcolor": "white",
            "linecolor": "white",
            "ticks": ""
           }
          },
          "scene": {
           "xaxis": {
            "backgroundcolor": "#E5ECF6",
            "gridcolor": "white",
            "gridwidth": 2,
            "linecolor": "white",
            "showbackground": true,
            "ticks": "",
            "zerolinecolor": "white"
           },
           "yaxis": {
            "backgroundcolor": "#E5ECF6",
            "gridcolor": "white",
            "gridwidth": 2,
            "linecolor": "white",
            "showbackground": true,
            "ticks": "",
            "zerolinecolor": "white"
           },
           "zaxis": {
            "backgroundcolor": "#E5ECF6",
            "gridcolor": "white",
            "gridwidth": 2,
            "linecolor": "white",
            "showbackground": true,
            "ticks": "",
            "zerolinecolor": "white"
           }
          },
          "shapedefaults": {
           "line": {
            "color": "#2a3f5f"
           }
          },
          "ternary": {
           "aaxis": {
            "gridcolor": "white",
            "linecolor": "white",
            "ticks": ""
           },
           "baxis": {
            "gridcolor": "white",
            "linecolor": "white",
            "ticks": ""
           },
           "bgcolor": "#E5ECF6",
           "caxis": {
            "gridcolor": "white",
            "linecolor": "white",
            "ticks": ""
           }
          },
          "title": {
           "x": 0.05
          },
          "xaxis": {
           "automargin": true,
           "gridcolor": "white",
           "linecolor": "white",
           "ticks": "",
           "title": {
            "standoff": 15
           },
           "zerolinecolor": "white",
           "zerolinewidth": 2
          },
          "yaxis": {
           "automargin": true,
           "gridcolor": "white",
           "linecolor": "white",
           "ticks": "",
           "title": {
            "standoff": 15
           },
           "zerolinecolor": "white",
           "zerolinewidth": 2
          }
         }
        },
        "title": {
         "text": "Valor pago por mês conforme a idade dos clientes"
        },
        "xaxis": {
         "anchor": "y",
         "domain": [
          0,
          0.45
         ]
        },
        "xaxis2": {
         "anchor": "y2",
         "domain": [
          0.55,
          1
         ]
        },
        "xaxis3": {
         "anchor": "y3",
         "domain": [
          0,
          0.45
         ]
        },
        "xaxis4": {
         "anchor": "y4",
         "domain": [
          0.55,
          1
         ]
        },
        "xaxis5": {
         "anchor": "y5",
         "domain": [
          0,
          0.45
         ],
         "title": {
          "font": {
           "size": 10
          },
          "text": "Idade do Cliente"
         }
        },
        "xaxis6": {
         "anchor": "y6",
         "domain": [
          0.55,
          1
         ],
         "title": {
          "font": {
           "size": 10
          },
          "text": "Idade do Cliente"
         }
        },
        "yaxis": {
         "anchor": "x",
         "domain": [
          0.7777777777777778,
          1
         ],
         "title": {
          "font": {
           "size": 10
          },
          "text": "Valor pago (Dólar NT)"
         }
        },
        "yaxis2": {
         "anchor": "x2",
         "domain": [
          0.7777777777777778,
          1
         ],
         "matches": "y",
         "showticklabels": false,
         "title": {
          "font": {
           "size": 10
          },
          "text": "Valor pago (Dólar NT)"
         }
        },
        "yaxis3": {
         "anchor": "x3",
         "domain": [
          0.3888888888888889,
          0.6111111111111112
         ],
         "title": {
          "font": {
           "size": 10
          },
          "text": "Valor pago (Dólar NT)"
         }
        },
        "yaxis4": {
         "anchor": "x4",
         "domain": [
          0.3888888888888889,
          0.6111111111111112
         ],
         "matches": "y3",
         "showticklabels": false,
         "title": {
          "font": {
           "size": 10
          },
          "text": "Valor pago (Dólar NT)"
         }
        },
        "yaxis5": {
         "anchor": "x5",
         "domain": [
          0,
          0.22222222222222224
         ],
         "title": {
          "font": {
           "size": 10
          },
          "text": "Valor pago (Dólar NT)"
         }
        },
        "yaxis6": {
         "anchor": "x6",
         "domain": [
          0,
          0.22222222222222224
         ],
         "matches": "y5",
         "showticklabels": false,
         "title": {
          "font": {
           "size": 10
          },
          "text": "Valor pago (Dólar NT)"
         }
        }
       }
      },
      "text/html": [
       "<div>                            <div id=\"50bb807c-6566-4983-96a3-7eff686f926f\" class=\"plotly-graph-div\" style=\"height:525px; width:100%;\"></div>            <script type=\"text/javascript\">                require([\"plotly\"], function(Plotly) {                    window.PLOTLYENV=window.PLOTLYENV || {};                                    if (document.getElementById(\"50bb807c-6566-4983-96a3-7eff686f926f\")) {                    Plotly.newPlot(                        \"50bb807c-6566-4983-96a3-7eff686f926f\",                        [{\"line\":{\"color\":\"red\",\"width\":1.5},\"name\":\"Valor Pago em 04/2005\",\"x\":[21,22,23,24,25,26,27,28,29,30,31,32,33,34,35,36,37,38,39,40,41,42,43,44,45,46,47,48,49,50,51,52,53,54,55,56,57,58,59,60,61,62,63,64,65,66,67,68,69,70,71,72,73,74,75,79],\"y\":[568.2089552238806,1542.9303571428572,2668.0214822771213,2745.2413487133986,3636.1365935919057,4628.853503184713,4526.699390656737,5425.638494318182,4963.722118380062,6408.609475951184,6167.003286770748,7768.040587219343,6277.003490401396,6284.820137693631,5992.973897389739,5776.47202166065,5710.404807692307,4358.292682926829,6191.266526757608,5827.472350230415,4828.3070388349515,5648.9546599496225,6202.826865671642,5820.688571428572,5001.657467532467,6480.721052631579,6481.931863727455,5305.188841201717,4272.528761061947,4238.085158150851,4715.638235294117,4257.108552631579,4771.981481481482,4306.846153846154,5491.971291866029,3006.747191011236,5073.0,7609.9098360655735,2926.156626506024,5496.492537313433,2013.267857142857,5671.454545454545,3935.4193548387098,3973.6451612903224,2029.0,10335.76,16379.1875,4677.6,1584.1333333333334,1426.7,3237.6666666666665,9077.333333333334,2768.75,26442.0,2928.0,15677.0],\"type\":\"scatter\",\"xaxis\":\"x\",\"yaxis\":\"y\"},{\"line\":{\"color\":\"blue\",\"width\":1.5},\"name\":\"Valor Pago em 05/2005\",\"x\":[21,22,23,24,25,26,27,28,29,30,31,32,33,34,35,36,37,38,39,40,41,42,43,44,45,46,47,48,49,50,51,52,53,54,55,56,57,58,59,60,61,62,63,64,65,66,67,68,69,70,71,72,73,74,75,79],\"y\":[827.6567164179105,1661.5214285714285,2278.2738990332973,2987.842945874002,2949.6989881956156,4086.8463375796177,4556.484766418415,5139.3671875,5506.229906542056,5930.86288585786,5408.346754313887,5070.840241796201,5745.897905759162,5431.170395869191,5023.07200720072,5419.254512635379,5764.140384615384,4823.954400848356,5279.706190975866,4737.092165898617,5106.851941747573,5320.347607052897,4980.43880597015,5630.211428571429,4579.415584415585,5732.619298245614,4954.362725450902,5743.242489270387,5661.83628318584,5485.175182481752,3751.1676470588236,4666.621710526316,4139.635802469136,3761.477732793522,2914.3014354066986,3220.994382022472,3654.0409836065573,4030.05737704918,5299.0,2333.313432835821,3506.0178571428573,6168.863636363636,3182.6129032258063,3328.6129032258063,8976.25,19874.08,6555.0,22892.2,1594.6666666666667,1326.5,4701.666666666667,652.0,3092.0,19789.0,2764.6666666666665,16531.0],\"type\":\"scatter\",\"xaxis\":\"x2\",\"yaxis\":\"y2\"},{\"line\":{\"color\":\"green\",\"width\":1.5},\"name\":\"Valor Pago em 06/2005\",\"x\":[21,22,23,24,25,26,27,28,29,30,31,32,33,34,35,36,37,38,39,40,41,42,43,44,45,46,47,48,49,50,51,52,53,54,55,56,57,58,59,60,61,62,63,64,65,66,67,68,69,70,71,72,73,74,75,79],\"y\":[1381.865671641791,1743.6660714285715,2633.43716433942,2734.072759538598,3640.5387858347385,3638.6146496815286,4551.387948544347,4625.855823863636,5339.1520249221185,5582.819095477387,5546.709120788825,5454.6588946459415,5700.849040139616,5786.057659208262,5430.568856885689,5197.907942238267,5610.6240384615385,4491.478260869565,5500.784889821616,6226.8133640553,5091.77427184466,5931.706549118388,4463.434328358209,4898.2471428571425,5583.25974025974,5368.731578947369,5128.519038076152,5426.697424892704,4892.33628318584,5281.3260340632605,3434.3764705882354,4327.835526315789,5384.435185185185,5504.457489878542,3223.6698564593303,3776.674157303371,4465.836065573771,3441.934426229508,3588.385542168675,2134.0149253731342,3447.910714285714,4553.409090909091,4129.967741935484,5203.612903225807,2875.5,5499.0,6384.8125,5274.8,5755.2,1746.9,3713.0,4440.666666666667,4603.0,0.0,4290.666666666667,15800.0],\"type\":\"scatter\",\"xaxis\":\"x3\",\"yaxis\":\"y3\"},{\"line\":{\"color\":\"purple\",\"width\":1.5},\"name\":\"Valor Pago em 07/2005\",\"x\":[21,22,23,24,25,26,27,28,29,30,31,32,33,34,35,36,37,38,39,40,41,42,43,44,45,46,47,48,49,50,51,52,53,54,55,56,57,58,59,60,61,62,63,64,65,66,67,68,69,70,71,72,73,74,75,79],\"y\":[1179.865671641791,1845.0535714285713,2833.6186895810956,2667.676131322094,3363.674536256324,3940.2165605095543,4649.62220717671,5787.330965909091,5074.471651090343,6238.377602297201,5845.45850451931,6335.168393782384,6250.220767888307,5493.368330464716,6331.399639963996,5314.801444043322,6114.751923076923,5155.712619300106,5824.222455403988,6208.2211981566825,5249.935679611651,6076.350125944585,5740.29552238806,6739.0,4529.951298701299,5649.747368421053,7065.064128256513,5606.751072961373,5488.727876106194,4903.98296836983,6363.2235294117645,6723.098684210527,4009.0308641975307,4498.356275303644,5543.0382775119615,3534.35393258427,4901.762295081967,2262.098360655738,3582.5662650602408,2376.373134328358,2552.589285714286,4504.613636363636,25609.322580645163,3932.8387096774195,2659.875,11150.76,10794.875,7214.0,1695.7333333333333,1967.1,3389.0,2823.0,2833.75,16905.0,3336.6666666666665,16513.0],\"type\":\"scatter\",\"xaxis\":\"x4\",\"yaxis\":\"y4\"},{\"line\":{\"color\":\"yellow\",\"width\":1.5},\"name\":\"Valor Pago em 08/2005\",\"x\":[21,22,23,24,25,26,27,28,29,30,31,32,33,34,35,36,37,38,39,40,41,42,43,44,45,46,47,48,49,50,51,52,53,54,55,56,57,58,59,60,61,62,63,64,65,66,67,68,69,70,71,72,73,74,75,79],\"y\":[1749.7164179104477,2408.1875,3167.9924812030076,3456.996450754215,3721.0,4635.628184713376,5302.418415707515,5606.740767045455,5878.453582554517,7668.4565685570715,6237.588331963845,6693.841968911917,7087.707678883072,6572.2538726333905,6930.647164716472,6128.349277978339,7218.371153846154,5694.8854718981975,8151.305351521511,5456.914746543779,6205.388349514563,7700.147355163728,7482.422388059702,7354.101428571428,5602.76461038961,6619.278947368421,6266.503006012024,5843.06652360515,7581.059734513275,6469.513381995133,5110.60294117647,5745.493421052632,4750.305555555556,5471.392712550607,5968.717703349283,4242.348314606742,4817.745901639344,5138.237704918033,3276.2168674698796,5454.865671641791,3237.3214285714284,3851.9545454545455,7252.258064516129,5686.580645161291,2959.9583333333335,5978.04,10669.0,6002.8,2942.6666666666665,2892.9,6079.666666666667,1791.3333333333333,2997.5,2268.0,3448.6666666666665,16519.0],\"type\":\"scatter\",\"xaxis\":\"x5\",\"yaxis\":\"y5\"},{\"line\":{\"color\":\"#FF0092\",\"width\":1.5},\"name\":\"Valor Pago em 09/2005\",\"x\":[21,22,23,24,25,26,27,28,29,30,31,32,33,34,35,36,37,38,39,40,41,42,43,44,45,46,47,48,49,50,51,52,53,54,55,56,57,58,59,60,61,62,63,64,65,66,67,68,69,70,71,72,73,74,75,79],\"y\":[2085.776119402985,2369.5375,3239.6509129967776,3437.509316770186,4711.83389544688,4783.46576433121,5230.849695328368,6151.973721590909,5820.0473520249225,6074.815506101938,5736.939194741167,6518.833333333333,5420.812390924956,6274.706540447504,6125.5229522952295,5992.757220216607,7905.260576923077,5122.004241781548,6608.1647429171035,6381.034562211981,6249.9235436893205,7469.342569269522,5852.259701492538,5951.842857142857,6267.785714285715,6439.168421052632,5650.416833667335,6078.706008583691,5127.767699115044,5840.082725060827,4579.582352941176,4855.207236842105,5849.25,5818.80971659919,7464.636363636364,4222.696629213483,5567.9672131147545,5874.975409836065,3651.240963855422,3543.194029850746,3981.3571428571427,4515.590909090909,5124.096774193548,3492.483870967742,17672.916666666668,9458.56,7883.625,6254.0,1851.4,3256.4,5304.333333333333,1304.6666666666667,2852.0,3783.0,3777.0,15715.0],\"type\":\"scatter\",\"xaxis\":\"x6\",\"yaxis\":\"y6\"}],                        {\"template\":{\"data\":{\"bar\":[{\"error_x\":{\"color\":\"#2a3f5f\"},\"error_y\":{\"color\":\"#2a3f5f\"},\"marker\":{\"line\":{\"color\":\"#E5ECF6\",\"width\":0.5},\"pattern\":{\"fillmode\":\"overlay\",\"size\":10,\"solidity\":0.2}},\"type\":\"bar\"}],\"barpolar\":[{\"marker\":{\"line\":{\"color\":\"#E5ECF6\",\"width\":0.5},\"pattern\":{\"fillmode\":\"overlay\",\"size\":10,\"solidity\":0.2}},\"type\":\"barpolar\"}],\"carpet\":[{\"aaxis\":{\"endlinecolor\":\"#2a3f5f\",\"gridcolor\":\"white\",\"linecolor\":\"white\",\"minorgridcolor\":\"white\",\"startlinecolor\":\"#2a3f5f\"},\"baxis\":{\"endlinecolor\":\"#2a3f5f\",\"gridcolor\":\"white\",\"linecolor\":\"white\",\"minorgridcolor\":\"white\",\"startlinecolor\":\"#2a3f5f\"},\"type\":\"carpet\"}],\"choropleth\":[{\"colorbar\":{\"outlinewidth\":0,\"ticks\":\"\"},\"type\":\"choropleth\"}],\"contour\":[{\"colorbar\":{\"outlinewidth\":0,\"ticks\":\"\"},\"colorscale\":[[0.0,\"#0d0887\"],[0.1111111111111111,\"#46039f\"],[0.2222222222222222,\"#7201a8\"],[0.3333333333333333,\"#9c179e\"],[0.4444444444444444,\"#bd3786\"],[0.5555555555555556,\"#d8576b\"],[0.6666666666666666,\"#ed7953\"],[0.7777777777777778,\"#fb9f3a\"],[0.8888888888888888,\"#fdca26\"],[1.0,\"#f0f921\"]],\"type\":\"contour\"}],\"contourcarpet\":[{\"colorbar\":{\"outlinewidth\":0,\"ticks\":\"\"},\"type\":\"contourcarpet\"}],\"heatmap\":[{\"colorbar\":{\"outlinewidth\":0,\"ticks\":\"\"},\"colorscale\":[[0.0,\"#0d0887\"],[0.1111111111111111,\"#46039f\"],[0.2222222222222222,\"#7201a8\"],[0.3333333333333333,\"#9c179e\"],[0.4444444444444444,\"#bd3786\"],[0.5555555555555556,\"#d8576b\"],[0.6666666666666666,\"#ed7953\"],[0.7777777777777778,\"#fb9f3a\"],[0.8888888888888888,\"#fdca26\"],[1.0,\"#f0f921\"]],\"type\":\"heatmap\"}],\"heatmapgl\":[{\"colorbar\":{\"outlinewidth\":0,\"ticks\":\"\"},\"colorscale\":[[0.0,\"#0d0887\"],[0.1111111111111111,\"#46039f\"],[0.2222222222222222,\"#7201a8\"],[0.3333333333333333,\"#9c179e\"],[0.4444444444444444,\"#bd3786\"],[0.5555555555555556,\"#d8576b\"],[0.6666666666666666,\"#ed7953\"],[0.7777777777777778,\"#fb9f3a\"],[0.8888888888888888,\"#fdca26\"],[1.0,\"#f0f921\"]],\"type\":\"heatmapgl\"}],\"histogram\":[{\"marker\":{\"pattern\":{\"fillmode\":\"overlay\",\"size\":10,\"solidity\":0.2}},\"type\":\"histogram\"}],\"histogram2d\":[{\"colorbar\":{\"outlinewidth\":0,\"ticks\":\"\"},\"colorscale\":[[0.0,\"#0d0887\"],[0.1111111111111111,\"#46039f\"],[0.2222222222222222,\"#7201a8\"],[0.3333333333333333,\"#9c179e\"],[0.4444444444444444,\"#bd3786\"],[0.5555555555555556,\"#d8576b\"],[0.6666666666666666,\"#ed7953\"],[0.7777777777777778,\"#fb9f3a\"],[0.8888888888888888,\"#fdca26\"],[1.0,\"#f0f921\"]],\"type\":\"histogram2d\"}],\"histogram2dcontour\":[{\"colorbar\":{\"outlinewidth\":0,\"ticks\":\"\"},\"colorscale\":[[0.0,\"#0d0887\"],[0.1111111111111111,\"#46039f\"],[0.2222222222222222,\"#7201a8\"],[0.3333333333333333,\"#9c179e\"],[0.4444444444444444,\"#bd3786\"],[0.5555555555555556,\"#d8576b\"],[0.6666666666666666,\"#ed7953\"],[0.7777777777777778,\"#fb9f3a\"],[0.8888888888888888,\"#fdca26\"],[1.0,\"#f0f921\"]],\"type\":\"histogram2dcontour\"}],\"mesh3d\":[{\"colorbar\":{\"outlinewidth\":0,\"ticks\":\"\"},\"type\":\"mesh3d\"}],\"parcoords\":[{\"line\":{\"colorbar\":{\"outlinewidth\":0,\"ticks\":\"\"}},\"type\":\"parcoords\"}],\"pie\":[{\"automargin\":true,\"type\":\"pie\"}],\"scatter\":[{\"marker\":{\"colorbar\":{\"outlinewidth\":0,\"ticks\":\"\"}},\"type\":\"scatter\"}],\"scatter3d\":[{\"line\":{\"colorbar\":{\"outlinewidth\":0,\"ticks\":\"\"}},\"marker\":{\"colorbar\":{\"outlinewidth\":0,\"ticks\":\"\"}},\"type\":\"scatter3d\"}],\"scattercarpet\":[{\"marker\":{\"colorbar\":{\"outlinewidth\":0,\"ticks\":\"\"}},\"type\":\"scattercarpet\"}],\"scattergeo\":[{\"marker\":{\"colorbar\":{\"outlinewidth\":0,\"ticks\":\"\"}},\"type\":\"scattergeo\"}],\"scattergl\":[{\"marker\":{\"colorbar\":{\"outlinewidth\":0,\"ticks\":\"\"}},\"type\":\"scattergl\"}],\"scattermapbox\":[{\"marker\":{\"colorbar\":{\"outlinewidth\":0,\"ticks\":\"\"}},\"type\":\"scattermapbox\"}],\"scatterpolar\":[{\"marker\":{\"colorbar\":{\"outlinewidth\":0,\"ticks\":\"\"}},\"type\":\"scatterpolar\"}],\"scatterpolargl\":[{\"marker\":{\"colorbar\":{\"outlinewidth\":0,\"ticks\":\"\"}},\"type\":\"scatterpolargl\"}],\"scatterternary\":[{\"marker\":{\"colorbar\":{\"outlinewidth\":0,\"ticks\":\"\"}},\"type\":\"scatterternary\"}],\"surface\":[{\"colorbar\":{\"outlinewidth\":0,\"ticks\":\"\"},\"colorscale\":[[0.0,\"#0d0887\"],[0.1111111111111111,\"#46039f\"],[0.2222222222222222,\"#7201a8\"],[0.3333333333333333,\"#9c179e\"],[0.4444444444444444,\"#bd3786\"],[0.5555555555555556,\"#d8576b\"],[0.6666666666666666,\"#ed7953\"],[0.7777777777777778,\"#fb9f3a\"],[0.8888888888888888,\"#fdca26\"],[1.0,\"#f0f921\"]],\"type\":\"surface\"}],\"table\":[{\"cells\":{\"fill\":{\"color\":\"#EBF0F8\"},\"line\":{\"color\":\"white\"}},\"header\":{\"fill\":{\"color\":\"#C8D4E3\"},\"line\":{\"color\":\"white\"}},\"type\":\"table\"}]},\"layout\":{\"annotationdefaults\":{\"arrowcolor\":\"#2a3f5f\",\"arrowhead\":0,\"arrowwidth\":1},\"autotypenumbers\":\"strict\",\"coloraxis\":{\"colorbar\":{\"outlinewidth\":0,\"ticks\":\"\"}},\"colorscale\":{\"diverging\":[[0,\"#8e0152\"],[0.1,\"#c51b7d\"],[0.2,\"#de77ae\"],[0.3,\"#f1b6da\"],[0.4,\"#fde0ef\"],[0.5,\"#f7f7f7\"],[0.6,\"#e6f5d0\"],[0.7,\"#b8e186\"],[0.8,\"#7fbc41\"],[0.9,\"#4d9221\"],[1,\"#276419\"]],\"sequential\":[[0.0,\"#0d0887\"],[0.1111111111111111,\"#46039f\"],[0.2222222222222222,\"#7201a8\"],[0.3333333333333333,\"#9c179e\"],[0.4444444444444444,\"#bd3786\"],[0.5555555555555556,\"#d8576b\"],[0.6666666666666666,\"#ed7953\"],[0.7777777777777778,\"#fb9f3a\"],[0.8888888888888888,\"#fdca26\"],[1.0,\"#f0f921\"]],\"sequentialminus\":[[0.0,\"#0d0887\"],[0.1111111111111111,\"#46039f\"],[0.2222222222222222,\"#7201a8\"],[0.3333333333333333,\"#9c179e\"],[0.4444444444444444,\"#bd3786\"],[0.5555555555555556,\"#d8576b\"],[0.6666666666666666,\"#ed7953\"],[0.7777777777777778,\"#fb9f3a\"],[0.8888888888888888,\"#fdca26\"],[1.0,\"#f0f921\"]]},\"colorway\":[\"#636efa\",\"#EF553B\",\"#00cc96\",\"#ab63fa\",\"#FFA15A\",\"#19d3f3\",\"#FF6692\",\"#B6E880\",\"#FF97FF\",\"#FECB52\"],\"font\":{\"color\":\"#2a3f5f\"},\"geo\":{\"bgcolor\":\"white\",\"lakecolor\":\"white\",\"landcolor\":\"#E5ECF6\",\"showlakes\":true,\"showland\":true,\"subunitcolor\":\"white\"},\"hoverlabel\":{\"align\":\"left\"},\"hovermode\":\"closest\",\"mapbox\":{\"style\":\"light\"},\"paper_bgcolor\":\"white\",\"plot_bgcolor\":\"#E5ECF6\",\"polar\":{\"angularaxis\":{\"gridcolor\":\"white\",\"linecolor\":\"white\",\"ticks\":\"\"},\"bgcolor\":\"#E5ECF6\",\"radialaxis\":{\"gridcolor\":\"white\",\"linecolor\":\"white\",\"ticks\":\"\"}},\"scene\":{\"xaxis\":{\"backgroundcolor\":\"#E5ECF6\",\"gridcolor\":\"white\",\"gridwidth\":2,\"linecolor\":\"white\",\"showbackground\":true,\"ticks\":\"\",\"zerolinecolor\":\"white\"},\"yaxis\":{\"backgroundcolor\":\"#E5ECF6\",\"gridcolor\":\"white\",\"gridwidth\":2,\"linecolor\":\"white\",\"showbackground\":true,\"ticks\":\"\",\"zerolinecolor\":\"white\"},\"zaxis\":{\"backgroundcolor\":\"#E5ECF6\",\"gridcolor\":\"white\",\"gridwidth\":2,\"linecolor\":\"white\",\"showbackground\":true,\"ticks\":\"\",\"zerolinecolor\":\"white\"}},\"shapedefaults\":{\"line\":{\"color\":\"#2a3f5f\"}},\"ternary\":{\"aaxis\":{\"gridcolor\":\"white\",\"linecolor\":\"white\",\"ticks\":\"\"},\"baxis\":{\"gridcolor\":\"white\",\"linecolor\":\"white\",\"ticks\":\"\"},\"bgcolor\":\"#E5ECF6\",\"caxis\":{\"gridcolor\":\"white\",\"linecolor\":\"white\",\"ticks\":\"\"}},\"title\":{\"x\":0.05},\"xaxis\":{\"automargin\":true,\"gridcolor\":\"white\",\"linecolor\":\"white\",\"ticks\":\"\",\"title\":{\"standoff\":15},\"zerolinecolor\":\"white\",\"zerolinewidth\":2},\"yaxis\":{\"automargin\":true,\"gridcolor\":\"white\",\"linecolor\":\"white\",\"ticks\":\"\",\"title\":{\"standoff\":15},\"zerolinecolor\":\"white\",\"zerolinewidth\":2}}},\"xaxis\":{\"anchor\":\"y\",\"domain\":[0.0,0.45]},\"yaxis\":{\"anchor\":\"x\",\"domain\":[0.7777777777777778,1.0],\"title\":{\"font\":{\"size\":10},\"text\":\"Valor pago (D\\u00f3lar NT)\"}},\"xaxis2\":{\"anchor\":\"y2\",\"domain\":[0.55,1.0]},\"yaxis2\":{\"anchor\":\"x2\",\"domain\":[0.7777777777777778,1.0],\"matches\":\"y\",\"showticklabels\":false,\"title\":{\"font\":{\"size\":10},\"text\":\"Valor pago (D\\u00f3lar NT)\"}},\"xaxis3\":{\"anchor\":\"y3\",\"domain\":[0.0,0.45]},\"yaxis3\":{\"anchor\":\"x3\",\"domain\":[0.3888888888888889,0.6111111111111112],\"title\":{\"font\":{\"size\":10},\"text\":\"Valor pago (D\\u00f3lar NT)\"}},\"xaxis4\":{\"anchor\":\"y4\",\"domain\":[0.55,1.0]},\"yaxis4\":{\"anchor\":\"x4\",\"domain\":[0.3888888888888889,0.6111111111111112],\"matches\":\"y3\",\"showticklabels\":false,\"title\":{\"font\":{\"size\":10},\"text\":\"Valor pago (D\\u00f3lar NT)\"}},\"xaxis5\":{\"anchor\":\"y5\",\"domain\":[0.0,0.45],\"title\":{\"font\":{\"size\":10},\"text\":\"Idade do Cliente\"}},\"yaxis5\":{\"anchor\":\"x5\",\"domain\":[0.0,0.22222222222222224],\"title\":{\"font\":{\"size\":10},\"text\":\"Valor pago (D\\u00f3lar NT)\"}},\"xaxis6\":{\"anchor\":\"y6\",\"domain\":[0.55,1.0],\"title\":{\"font\":{\"size\":10},\"text\":\"Idade do Cliente\"}},\"yaxis6\":{\"anchor\":\"x6\",\"domain\":[0.0,0.22222222222222224],\"matches\":\"y5\",\"showticklabels\":false,\"title\":{\"font\":{\"size\":10},\"text\":\"Valor pago (D\\u00f3lar NT)\"}},\"annotations\":[{\"font\":{\"size\":16},\"showarrow\":false,\"text\":\"Abril\",\"x\":0.225,\"xanchor\":\"center\",\"xref\":\"paper\",\"y\":1.0,\"yanchor\":\"bottom\",\"yref\":\"paper\"},{\"font\":{\"size\":16},\"showarrow\":false,\"text\":\"Maio\",\"x\":0.775,\"xanchor\":\"center\",\"xref\":\"paper\",\"y\":1.0,\"yanchor\":\"bottom\",\"yref\":\"paper\"},{\"font\":{\"size\":16},\"showarrow\":false,\"text\":\"Junho\",\"x\":0.225,\"xanchor\":\"center\",\"xref\":\"paper\",\"y\":0.6111111111111112,\"yanchor\":\"bottom\",\"yref\":\"paper\"},{\"font\":{\"size\":16},\"showarrow\":false,\"text\":\"Julho\",\"x\":0.775,\"xanchor\":\"center\",\"xref\":\"paper\",\"y\":0.6111111111111112,\"yanchor\":\"bottom\",\"yref\":\"paper\"},{\"font\":{\"size\":16},\"showarrow\":false,\"text\":\"Agosto\",\"x\":0.225,\"xanchor\":\"center\",\"xref\":\"paper\",\"y\":0.22222222222222224,\"yanchor\":\"bottom\",\"yref\":\"paper\"},{\"font\":{\"size\":16},\"showarrow\":false,\"text\":\"Setembro\",\"x\":0.775,\"xanchor\":\"center\",\"xref\":\"paper\",\"y\":0.22222222222222224,\"yanchor\":\"bottom\",\"yref\":\"paper\"}],\"title\":{\"text\":\"Valor pago por m\\u00eas conforme a idade dos clientes\"}},                        {\"responsive\": true}                    ).then(function(){\n",
       "                            \n",
       "var gd = document.getElementById('50bb807c-6566-4983-96a3-7eff686f926f');\n",
       "var x = new MutationObserver(function (mutations, observer) {{\n",
       "        var display = window.getComputedStyle(gd).display;\n",
       "        if (!display || display === 'none') {{\n",
       "            console.log([gd, 'removed!']);\n",
       "            Plotly.purge(gd);\n",
       "            observer.disconnect();\n",
       "        }}\n",
       "}});\n",
       "\n",
       "// Listen for the removal of the full notebook cells\n",
       "var notebookContainer = gd.closest('#notebook-container');\n",
       "if (notebookContainer) {{\n",
       "    x.observe(notebookContainer, {childList: true});\n",
       "}}\n",
       "\n",
       "// Listen for the clearing of the current output cell\n",
       "var outputEl = gd.closest('.output');\n",
       "if (outputEl) {{\n",
       "    x.observe(outputEl, {childList: true});\n",
       "}}\n",
       "\n",
       "                        })                };                });            </script>        </div>"
      ]
     },
     "metadata": {},
     "output_type": "display_data"
    }
   ],
   "source": [
    "#     Gráfico de linhas utilizando Plotly\n",
    "    #     Valor pago ao longo dos meses conforme a idade\n",
    "#     Criando Plano cartesiano\n",
    "fig_pag_idd = go.Figure()\n",
    "\n",
    "''' (rows=) : Quantidade de linhas com gráficos\n",
    "    (cols=) : Quantidade de colunas com gráficos\n",
    "    (shared_yaxes=) : Se os gráficos vão compartilhar o mesmo eixo y, se sim = True, se não = False\n",
    "    (subplot_titles=) : Títulos dos subplots \n",
    "''' \n",
    "\n",
    "#     Criando vários subplots\n",
    "fig_pag_idd = make_subplots( rows = 3, cols = 2, shared_yaxes = True,\n",
    "                            subplot_titles = (\"Abril\",\"Maio\",\"Junho\",\"Julho\",\"Agosto\",\"Setembro\"))\n",
    "#     Criando gráfico da linha 1 coluna 1 referente à Abril e definindo a cor e grossura do traço\n",
    "fig_pag_idd.add_trace(go.Scatter( x = credit_gp_idade.idade,\n",
    "                                 y = credit_gp_idade.valor_pag_abr_2005,\n",
    "                                 line = dict(color = \"red\", width = 1.5),\n",
    "                                 name = \"Valor Pago em 04/2005\"), row = 1, col = 1\n",
    "                                )\n",
    "#     Criando gráfico da linha 1 coluna 2 referente à Maio e definindo a cor e grossura do traço\n",
    "fig_pag_idd.add_trace(go.Scatter( x = credit_gp_idade.idade,\n",
    "                                 y = credit_gp_idade.valor_pag_mai_2005,\n",
    "                                 line = dict(color = \"blue\", width = 1.5),\n",
    "                                 name = \"Valor Pago em 05/2005\"), row = 1, col = 2\n",
    "                                )\n",
    "#     Criando gráfico da linha 2 coluna 1 referente à Junho e definindo a cor e grossura do traço\n",
    "fig_pag_idd.add_trace(go.Scatter( x = credit_gp_idade.idade,\n",
    "                                 y = credit_gp_idade.valor_pag_jun_2005,\n",
    "                                 line = dict(color = \"green\", width = 1.5),\n",
    "                                 name = \"Valor Pago em 06/2005\"), row = 2, col = 1\n",
    "                                )\n",
    "#     Criando gráfico da linha 2 coluna 2 referente à Julho e definindo a cor e grossura do traço\n",
    "fig_pag_idd.add_trace(go.Scatter( x = credit_gp_idade.idade,\n",
    "                                 y = credit_gp_idade.valor_pag_jul_2005,\n",
    "                                 line = dict(color = \"purple\", width = 1.5),\n",
    "                                 name = \"Valor Pago em 07/2005\"), row = 2, col = 2\n",
    "                                )\n",
    "#     Criando gráfico da linha 3 coluna 1 referente à Agosto e definindo a cor e grossura do traço\n",
    "fig_pag_idd.add_trace(go.Scatter( x = credit_gp_idade.idade,\n",
    "                                 y = credit_gp_idade.valor_pag_ago_2005,\n",
    "                                 line = dict(color = \"yellow\", width = 1.5),\n",
    "                                 name = \"Valor Pago em 08/2005\"), row = 3, col = 1\n",
    "                                )\n",
    "#     Criando gráfico da linha 3 coluna 2 referente à Setembro e definindo a cor e grossura do traço\n",
    "fig_pag_idd.add_trace(go.Scatter( x = credit_gp_idade.idade,\n",
    "                                 y = credit_gp_idade.valor_pag_set_2005,\n",
    "                                 line = dict(color = \"#FF0092\", width = 1.5),\n",
    "                                 name = \"Valor Pago em 09/2005\"), row = 3, col = 2\n",
    "                                )\n",
    "#     Colocando um titulo\n",
    "fig_pag_idd.update_layout(title = \"Valor pago por mês conforme a idade dos clientes\")\n",
    "#     Editando as descrições das linhas e colunas conforme a necessidade\n",
    "fig_pag_idd.update_yaxes(title_text = \"Valor pago (Dólar NT)\", row = 1, col = 1, titlefont_size = 10)\n",
    "fig_pag_idd.update_yaxes(title_text = \"Valor pago (Dólar NT)\", row = 1, col = 2, titlefont_size = 10)\n",
    "fig_pag_idd.update_yaxes(title_text = \"Valor pago (Dólar NT)\", row = 2, col = 1, titlefont_size = 10)\n",
    "fig_pag_idd.update_yaxes(title_text = \"Valor pago (Dólar NT)\", row = 2, col = 2, titlefont_size = 10)\n",
    "fig_pag_idd.update_yaxes(title_text = \"Valor pago (Dólar NT)\", row = 3, col = 1, titlefont_size = 10)\n",
    "fig_pag_idd.update_yaxes(title_text = \"Valor pago (Dólar NT)\", row = 3, col = 2, titlefont_size = 10)\n",
    "\n",
    "fig_pag_idd.update_xaxes(title_text = \"Idade do Cliente\", row = 3, col = 1, titlefont_size = 10)\n",
    "fig_pag_idd.update_xaxes(title_text = \"Idade do Cliente\", row = 3, col = 2, titlefont_size = 10)\n",
    "\n",
    "#     Salvando Gráficos Interativos\n",
    "fig_pag_idd.write_html(\"Arquivos da Aplicação/Valor Pago por Idade.html\")\n",
    "\n",
    "#     Mostrando Gráficos\n",
    "fig_pag_idd.show()\n"
   ]
  },
  {
   "cell_type": "markdown",
   "id": "5d7fa750",
   "metadata": {},
   "source": [
    "    Objetivo específico: analisar a situação dos clientes (valor de crédito concedido, valor pago e extrato), nos últimos meses para o ano de 2005 de acordo com o sexo."
   ]
  },
  {
   "cell_type": "code",
   "execution_count": 230,
   "id": "8cabc3e8",
   "metadata": {},
   "outputs": [
    {
     "data": {
      "text/html": [
       "<div>\n",
       "<style scoped>\n",
       "    .dataframe tbody tr th:only-of-type {\n",
       "        vertical-align: middle;\n",
       "    }\n",
       "\n",
       "    .dataframe tbody tr th {\n",
       "        vertical-align: top;\n",
       "    }\n",
       "\n",
       "    .dataframe thead th {\n",
       "        text-align: right;\n",
       "    }\n",
       "</style>\n",
       "<table border=\"1\" class=\"dataframe\">\n",
       "  <thead>\n",
       "    <tr style=\"text-align: right;\">\n",
       "      <th></th>\n",
       "      <th>sexo</th>\n",
       "      <th>Unnamed: 0</th>\n",
       "      <th>ID</th>\n",
       "      <th>valor_credito</th>\n",
       "      <th>escolaridade</th>\n",
       "      <th>estado_civil</th>\n",
       "      <th>idade</th>\n",
       "      <th>status_pag_set_2005</th>\n",
       "      <th>status_pag_ago_2005</th>\n",
       "      <th>status_pag_jul_2005</th>\n",
       "      <th>...</th>\n",
       "      <th>extrato_jul_2005</th>\n",
       "      <th>extrato_jun_2005</th>\n",
       "      <th>extrato_mai_2005</th>\n",
       "      <th>extrato_abr_2005</th>\n",
       "      <th>valor_pag_set_2005</th>\n",
       "      <th>valor_pag_ago_2005</th>\n",
       "      <th>valor_pag_jul_2005</th>\n",
       "      <th>valor_pag_jun_2005</th>\n",
       "      <th>valor_pag_mai_2005</th>\n",
       "      <th>valor_pag_abr_2005</th>\n",
       "    </tr>\n",
       "  </thead>\n",
       "  <tbody>\n",
       "    <tr>\n",
       "      <th>0</th>\n",
       "      <td>1</td>\n",
       "      <td>14799.930640</td>\n",
       "      <td>14800.930640</td>\n",
       "      <td>163486.841751</td>\n",
       "      <td>1.840488</td>\n",
       "      <td>1.571970</td>\n",
       "      <td>36.518687</td>\n",
       "      <td>0.063552</td>\n",
       "      <td>-0.028535</td>\n",
       "      <td>-0.067761</td>\n",
       "      <td>...</td>\n",
       "      <td>49138.733754</td>\n",
       "      <td>45021.779545</td>\n",
       "      <td>41611.462374</td>\n",
       "      <td>40127.819444</td>\n",
       "      <td>5666.816330</td>\n",
       "      <td>5956.018350</td>\n",
       "      <td>5408.779630</td>\n",
       "      <td>4869.677020</td>\n",
       "      <td>4832.972559</td>\n",
       "      <td>5277.782576</td>\n",
       "    </tr>\n",
       "    <tr>\n",
       "      <th>1</th>\n",
       "      <td>2</td>\n",
       "      <td>15128.827958</td>\n",
       "      <td>15129.827958</td>\n",
       "      <td>170068.816967</td>\n",
       "      <td>1.862863</td>\n",
       "      <td>1.538551</td>\n",
       "      <td>34.804982</td>\n",
       "      <td>-0.068983</td>\n",
       "      <td>-0.202143</td>\n",
       "      <td>-0.230200</td>\n",
       "      <td>...</td>\n",
       "      <td>45641.289462</td>\n",
       "      <td>42132.046007</td>\n",
       "      <td>39483.824644</td>\n",
       "      <td>38073.594168</td>\n",
       "      <td>5661.239147</td>\n",
       "      <td>5892.796532</td>\n",
       "      <td>5102.761018</td>\n",
       "      <td>4798.401359</td>\n",
       "      <td>4779.097040</td>\n",
       "      <td>5176.345907</td>\n",
       "    </tr>\n",
       "  </tbody>\n",
       "</table>\n",
       "<p>2 rows × 25 columns</p>\n",
       "</div>"
      ],
      "text/plain": [
       "   sexo    Unnamed: 0            ID  valor_credito  escolaridade  \\\n",
       "0     1  14799.930640  14800.930640  163486.841751      1.840488   \n",
       "1     2  15128.827958  15129.827958  170068.816967      1.862863   \n",
       "\n",
       "   estado_civil      idade  status_pag_set_2005  status_pag_ago_2005  \\\n",
       "0      1.571970  36.518687             0.063552            -0.028535   \n",
       "1      1.538551  34.804982            -0.068983            -0.202143   \n",
       "\n",
       "   status_pag_jul_2005  ...  extrato_jul_2005  extrato_jun_2005  \\\n",
       "0            -0.067761  ...      49138.733754      45021.779545   \n",
       "1            -0.230200  ...      45641.289462      42132.046007   \n",
       "\n",
       "   extrato_mai_2005  extrato_abr_2005  valor_pag_set_2005  valor_pag_ago_2005  \\\n",
       "0      41611.462374      40127.819444         5666.816330         5956.018350   \n",
       "1      39483.824644      38073.594168         5661.239147         5892.796532   \n",
       "\n",
       "   valor_pag_jul_2005  valor_pag_jun_2005  valor_pag_mai_2005  \\\n",
       "0         5408.779630         4869.677020         4832.972559   \n",
       "1         5102.761018         4798.401359         4779.097040   \n",
       "\n",
       "   valor_pag_abr_2005  \n",
       "0         5277.782576  \n",
       "1         5176.345907  \n",
       "\n",
       "[2 rows x 25 columns]"
      ]
     },
     "execution_count": 230,
     "metadata": {},
     "output_type": "execute_result"
    }
   ],
   "source": [
    "#     Gráfico de Pizza com matplotlib\n",
    "    #     Analizando o valor de crédito conforme o sexo\n",
    "#     Agrupando valores do DataSet por Sexo\n",
    "credit_gp_sexo = credit.groupby([\"sexo\"]).mean().reset_index()\n",
    "credit_gp_sexo\n"
   ]
  },
  {
   "cell_type": "code",
   "execution_count": 262,
   "id": "e6dc51fb",
   "metadata": {},
   "outputs": [
    {
     "data": {
      "image/png": "[encoded data removed]",
      "text/plain": [
       "<Figure size 720x720 with 1 Axes>"
      ]
     },
     "metadata": {},
     "output_type": "display_data"
    }
   ],
   "source": [
    "#     Iniciando Gráfico\n",
    "fig_sx, ax = plt.subplots(figsize = (10, 10), facecolor= 'w')\n",
    "\n",
    "#     Colocando especificações do gráfico\n",
    "ax.pie(credit_gp_sexo.valor_credito, labels = credit_gp_sexo.index, autopct = \"%.2f%%\", shadow= True,\n",
    "      startangle = 60, colors = [\"red\",\"seagreen\"], explode = (0.05, 0)\n",
    "      )\n",
    "ax.set_title(\"Porcentagem do Valor de Crédito por Sexo\", fontsize = 14);\n",
    "#     1- Masculino    2- Feminino\n",
    "\n",
    "\n"
   ]
  },
  {
   "cell_type": "code",
   "execution_count": 311,
   "id": "05474d9f",
   "metadata": {},
   "outputs": [
    {
     "data": {
      "application/vnd.plotly.v1+json": {
       "config": {
        "plotlyServerURL": "https://plot.ly"
       },
       "data": [
        {
         "domain": {
          "x": [
           0,
           0.45
          ],
          "y": [
           0,
           1
          ]
         },
         "hole": 0.4,
         "labels": [
          1,
          2
         ],
         "name": "Abril",
         "type": "pie",
         "values": [
          40127.819444444445,
          38073.59416767922
         ]
        },
        {
         "domain": {
          "x": [
           0.55,
           1
          ],
          "y": [
           0,
           1
          ]
         },
         "hole": 0.4,
         "labels": [
          1,
          2
         ],
         "name": "Setembro",
         "type": "pie",
         "values": [
          54310.020286195286,
          49228.54042858721
         ]
        }
       ],
       "layout": {
        "annotations": [
         {
          "font": {
           "size": 18
          },
          "showarrow": false,
          "text": "Abril",
          "x": 0.19,
          "y": 0.5
         },
         {
          "font": {
           "size": 18
          },
          "showarrow": false,
          "text": "Setembro",
          "x": 0.84,
          "y": 0.5
         }
        ],
        "template": {
         "data": {
          "bar": [
           {
            "error_x": {
             "color": "#2a3f5f"
            },
            "error_y": {
             "color": "#2a3f5f"
            },
            "marker": {
             "line": {
              "color": "#E5ECF6",
              "width": 0.5
             },
             "pattern": {
              "fillmode": "overlay",
              "size": 10,
              "solidity": 0.2
             }
            },
            "type": "bar"
           }
          ],
          "barpolar": [
           {
            "marker": {
             "line": {
              "color": "#E5ECF6",
              "width": 0.5
             },
             "pattern": {
              "fillmode": "overlay",
              "size": 10,
              "solidity": 0.2
             }
            },
            "type": "barpolar"
           }
          ],
          "carpet": [
           {
            "aaxis": {
             "endlinecolor": "#2a3f5f",
             "gridcolor": "white",
             "linecolor": "white",
             "minorgridcolor": "white",
             "startlinecolor": "#2a3f5f"
            },
            "baxis": {
             "endlinecolor": "#2a3f5f",
             "gridcolor": "white",
             "linecolor": "white",
             "minorgridcolor": "white",
             "startlinecolor": "#2a3f5f"
            },
            "type": "carpet"
           }
          ],
          "choropleth": [
           {
            "colorbar": {
             "outlinewidth": 0,
             "ticks": ""
            },
            "type": "choropleth"
           }
          ],
          "contour": [
           {
            "colorbar": {
             "outlinewidth": 0,
             "ticks": ""
            },
            "colorscale": [
             [
              0,
              "#0d0887"
             ],
             [
              0.1111111111111111,
              "#46039f"
             ],
             [
              0.2222222222222222,
              "#7201a8"
             ],
             [
              0.3333333333333333,
              "#9c179e"
             ],
             [
              0.4444444444444444,
              "#bd3786"
             ],
             [
              0.5555555555555556,
              "#d8576b"
             ],
             [
              0.6666666666666666,
              "#ed7953"
             ],
             [
              0.7777777777777778,
              "#fb9f3a"
             ],
             [
              0.8888888888888888,
              "#fdca26"
             ],
             [
              1,
              "#f0f921"
             ]
            ],
            "type": "contour"
           }
          ],
          "contourcarpet": [
           {
            "colorbar": {
             "outlinewidth": 0,
             "ticks": ""
            },
            "type": "contourcarpet"
           }
          ],
          "heatmap": [
           {
            "colorbar": {
             "outlinewidth": 0,
             "ticks": ""
            },
            "colorscale": [
             [
              0,
              "#0d0887"
             ],
             [
              0.1111111111111111,
              "#46039f"
             ],
             [
              0.2222222222222222,
              "#7201a8"
             ],
             [
              0.3333333333333333,
              "#9c179e"
             ],
             [
              0.4444444444444444,
              "#bd3786"
             ],
             [
              0.5555555555555556,
              "#d8576b"
             ],
             [
              0.6666666666666666,
              "#ed7953"
             ],
             [
              0.7777777777777778,
              "#fb9f3a"
             ],
             [
              0.8888888888888888,
              "#fdca26"
             ],
             [
              1,
              "#f0f921"
             ]
            ],
            "type": "heatmap"
           }
          ],
          "heatmapgl": [
           {
            "colorbar": {
             "outlinewidth": 0,
             "ticks": ""
            },
            "colorscale": [
             [
              0,
              "#0d0887"
             ],
             [
              0.1111111111111111,
              "#46039f"
             ],
             [
              0.2222222222222222,
              "#7201a8"
             ],
             [
              0.3333333333333333,
              "#9c179e"
             ],
             [
              0.4444444444444444,
              "#bd3786"
             ],
             [
              0.5555555555555556,
              "#d8576b"
             ],
             [
              0.6666666666666666,
              "#ed7953"
             ],
             [
              0.7777777777777778,
              "#fb9f3a"
             ],
             [
              0.8888888888888888,
              "#fdca26"
             ],
             [
              1,
              "#f0f921"
             ]
            ],
            "type": "heatmapgl"
           }
          ],
          "histogram": [
           {
            "marker": {
             "pattern": {
              "fillmode": "overlay",
              "size": 10,
              "solidity": 0.2
             }
            },
            "type": "histogram"
           }
          ],
          "histogram2d": [
           {
            "colorbar": {
             "outlinewidth": 0,
             "ticks": ""
            },
            "colorscale": [
             [
              0,
              "#0d0887"
             ],
             [
              0.1111111111111111,
              "#46039f"
             ],
             [
              0.2222222222222222,
              "#7201a8"
             ],
             [
              0.3333333333333333,
              "#9c179e"
             ],
             [
              0.4444444444444444,
              "#bd3786"
             ],
             [
              0.5555555555555556,
              "#d8576b"
             ],
             [
              0.6666666666666666,
              "#ed7953"
             ],
             [
              0.7777777777777778,
              "#fb9f3a"
             ],
             [
              0.8888888888888888,
              "#fdca26"
             ],
             [
              1,
              "#f0f921"
             ]
            ],
            "type": "histogram2d"
           }
          ],
          "histogram2dcontour": [
           {
            "colorbar": {
             "outlinewidth": 0,
             "ticks": ""
            },
            "colorscale": [
             [
              0,
              "#0d0887"
             ],
             [
              0.1111111111111111,
              "#46039f"
             ],
             [
              0.2222222222222222,
              "#7201a8"
             ],
             [
              0.3333333333333333,
              "#9c179e"
             ],
             [
              0.4444444444444444,
              "#bd3786"
             ],
             [
              0.5555555555555556,
              "#d8576b"
             ],
             [
              0.6666666666666666,
              "#ed7953"
             ],
             [
              0.7777777777777778,
              "#fb9f3a"
             ],
             [
              0.8888888888888888,
              "#fdca26"
             ],
             [
              1,
              "#f0f921"
             ]
            ],
            "type": "histogram2dcontour"
           }
          ],
          "mesh3d": [
           {
            "colorbar": {
             "outlinewidth": 0,
             "ticks": ""
            },
            "type": "mesh3d"
           }
          ],
          "parcoords": [
           {
            "line": {
             "colorbar": {
              "outlinewidth": 0,
              "ticks": ""
             }
            },
            "type": "parcoords"
           }
          ],
          "pie": [
           {
            "automargin": true,
            "type": "pie"
           }
          ],
          "scatter": [
           {
            "marker": {
             "colorbar": {
              "outlinewidth": 0,
              "ticks": ""
             }
            },
            "type": "scatter"
           }
          ],
          "scatter3d": [
           {
            "line": {
             "colorbar": {
              "outlinewidth": 0,
              "ticks": ""
             }
            },
            "marker": {
             "colorbar": {
              "outlinewidth": 0,
              "ticks": ""
             }
            },
            "type": "scatter3d"
           }
          ],
          "scattercarpet": [
           {
            "marker": {
             "colorbar": {
              "outlinewidth": 0,
              "ticks": ""
             }
            },
            "type": "scattercarpet"
           }
          ],
          "scattergeo": [
           {
            "marker": {
             "colorbar": {
              "outlinewidth": 0,
              "ticks": ""
             }
            },
            "type": "scattergeo"
           }
          ],
          "scattergl": [
           {
            "marker": {
             "colorbar": {
              "outlinewidth": 0,
              "ticks": ""
             }
            },
            "type": "scattergl"
           }
          ],
          "scattermapbox": [
           {
            "marker": {
             "colorbar": {
              "outlinewidth": 0,
              "ticks": ""
             }
            },
            "type": "scattermapbox"
           }
          ],
          "scatterpolar": [
           {
            "marker": {
             "colorbar": {
              "outlinewidth": 0,
              "ticks": ""
             }
            },
            "type": "scatterpolar"
           }
          ],
          "scatterpolargl": [
           {
            "marker": {
             "colorbar": {
              "outlinewidth": 0,
              "ticks": ""
             }
            },
            "type": "scatterpolargl"
           }
          ],
          "scatterternary": [
           {
            "marker": {
             "colorbar": {
              "outlinewidth": 0,
              "ticks": ""
             }
            },
            "type": "scatterternary"
           }
          ],
          "surface": [
           {
            "colorbar": {
             "outlinewidth": 0,
             "ticks": ""
            },
            "colorscale": [
             [
              0,
              "#0d0887"
             ],
             [
              0.1111111111111111,
              "#46039f"
             ],
             [
              0.2222222222222222,
              "#7201a8"
             ],
             [
              0.3333333333333333,
              "#9c179e"
             ],
             [
              0.4444444444444444,
              "#bd3786"
             ],
             [
              0.5555555555555556,
              "#d8576b"
             ],
             [
              0.6666666666666666,
              "#ed7953"
             ],
             [
              0.7777777777777778,
              "#fb9f3a"
             ],
             [
              0.8888888888888888,
              "#fdca26"
             ],
             [
              1,
              "#f0f921"
             ]
            ],
            "type": "surface"
           }
          ],
          "table": [
           {
            "cells": {
             "fill": {
              "color": "#EBF0F8"
             },
             "line": {
              "color": "white"
             }
            },
            "header": {
             "fill": {
              "color": "#C8D4E3"
             },
             "line": {
              "color": "white"
             }
            },
            "type": "table"
           }
          ]
         },
         "layout": {
          "annotationdefaults": {
           "arrowcolor": "#2a3f5f",
           "arrowhead": 0,
           "arrowwidth": 1
          },
          "autotypenumbers": "strict",
          "coloraxis": {
           "colorbar": {
            "outlinewidth": 0,
            "ticks": ""
           }
          },
          "colorscale": {
           "diverging": [
            [
             0,
             "#8e0152"
            ],
            [
             0.1,
             "#c51b7d"
            ],
            [
             0.2,
             "#de77ae"
            ],
            [
             0.3,
             "#f1b6da"
            ],
            [
             0.4,
             "#fde0ef"
            ],
            [
             0.5,
             "#f7f7f7"
            ],
            [
             0.6,
             "#e6f5d0"
            ],
            [
             0.7,
             "#b8e186"
            ],
            [
             0.8,
             "#7fbc41"
            ],
            [
             0.9,
             "#4d9221"
            ],
            [
             1,
             "#276419"
            ]
           ],
           "sequential": [
            [
             0,
             "#0d0887"
            ],
            [
             0.1111111111111111,
             "#46039f"
            ],
            [
             0.2222222222222222,
             "#7201a8"
            ],
            [
             0.3333333333333333,
             "#9c179e"
            ],
            [
             0.4444444444444444,
             "#bd3786"
            ],
            [
             0.5555555555555556,
             "#d8576b"
            ],
            [
             0.6666666666666666,
             "#ed7953"
            ],
            [
             0.7777777777777778,
             "#fb9f3a"
            ],
            [
             0.8888888888888888,
             "#fdca26"
            ],
            [
             1,
             "#f0f921"
            ]
           ],
           "sequentialminus": [
            [
             0,
             "#0d0887"
            ],
            [
             0.1111111111111111,
             "#46039f"
            ],
            [
             0.2222222222222222,
             "#7201a8"
            ],
            [
             0.3333333333333333,
             "#9c179e"
            ],
            [
             0.4444444444444444,
             "#bd3786"
            ],
            [
             0.5555555555555556,
             "#d8576b"
            ],
            [
             0.6666666666666666,
             "#ed7953"
            ],
            [
             0.7777777777777778,
             "#fb9f3a"
            ],
            [
             0.8888888888888888,
             "#fdca26"
            ],
            [
             1,
             "#f0f921"
            ]
           ]
          },
          "colorway": [
           "#636efa",
           "#EF553B",
           "#00cc96",
           "#ab63fa",
           "#FFA15A",
           "#19d3f3",
           "#FF6692",
           "#B6E880",
           "#FF97FF",
           "#FECB52"
          ],
          "font": {
           "color": "#2a3f5f"
          },
          "geo": {
           "bgcolor": "white",
           "lakecolor": "white",
           "landcolor": "#E5ECF6",
           "showlakes": true,
           "showland": true,
           "subunitcolor": "white"
          },
          "hoverlabel": {
           "align": "left"
          },
          "hovermode": "closest",
          "mapbox": {
           "style": "light"
          },
          "paper_bgcolor": "white",
          "plot_bgcolor": "#E5ECF6",
          "polar": {
           "angularaxis": {
            "gridcolor": "white",
            "linecolor": "white",
            "ticks": ""
           },
           "bgcolor": "#E5ECF6",
           "radialaxis": {
            "gridcolor": "white",
            "linecolor": "white",
            "ticks": ""
           }
          },
          "scene": {
           "xaxis": {
            "backgroundcolor": "#E5ECF6",
            "gridcolor": "white",
            "gridwidth": 2,
            "linecolor": "white",
            "showbackground": true,
            "ticks": "",
            "zerolinecolor": "white"
           },
           "yaxis": {
            "backgroundcolor": "#E5ECF6",
            "gridcolor": "white",
            "gridwidth": 2,
            "linecolor": "white",
            "showbackground": true,
            "ticks": "",
            "zerolinecolor": "white"
           },
           "zaxis": {
            "backgroundcolor": "#E5ECF6",
            "gridcolor": "white",
            "gridwidth": 2,
            "linecolor": "white",
            "showbackground": true,
            "ticks": "",
            "zerolinecolor": "white"
           }
          },
          "shapedefaults": {
           "line": {
            "color": "#2a3f5f"
           }
          },
          "ternary": {
           "aaxis": {
            "gridcolor": "white",
            "linecolor": "white",
            "ticks": ""
           },
           "baxis": {
            "gridcolor": "white",
            "linecolor": "white",
            "ticks": ""
           },
           "bgcolor": "#E5ECF6",
           "caxis": {
            "gridcolor": "white",
            "linecolor": "white",
            "ticks": ""
           }
          },
          "title": {
           "x": 0.05
          },
          "xaxis": {
           "automargin": true,
           "gridcolor": "white",
           "linecolor": "white",
           "ticks": "",
           "title": {
            "standoff": 15
           },
           "zerolinecolor": "white",
           "zerolinewidth": 2
          },
          "yaxis": {
           "automargin": true,
           "gridcolor": "white",
           "linecolor": "white",
           "ticks": "",
           "title": {
            "standoff": 15
           },
           "zerolinecolor": "white",
           "zerolinewidth": 2
          }
         }
        },
        "title": {
         "text": "Extrato de Pagamento de Abril e Setembro por sexo"
        }
       }
      },
      "text/html": [
       "<div>                            <div id=\"cb07e9de-7f50-4289-92e5-bac95940dce1\" class=\"plotly-graph-div\" style=\"height:525px; width:100%;\"></div>            <script type=\"text/javascript\">                require([\"plotly\"], function(Plotly) {                    window.PLOTLYENV=window.PLOTLYENV || {};                                    if (document.getElementById(\"cb07e9de-7f50-4289-92e5-bac95940dce1\")) {                    Plotly.newPlot(                        \"cb07e9de-7f50-4289-92e5-bac95940dce1\",                        [{\"labels\":[1,2],\"name\":\"Abril\",\"values\":[40127.819444444445,38073.59416767922],\"type\":\"pie\",\"domain\":{\"x\":[0.0,0.45],\"y\":[0.0,1.0]},\"hole\":0.4},{\"labels\":[1,2],\"name\":\"Setembro\",\"values\":[54310.020286195286,49228.54042858721],\"type\":\"pie\",\"domain\":{\"x\":[0.55,1.0],\"y\":[0.0,1.0]},\"hole\":0.4}],                        {\"template\":{\"data\":{\"bar\":[{\"error_x\":{\"color\":\"#2a3f5f\"},\"error_y\":{\"color\":\"#2a3f5f\"},\"marker\":{\"line\":{\"color\":\"#E5ECF6\",\"width\":0.5},\"pattern\":{\"fillmode\":\"overlay\",\"size\":10,\"solidity\":0.2}},\"type\":\"bar\"}],\"barpolar\":[{\"marker\":{\"line\":{\"color\":\"#E5ECF6\",\"width\":0.5},\"pattern\":{\"fillmode\":\"overlay\",\"size\":10,\"solidity\":0.2}},\"type\":\"barpolar\"}],\"carpet\":[{\"aaxis\":{\"endlinecolor\":\"#2a3f5f\",\"gridcolor\":\"white\",\"linecolor\":\"white\",\"minorgridcolor\":\"white\",\"startlinecolor\":\"#2a3f5f\"},\"baxis\":{\"endlinecolor\":\"#2a3f5f\",\"gridcolor\":\"white\",\"linecolor\":\"white\",\"minorgridcolor\":\"white\",\"startlinecolor\":\"#2a3f5f\"},\"type\":\"carpet\"}],\"choropleth\":[{\"colorbar\":{\"outlinewidth\":0,\"ticks\":\"\"},\"type\":\"choropleth\"}],\"contour\":[{\"colorbar\":{\"outlinewidth\":0,\"ticks\":\"\"},\"colorscale\":[[0.0,\"#0d0887\"],[0.1111111111111111,\"#46039f\"],[0.2222222222222222,\"#7201a8\"],[0.3333333333333333,\"#9c179e\"],[0.4444444444444444,\"#bd3786\"],[0.5555555555555556,\"#d8576b\"],[0.6666666666666666,\"#ed7953\"],[0.7777777777777778,\"#fb9f3a\"],[0.8888888888888888,\"#fdca26\"],[1.0,\"#f0f921\"]],\"type\":\"contour\"}],\"contourcarpet\":[{\"colorbar\":{\"outlinewidth\":0,\"ticks\":\"\"},\"type\":\"contourcarpet\"}],\"heatmap\":[{\"colorbar\":{\"outlinewidth\":0,\"ticks\":\"\"},\"colorscale\":[[0.0,\"#0d0887\"],[0.1111111111111111,\"#46039f\"],[0.2222222222222222,\"#7201a8\"],[0.3333333333333333,\"#9c179e\"],[0.4444444444444444,\"#bd3786\"],[0.5555555555555556,\"#d8576b\"],[0.6666666666666666,\"#ed7953\"],[0.7777777777777778,\"#fb9f3a\"],[0.8888888888888888,\"#fdca26\"],[1.0,\"#f0f921\"]],\"type\":\"heatmap\"}],\"heatmapgl\":[{\"colorbar\":{\"outlinewidth\":0,\"ticks\":\"\"},\"colorscale\":[[0.0,\"#0d0887\"],[0.1111111111111111,\"#46039f\"],[0.2222222222222222,\"#7201a8\"],[0.3333333333333333,\"#9c179e\"],[0.4444444444444444,\"#bd3786\"],[0.5555555555555556,\"#d8576b\"],[0.6666666666666666,\"#ed7953\"],[0.7777777777777778,\"#fb9f3a\"],[0.8888888888888888,\"#fdca26\"],[1.0,\"#f0f921\"]],\"type\":\"heatmapgl\"}],\"histogram\":[{\"marker\":{\"pattern\":{\"fillmode\":\"overlay\",\"size\":10,\"solidity\":0.2}},\"type\":\"histogram\"}],\"histogram2d\":[{\"colorbar\":{\"outlinewidth\":0,\"ticks\":\"\"},\"colorscale\":[[0.0,\"#0d0887\"],[0.1111111111111111,\"#46039f\"],[0.2222222222222222,\"#7201a8\"],[0.3333333333333333,\"#9c179e\"],[0.4444444444444444,\"#bd3786\"],[0.5555555555555556,\"#d8576b\"],[0.6666666666666666,\"#ed7953\"],[0.7777777777777778,\"#fb9f3a\"],[0.8888888888888888,\"#fdca26\"],[1.0,\"#f0f921\"]],\"type\":\"histogram2d\"}],\"histogram2dcontour\":[{\"colorbar\":{\"outlinewidth\":0,\"ticks\":\"\"},\"colorscale\":[[0.0,\"#0d0887\"],[0.1111111111111111,\"#46039f\"],[0.2222222222222222,\"#7201a8\"],[0.3333333333333333,\"#9c179e\"],[0.4444444444444444,\"#bd3786\"],[0.5555555555555556,\"#d8576b\"],[0.6666666666666666,\"#ed7953\"],[0.7777777777777778,\"#fb9f3a\"],[0.8888888888888888,\"#fdca26\"],[1.0,\"#f0f921\"]],\"type\":\"histogram2dcontour\"}],\"mesh3d\":[{\"colorbar\":{\"outlinewidth\":0,\"ticks\":\"\"},\"type\":\"mesh3d\"}],\"parcoords\":[{\"line\":{\"colorbar\":{\"outlinewidth\":0,\"ticks\":\"\"}},\"type\":\"parcoords\"}],\"pie\":[{\"automargin\":true,\"type\":\"pie\"}],\"scatter\":[{\"marker\":{\"colorbar\":{\"outlinewidth\":0,\"ticks\":\"\"}},\"type\":\"scatter\"}],\"scatter3d\":[{\"line\":{\"colorbar\":{\"outlinewidth\":0,\"ticks\":\"\"}},\"marker\":{\"colorbar\":{\"outlinewidth\":0,\"ticks\":\"\"}},\"type\":\"scatter3d\"}],\"scattercarpet\":[{\"marker\":{\"colorbar\":{\"outlinewidth\":0,\"ticks\":\"\"}},\"type\":\"scattercarpet\"}],\"scattergeo\":[{\"marker\":{\"colorbar\":{\"outlinewidth\":0,\"ticks\":\"\"}},\"type\":\"scattergeo\"}],\"scattergl\":[{\"marker\":{\"colorbar\":{\"outlinewidth\":0,\"ticks\":\"\"}},\"type\":\"scattergl\"}],\"scattermapbox\":[{\"marker\":{\"colorbar\":{\"outlinewidth\":0,\"ticks\":\"\"}},\"type\":\"scattermapbox\"}],\"scatterpolar\":[{\"marker\":{\"colorbar\":{\"outlinewidth\":0,\"ticks\":\"\"}},\"type\":\"scatterpolar\"}],\"scatterpolargl\":[{\"marker\":{\"colorbar\":{\"outlinewidth\":0,\"ticks\":\"\"}},\"type\":\"scatterpolargl\"}],\"scatterternary\":[{\"marker\":{\"colorbar\":{\"outlinewidth\":0,\"ticks\":\"\"}},\"type\":\"scatterternary\"}],\"surface\":[{\"colorbar\":{\"outlinewidth\":0,\"ticks\":\"\"},\"colorscale\":[[0.0,\"#0d0887\"],[0.1111111111111111,\"#46039f\"],[0.2222222222222222,\"#7201a8\"],[0.3333333333333333,\"#9c179e\"],[0.4444444444444444,\"#bd3786\"],[0.5555555555555556,\"#d8576b\"],[0.6666666666666666,\"#ed7953\"],[0.7777777777777778,\"#fb9f3a\"],[0.8888888888888888,\"#fdca26\"],[1.0,\"#f0f921\"]],\"type\":\"surface\"}],\"table\":[{\"cells\":{\"fill\":{\"color\":\"#EBF0F8\"},\"line\":{\"color\":\"white\"}},\"header\":{\"fill\":{\"color\":\"#C8D4E3\"},\"line\":{\"color\":\"white\"}},\"type\":\"table\"}]},\"layout\":{\"annotationdefaults\":{\"arrowcolor\":\"#2a3f5f\",\"arrowhead\":0,\"arrowwidth\":1},\"autotypenumbers\":\"strict\",\"coloraxis\":{\"colorbar\":{\"outlinewidth\":0,\"ticks\":\"\"}},\"colorscale\":{\"diverging\":[[0,\"#8e0152\"],[0.1,\"#c51b7d\"],[0.2,\"#de77ae\"],[0.3,\"#f1b6da\"],[0.4,\"#fde0ef\"],[0.5,\"#f7f7f7\"],[0.6,\"#e6f5d0\"],[0.7,\"#b8e186\"],[0.8,\"#7fbc41\"],[0.9,\"#4d9221\"],[1,\"#276419\"]],\"sequential\":[[0.0,\"#0d0887\"],[0.1111111111111111,\"#46039f\"],[0.2222222222222222,\"#7201a8\"],[0.3333333333333333,\"#9c179e\"],[0.4444444444444444,\"#bd3786\"],[0.5555555555555556,\"#d8576b\"],[0.6666666666666666,\"#ed7953\"],[0.7777777777777778,\"#fb9f3a\"],[0.8888888888888888,\"#fdca26\"],[1.0,\"#f0f921\"]],\"sequentialminus\":[[0.0,\"#0d0887\"],[0.1111111111111111,\"#46039f\"],[0.2222222222222222,\"#7201a8\"],[0.3333333333333333,\"#9c179e\"],[0.4444444444444444,\"#bd3786\"],[0.5555555555555556,\"#d8576b\"],[0.6666666666666666,\"#ed7953\"],[0.7777777777777778,\"#fb9f3a\"],[0.8888888888888888,\"#fdca26\"],[1.0,\"#f0f921\"]]},\"colorway\":[\"#636efa\",\"#EF553B\",\"#00cc96\",\"#ab63fa\",\"#FFA15A\",\"#19d3f3\",\"#FF6692\",\"#B6E880\",\"#FF97FF\",\"#FECB52\"],\"font\":{\"color\":\"#2a3f5f\"},\"geo\":{\"bgcolor\":\"white\",\"lakecolor\":\"white\",\"landcolor\":\"#E5ECF6\",\"showlakes\":true,\"showland\":true,\"subunitcolor\":\"white\"},\"hoverlabel\":{\"align\":\"left\"},\"hovermode\":\"closest\",\"mapbox\":{\"style\":\"light\"},\"paper_bgcolor\":\"white\",\"plot_bgcolor\":\"#E5ECF6\",\"polar\":{\"angularaxis\":{\"gridcolor\":\"white\",\"linecolor\":\"white\",\"ticks\":\"\"},\"bgcolor\":\"#E5ECF6\",\"radialaxis\":{\"gridcolor\":\"white\",\"linecolor\":\"white\",\"ticks\":\"\"}},\"scene\":{\"xaxis\":{\"backgroundcolor\":\"#E5ECF6\",\"gridcolor\":\"white\",\"gridwidth\":2,\"linecolor\":\"white\",\"showbackground\":true,\"ticks\":\"\",\"zerolinecolor\":\"white\"},\"yaxis\":{\"backgroundcolor\":\"#E5ECF6\",\"gridcolor\":\"white\",\"gridwidth\":2,\"linecolor\":\"white\",\"showbackground\":true,\"ticks\":\"\",\"zerolinecolor\":\"white\"},\"zaxis\":{\"backgroundcolor\":\"#E5ECF6\",\"gridcolor\":\"white\",\"gridwidth\":2,\"linecolor\":\"white\",\"showbackground\":true,\"ticks\":\"\",\"zerolinecolor\":\"white\"}},\"shapedefaults\":{\"line\":{\"color\":\"#2a3f5f\"}},\"ternary\":{\"aaxis\":{\"gridcolor\":\"white\",\"linecolor\":\"white\",\"ticks\":\"\"},\"baxis\":{\"gridcolor\":\"white\",\"linecolor\":\"white\",\"ticks\":\"\"},\"bgcolor\":\"#E5ECF6\",\"caxis\":{\"gridcolor\":\"white\",\"linecolor\":\"white\",\"ticks\":\"\"}},\"title\":{\"x\":0.05},\"xaxis\":{\"automargin\":true,\"gridcolor\":\"white\",\"linecolor\":\"white\",\"ticks\":\"\",\"title\":{\"standoff\":15},\"zerolinecolor\":\"white\",\"zerolinewidth\":2},\"yaxis\":{\"automargin\":true,\"gridcolor\":\"white\",\"linecolor\":\"white\",\"ticks\":\"\",\"title\":{\"standoff\":15},\"zerolinecolor\":\"white\",\"zerolinewidth\":2}}},\"title\":{\"text\":\"Extrato de Pagamento de Abril e Setembro por sexo\"},\"annotations\":[{\"showarrow\":false,\"text\":\"Abril\",\"x\":0.19,\"y\":0.5,\"font\":{\"size\":18}},{\"showarrow\":false,\"text\":\"Setembro\",\"x\":0.84,\"y\":0.5,\"font\":{\"size\":18}}]},                        {\"responsive\": true}                    ).then(function(){\n",
       "                            \n",
       "var gd = document.getElementById('cb07e9de-7f50-4289-92e5-bac95940dce1');\n",
       "var x = new MutationObserver(function (mutations, observer) {{\n",
       "        var display = window.getComputedStyle(gd).display;\n",
       "        if (!display || display === 'none') {{\n",
       "            console.log([gd, 'removed!']);\n",
       "            Plotly.purge(gd);\n",
       "            observer.disconnect();\n",
       "        }}\n",
       "}});\n",
       "\n",
       "// Listen for the removal of the full notebook cells\n",
       "var notebookContainer = gd.closest('#notebook-container');\n",
       "if (notebookContainer) {{\n",
       "    x.observe(notebookContainer, {childList: true});\n",
       "}}\n",
       "\n",
       "// Listen for the clearing of the current output cell\n",
       "var outputEl = gd.closest('.output');\n",
       "if (outputEl) {{\n",
       "    x.observe(outputEl, {childList: true});\n",
       "}}\n",
       "\n",
       "                        })                };                });            </script>        </div>"
      ]
     },
     "metadata": {},
     "output_type": "display_data"
    }
   ],
   "source": [
    "#     Gráfico de Pizza com Plotly\n",
    "\n",
    "#     Iniciando Gráfico    \n",
    "fig_pag_sx = make_subplots(rows = 1, cols = 2, specs = [[{'type' : 'domain'},{'type' : 'domain'}]])\n",
    "\n",
    "#     DefininDo variáveis dos gráficos\n",
    "fig_pag_sx.add_trace(go.Pie(labels = credit_gp_sexo.sexo,\n",
    "                            values = credit_gp_sexo.extrato_abr_2005, name = \"Abril\"),1,1)\n",
    "fig_pag_sx.add_trace(go.Pie(labels = credit_gp_sexo.sexo,\n",
    "                            values = credit_gp_sexo.extrato_set_2005, name = \"Setembro\"),1,2)\n",
    "\n",
    "#     Editando algumas caracteristicas dos gráficos\n",
    "fig_pag_sx.update_traces(hole = .4) # Cria um buraco no centro do Gráfico\n",
    "\n",
    "#     Definindo título e posição das descrições\n",
    "fig_pag_sx.update_layout(title_text = \"Extrato de Pagamento de Abril e Setembro por sexo\",\n",
    "                        annotations =  [dict(text = 'Abril', x = 0.19 , y = 0.5, font_size = 18,\n",
    "                                             showarrow = False),\n",
    "                                       dict(text = 'Setembro', x = 0.84 , y = 0.5, font_size = 18,\n",
    "                                             showarrow = False)])\n",
    "\n",
    "#     Salvando Gráfico Interativo\n",
    "fig_pag_sx.write_html(\"Arquivos da Aplicação/Gráfico de Pizza do Extrato de Pag de Abr e Set por sexo.html\")\n",
    "\n",
    "#     Mostrando Gráfico\n",
    "fig_pag_sx.show()"
   ]
  }
 ],
 "metadata": {
  "kernelspec": {
   "display_name": "Python 3 (ipykernel)",
   "language": "python",
   "name": "python3"
  },
  "language_info": {
   "codemirror_mode": {
    "name": "ipython",
    "version": 3
   },
   "file_extension": ".py",
   "mimetype": "text/x-python",
   "name": "python",
   "nbconvert_exporter": "python",
   "pygments_lexer": "ipython3",
   "version": "3.9.7"
  }
 },
 "nbformat": 4,
 "nbformat_minor": 5
}
