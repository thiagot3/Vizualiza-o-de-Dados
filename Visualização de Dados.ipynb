{
 "cells": [
  {
   "cell_type": "markdown",
   "id": "6b8c3eea",
   "metadata": {},
   "source": [
    "# Visualização de Dados\n",
    "\n",
    "1. Matplotlib, Seaborn e Ploty"
   ]
  },
  {
   "cell_type": "markdown",
   "id": "88e99d8a",
   "metadata": {},
   "source": [
    "SITUAÇÃO PROBLEMA\n",
    "\n",
    "Vamos supor que você seja dono de um banco em Taiwan que oferta serviço de crédito. Você tem em mãos uma tabela em excel com dados dos clientes que contrataram o serviço de crédito.\n",
    "\n",
    "    Objetivo: apresentar um panorama consolidado sobre a situação dos clientes no banco para o restante da empresa.\n",
    "\n",
    "    Objetivo específico: analisar a situação dos clientes (valor de crédito concedido, valor pago e extrato), nos últimos meses para o ano de 2005 de acordo com o nível de escolaridade."
   ]
  },
  {
   "cell_type": "code",
   "execution_count": 88,
   "id": "2eb6d51a",
   "metadata": {},
   "outputs": [],
   "source": [
    "#     Instalando Bibliotecas\n",
    "\"\"\"\n",
    "    CASO O PANDAS OU OUTRA BIBLIOTECA UTILIZADA NÂO ESTEJAM INSTALADOS EXECUTE:\n",
    "      #instalar Pandas \n",
    "        !pip install pandas\n",
    "        !pip install matplotlib\n",
    "        !pip install seaborn\n",
    "        !pip install plotly\n",
    "\"\"\"\n",
    "#     Importando Bibliotecas\n",
    "import pandas as pd\n",
    "import matplotlib.pyplot as plt\n",
    "import seaborn as sns\n",
    "import plotly.express as px\n",
    "import plotly.graph_objects as go"
   ]
  },
  {
   "cell_type": "code",
   "execution_count": 63,
   "id": "91864538",
   "metadata": {},
   "outputs": [
    {
     "data": {
      "text/html": [
       "<div>\n",
       "<style scoped>\n",
       "    .dataframe tbody tr th:only-of-type {\n",
       "        vertical-align: middle;\n",
       "    }\n",
       "\n",
       "    .dataframe tbody tr th {\n",
       "        vertical-align: top;\n",
       "    }\n",
       "\n",
       "    .dataframe thead th {\n",
       "        text-align: right;\n",
       "    }\n",
       "</style>\n",
       "<table border=\"1\" class=\"dataframe\">\n",
       "  <thead>\n",
       "    <tr style=\"text-align: right;\">\n",
       "      <th></th>\n",
       "      <th>Unnamed: 0</th>\n",
       "      <th>ID</th>\n",
       "      <th>valor_credito</th>\n",
       "      <th>sexo</th>\n",
       "      <th>escolaridade</th>\n",
       "      <th>estado_civil</th>\n",
       "      <th>idade</th>\n",
       "      <th>status_pag_set_2005</th>\n",
       "      <th>status_pag_ago_2005</th>\n",
       "      <th>status_pag_jul_2005</th>\n",
       "      <th>...</th>\n",
       "      <th>extrato_jul_2005</th>\n",
       "      <th>extrato_jun_2005</th>\n",
       "      <th>extrato_mai_2005</th>\n",
       "      <th>extrato_abr_2005</th>\n",
       "      <th>valor_pag_set_2005</th>\n",
       "      <th>valor_pag_ago_2005</th>\n",
       "      <th>valor_pag_jul_2005</th>\n",
       "      <th>valor_pag_jun_2005</th>\n",
       "      <th>valor_pag_mai_2005</th>\n",
       "      <th>valor_pag_abr_2005</th>\n",
       "    </tr>\n",
       "  </thead>\n",
       "  <tbody>\n",
       "    <tr>\n",
       "      <th>0</th>\n",
       "      <td>0</td>\n",
       "      <td>1</td>\n",
       "      <td>20000</td>\n",
       "      <td>2</td>\n",
       "      <td>2</td>\n",
       "      <td>1</td>\n",
       "      <td>24</td>\n",
       "      <td>2</td>\n",
       "      <td>2</td>\n",
       "      <td>-1</td>\n",
       "      <td>...</td>\n",
       "      <td>689</td>\n",
       "      <td>0</td>\n",
       "      <td>0</td>\n",
       "      <td>0</td>\n",
       "      <td>0</td>\n",
       "      <td>689</td>\n",
       "      <td>0</td>\n",
       "      <td>0</td>\n",
       "      <td>0</td>\n",
       "      <td>0</td>\n",
       "    </tr>\n",
       "    <tr>\n",
       "      <th>1</th>\n",
       "      <td>1</td>\n",
       "      <td>2</td>\n",
       "      <td>120000</td>\n",
       "      <td>2</td>\n",
       "      <td>2</td>\n",
       "      <td>2</td>\n",
       "      <td>26</td>\n",
       "      <td>-1</td>\n",
       "      <td>2</td>\n",
       "      <td>0</td>\n",
       "      <td>...</td>\n",
       "      <td>2682</td>\n",
       "      <td>3272</td>\n",
       "      <td>3455</td>\n",
       "      <td>3261</td>\n",
       "      <td>0</td>\n",
       "      <td>1000</td>\n",
       "      <td>1000</td>\n",
       "      <td>1000</td>\n",
       "      <td>0</td>\n",
       "      <td>2000</td>\n",
       "    </tr>\n",
       "    <tr>\n",
       "      <th>2</th>\n",
       "      <td>2</td>\n",
       "      <td>3</td>\n",
       "      <td>90000</td>\n",
       "      <td>2</td>\n",
       "      <td>2</td>\n",
       "      <td>2</td>\n",
       "      <td>34</td>\n",
       "      <td>0</td>\n",
       "      <td>0</td>\n",
       "      <td>0</td>\n",
       "      <td>...</td>\n",
       "      <td>13559</td>\n",
       "      <td>14331</td>\n",
       "      <td>14948</td>\n",
       "      <td>15549</td>\n",
       "      <td>1518</td>\n",
       "      <td>1500</td>\n",
       "      <td>1000</td>\n",
       "      <td>1000</td>\n",
       "      <td>1000</td>\n",
       "      <td>5000</td>\n",
       "    </tr>\n",
       "    <tr>\n",
       "      <th>3</th>\n",
       "      <td>3</td>\n",
       "      <td>4</td>\n",
       "      <td>50000</td>\n",
       "      <td>2</td>\n",
       "      <td>2</td>\n",
       "      <td>1</td>\n",
       "      <td>37</td>\n",
       "      <td>0</td>\n",
       "      <td>0</td>\n",
       "      <td>0</td>\n",
       "      <td>...</td>\n",
       "      <td>49291</td>\n",
       "      <td>28314</td>\n",
       "      <td>28959</td>\n",
       "      <td>29547</td>\n",
       "      <td>2000</td>\n",
       "      <td>2019</td>\n",
       "      <td>1200</td>\n",
       "      <td>1100</td>\n",
       "      <td>1069</td>\n",
       "      <td>1000</td>\n",
       "    </tr>\n",
       "    <tr>\n",
       "      <th>4</th>\n",
       "      <td>4</td>\n",
       "      <td>5</td>\n",
       "      <td>50000</td>\n",
       "      <td>1</td>\n",
       "      <td>2</td>\n",
       "      <td>1</td>\n",
       "      <td>57</td>\n",
       "      <td>-1</td>\n",
       "      <td>0</td>\n",
       "      <td>-1</td>\n",
       "      <td>...</td>\n",
       "      <td>35835</td>\n",
       "      <td>20940</td>\n",
       "      <td>19146</td>\n",
       "      <td>19131</td>\n",
       "      <td>2000</td>\n",
       "      <td>36681</td>\n",
       "      <td>10000</td>\n",
       "      <td>9000</td>\n",
       "      <td>689</td>\n",
       "      <td>679</td>\n",
       "    </tr>\n",
       "    <tr>\n",
       "      <th>...</th>\n",
       "      <td>...</td>\n",
       "      <td>...</td>\n",
       "      <td>...</td>\n",
       "      <td>...</td>\n",
       "      <td>...</td>\n",
       "      <td>...</td>\n",
       "      <td>...</td>\n",
       "      <td>...</td>\n",
       "      <td>...</td>\n",
       "      <td>...</td>\n",
       "      <td>...</td>\n",
       "      <td>...</td>\n",
       "      <td>...</td>\n",
       "      <td>...</td>\n",
       "      <td>...</td>\n",
       "      <td>...</td>\n",
       "      <td>...</td>\n",
       "      <td>...</td>\n",
       "      <td>...</td>\n",
       "      <td>...</td>\n",
       "      <td>...</td>\n",
       "    </tr>\n",
       "    <tr>\n",
       "      <th>29995</th>\n",
       "      <td>29995</td>\n",
       "      <td>29996</td>\n",
       "      <td>220000</td>\n",
       "      <td>1</td>\n",
       "      <td>3</td>\n",
       "      <td>1</td>\n",
       "      <td>39</td>\n",
       "      <td>0</td>\n",
       "      <td>0</td>\n",
       "      <td>0</td>\n",
       "      <td>...</td>\n",
       "      <td>208365</td>\n",
       "      <td>88004</td>\n",
       "      <td>31237</td>\n",
       "      <td>15980</td>\n",
       "      <td>8500</td>\n",
       "      <td>20000</td>\n",
       "      <td>5003</td>\n",
       "      <td>3047</td>\n",
       "      <td>5000</td>\n",
       "      <td>1000</td>\n",
       "    </tr>\n",
       "    <tr>\n",
       "      <th>29996</th>\n",
       "      <td>29996</td>\n",
       "      <td>29997</td>\n",
       "      <td>150000</td>\n",
       "      <td>1</td>\n",
       "      <td>3</td>\n",
       "      <td>2</td>\n",
       "      <td>43</td>\n",
       "      <td>-1</td>\n",
       "      <td>-1</td>\n",
       "      <td>-1</td>\n",
       "      <td>...</td>\n",
       "      <td>3502</td>\n",
       "      <td>8979</td>\n",
       "      <td>5190</td>\n",
       "      <td>0</td>\n",
       "      <td>1837</td>\n",
       "      <td>3526</td>\n",
       "      <td>8998</td>\n",
       "      <td>129</td>\n",
       "      <td>0</td>\n",
       "      <td>0</td>\n",
       "    </tr>\n",
       "    <tr>\n",
       "      <th>29997</th>\n",
       "      <td>29997</td>\n",
       "      <td>29998</td>\n",
       "      <td>30000</td>\n",
       "      <td>1</td>\n",
       "      <td>2</td>\n",
       "      <td>2</td>\n",
       "      <td>37</td>\n",
       "      <td>4</td>\n",
       "      <td>3</td>\n",
       "      <td>2</td>\n",
       "      <td>...</td>\n",
       "      <td>2758</td>\n",
       "      <td>20878</td>\n",
       "      <td>20582</td>\n",
       "      <td>19357</td>\n",
       "      <td>0</td>\n",
       "      <td>0</td>\n",
       "      <td>22000</td>\n",
       "      <td>4200</td>\n",
       "      <td>2000</td>\n",
       "      <td>3100</td>\n",
       "    </tr>\n",
       "    <tr>\n",
       "      <th>29998</th>\n",
       "      <td>29998</td>\n",
       "      <td>29999</td>\n",
       "      <td>80000</td>\n",
       "      <td>1</td>\n",
       "      <td>3</td>\n",
       "      <td>1</td>\n",
       "      <td>41</td>\n",
       "      <td>1</td>\n",
       "      <td>-1</td>\n",
       "      <td>0</td>\n",
       "      <td>...</td>\n",
       "      <td>76304</td>\n",
       "      <td>52774</td>\n",
       "      <td>11855</td>\n",
       "      <td>48944</td>\n",
       "      <td>85900</td>\n",
       "      <td>3409</td>\n",
       "      <td>1178</td>\n",
       "      <td>1926</td>\n",
       "      <td>52964</td>\n",
       "      <td>1804</td>\n",
       "    </tr>\n",
       "    <tr>\n",
       "      <th>29999</th>\n",
       "      <td>29999</td>\n",
       "      <td>30000</td>\n",
       "      <td>50000</td>\n",
       "      <td>1</td>\n",
       "      <td>2</td>\n",
       "      <td>1</td>\n",
       "      <td>46</td>\n",
       "      <td>0</td>\n",
       "      <td>0</td>\n",
       "      <td>0</td>\n",
       "      <td>...</td>\n",
       "      <td>49764</td>\n",
       "      <td>36535</td>\n",
       "      <td>32428</td>\n",
       "      <td>15313</td>\n",
       "      <td>2078</td>\n",
       "      <td>1800</td>\n",
       "      <td>1430</td>\n",
       "      <td>1000</td>\n",
       "      <td>1000</td>\n",
       "      <td>1000</td>\n",
       "    </tr>\n",
       "  </tbody>\n",
       "</table>\n",
       "<p>30000 rows × 25 columns</p>\n",
       "</div>"
      ],
      "text/plain": [
       "       Unnamed: 0     ID  valor_credito  sexo  escolaridade  estado_civil  \\\n",
       "0               0      1          20000     2             2             1   \n",
       "1               1      2         120000     2             2             2   \n",
       "2               2      3          90000     2             2             2   \n",
       "3               3      4          50000     2             2             1   \n",
       "4               4      5          50000     1             2             1   \n",
       "...           ...    ...            ...   ...           ...           ...   \n",
       "29995       29995  29996         220000     1             3             1   \n",
       "29996       29996  29997         150000     1             3             2   \n",
       "29997       29997  29998          30000     1             2             2   \n",
       "29998       29998  29999          80000     1             3             1   \n",
       "29999       29999  30000          50000     1             2             1   \n",
       "\n",
       "       idade  status_pag_set_2005  status_pag_ago_2005  status_pag_jul_2005  \\\n",
       "0         24                    2                    2                   -1   \n",
       "1         26                   -1                    2                    0   \n",
       "2         34                    0                    0                    0   \n",
       "3         37                    0                    0                    0   \n",
       "4         57                   -1                    0                   -1   \n",
       "...      ...                  ...                  ...                  ...   \n",
       "29995     39                    0                    0                    0   \n",
       "29996     43                   -1                   -1                   -1   \n",
       "29997     37                    4                    3                    2   \n",
       "29998     41                    1                   -1                    0   \n",
       "29999     46                    0                    0                    0   \n",
       "\n",
       "       ...  extrato_jul_2005  extrato_jun_2005  extrato_mai_2005  \\\n",
       "0      ...               689                 0                 0   \n",
       "1      ...              2682              3272              3455   \n",
       "2      ...             13559             14331             14948   \n",
       "3      ...             49291             28314             28959   \n",
       "4      ...             35835             20940             19146   \n",
       "...    ...               ...               ...               ...   \n",
       "29995  ...            208365             88004             31237   \n",
       "29996  ...              3502              8979              5190   \n",
       "29997  ...              2758             20878             20582   \n",
       "29998  ...             76304             52774             11855   \n",
       "29999  ...             49764             36535             32428   \n",
       "\n",
       "       extrato_abr_2005  valor_pag_set_2005  valor_pag_ago_2005  \\\n",
       "0                     0                   0                 689   \n",
       "1                  3261                   0                1000   \n",
       "2                 15549                1518                1500   \n",
       "3                 29547                2000                2019   \n",
       "4                 19131                2000               36681   \n",
       "...                 ...                 ...                 ...   \n",
       "29995             15980                8500               20000   \n",
       "29996                 0                1837                3526   \n",
       "29997             19357                   0                   0   \n",
       "29998             48944               85900                3409   \n",
       "29999             15313                2078                1800   \n",
       "\n",
       "       valor_pag_jul_2005  valor_pag_jun_2005  valor_pag_mai_2005  \\\n",
       "0                       0                   0                   0   \n",
       "1                    1000                1000                   0   \n",
       "2                    1000                1000                1000   \n",
       "3                    1200                1100                1069   \n",
       "4                   10000                9000                 689   \n",
       "...                   ...                 ...                 ...   \n",
       "29995                5003                3047                5000   \n",
       "29996                8998                 129                   0   \n",
       "29997               22000                4200                2000   \n",
       "29998                1178                1926               52964   \n",
       "29999                1430                1000                1000   \n",
       "\n",
       "       valor_pag_abr_2005  \n",
       "0                       0  \n",
       "1                    2000  \n",
       "2                    5000  \n",
       "3                    1000  \n",
       "4                     679  \n",
       "...                   ...  \n",
       "29995                1000  \n",
       "29996                   0  \n",
       "29997                3100  \n",
       "29998                1804  \n",
       "29999                1000  \n",
       "\n",
       "[30000 rows x 25 columns]"
      ]
     },
     "execution_count": 63,
     "metadata": {},
     "output_type": "execute_result"
    }
   ],
   "source": [
    "#     Importando DataSet\n",
    "credit = pd.read_excel(r'Arquivos da Aplicação\\credit_data.xlsx')\n",
    "credit"
   ]
  },
  {
   "cell_type": "code",
   "execution_count": 83,
   "id": "3b7930fa",
   "metadata": {},
   "outputs": [],
   "source": [
    "'''     Excluindo dados com escolaridade = 0, pois eles não fazem sentido no DataFrame, tendo em vista\n",
    "    que os valores da escolaridade são de 1 até 6.\n",
    "   \n",
    "   Níveis de escolaridade:\n",
    "    1 = pós-graduação\n",
    "    2 = universidade\n",
    "    3 = ensino médio\n",
    "    4 = outros\n",
    "    5 = desconhecido\n",
    "    6 = desconhecido'''\n",
    "drop_dados = credit[credit.escolaridade == 0].index\n",
    "credit.drop(drop_dados, inplace = True)"
   ]
  },
  {
   "cell_type": "code",
   "execution_count": 84,
   "id": "8495167d",
   "metadata": {},
   "outputs": [
    {
     "data": {
      "text/html": [
       "<div>\n",
       "<style scoped>\n",
       "    .dataframe tbody tr th:only-of-type {\n",
       "        vertical-align: middle;\n",
       "    }\n",
       "\n",
       "    .dataframe tbody tr th {\n",
       "        vertical-align: top;\n",
       "    }\n",
       "\n",
       "    .dataframe thead th {\n",
       "        text-align: right;\n",
       "    }\n",
       "</style>\n",
       "<table border=\"1\" class=\"dataframe\">\n",
       "  <thead>\n",
       "    <tr style=\"text-align: right;\">\n",
       "      <th></th>\n",
       "      <th>escolaridade</th>\n",
       "      <th>Unnamed: 0</th>\n",
       "      <th>ID</th>\n",
       "      <th>valor_credito</th>\n",
       "      <th>sexo</th>\n",
       "      <th>estado_civil</th>\n",
       "      <th>idade</th>\n",
       "      <th>status_pag_set_2005</th>\n",
       "      <th>status_pag_ago_2005</th>\n",
       "      <th>status_pag_jul_2005</th>\n",
       "      <th>...</th>\n",
       "      <th>extrato_jul_2005</th>\n",
       "      <th>extrato_jun_2005</th>\n",
       "      <th>extrato_mai_2005</th>\n",
       "      <th>extrato_abr_2005</th>\n",
       "      <th>valor_pag_set_2005</th>\n",
       "      <th>valor_pag_ago_2005</th>\n",
       "      <th>valor_pag_jul_2005</th>\n",
       "      <th>valor_pag_jun_2005</th>\n",
       "      <th>valor_pag_mai_2005</th>\n",
       "      <th>valor_pag_abr_2005</th>\n",
       "    </tr>\n",
       "  </thead>\n",
       "  <tbody>\n",
       "    <tr>\n",
       "      <th>0</th>\n",
       "      <td>1</td>\n",
       "      <td>14696.212187</td>\n",
       "      <td>14697.212187</td>\n",
       "      <td>212956.069910</td>\n",
       "      <td>1.588663</td>\n",
       "      <td>1.652338</td>\n",
       "      <td>34.231838</td>\n",
       "      <td>-0.233916</td>\n",
       "      <td>-0.408125</td>\n",
       "      <td>-0.425886</td>\n",
       "      <td>...</td>\n",
       "      <td>45781.689183</td>\n",
       "      <td>42931.065187</td>\n",
       "      <td>40388.891261</td>\n",
       "      <td>38668.076051</td>\n",
       "      <td>6780.933585</td>\n",
       "      <td>7306.622201</td>\n",
       "      <td>6560.585735</td>\n",
       "      <td>5804.565612</td>\n",
       "      <td>5776.562211</td>\n",
       "      <td>6422.554842</td>\n",
       "    </tr>\n",
       "    <tr>\n",
       "      <th>1</th>\n",
       "      <td>2</td>\n",
       "      <td>15023.237776</td>\n",
       "      <td>15024.237776</td>\n",
       "      <td>147062.437634</td>\n",
       "      <td>1.616964</td>\n",
       "      <td>1.523022</td>\n",
       "      <td>34.722096</td>\n",
       "      <td>0.102210</td>\n",
       "      <td>0.022523</td>\n",
       "      <td>-0.018532</td>\n",
       "      <td>...</td>\n",
       "      <td>48662.161582</td>\n",
       "      <td>44748.779758</td>\n",
       "      <td>41588.566287</td>\n",
       "      <td>40431.943835</td>\n",
       "      <td>5080.463293</td>\n",
       "      <td>5106.711333</td>\n",
       "      <td>4556.800000</td>\n",
       "      <td>4375.387313</td>\n",
       "      <td>4452.678689</td>\n",
       "      <td>4716.487028</td>\n",
       "    </tr>\n",
       "    <tr>\n",
       "      <th>2</th>\n",
       "      <td>3</td>\n",
       "      <td>15341.314013</td>\n",
       "      <td>15342.314013</td>\n",
       "      <td>126550.270490</td>\n",
       "      <td>1.595282</td>\n",
       "      <td>1.421192</td>\n",
       "      <td>40.299980</td>\n",
       "      <td>0.132805</td>\n",
       "      <td>0.040879</td>\n",
       "      <td>0.002644</td>\n",
       "      <td>...</td>\n",
       "      <td>43440.916616</td>\n",
       "      <td>38718.582266</td>\n",
       "      <td>35957.469392</td>\n",
       "      <td>34704.597315</td>\n",
       "      <td>4866.397397</td>\n",
       "      <td>5053.454139</td>\n",
       "      <td>3964.056742</td>\n",
       "      <td>3992.658532</td>\n",
       "      <td>3599.658938</td>\n",
       "      <td>3825.749034</td>\n",
       "    </tr>\n",
       "    <tr>\n",
       "      <th>3</th>\n",
       "      <td>4</td>\n",
       "      <td>18142.447154</td>\n",
       "      <td>18143.447154</td>\n",
       "      <td>220894.308943</td>\n",
       "      <td>1.658537</td>\n",
       "      <td>1.601626</td>\n",
       "      <td>33.853659</td>\n",
       "      <td>-0.504065</td>\n",
       "      <td>-0.772358</td>\n",
       "      <td>-0.764228</td>\n",
       "      <td>...</td>\n",
       "      <td>44983.804878</td>\n",
       "      <td>39570.268293</td>\n",
       "      <td>33840.113821</td>\n",
       "      <td>32136.130081</td>\n",
       "      <td>5450.512195</td>\n",
       "      <td>6555.008130</td>\n",
       "      <td>9990.626016</td>\n",
       "      <td>5104.861789</td>\n",
       "      <td>5991.642276</td>\n",
       "      <td>4284.967480</td>\n",
       "    </tr>\n",
       "    <tr>\n",
       "      <th>4</th>\n",
       "      <td>5</td>\n",
       "      <td>17442.664286</td>\n",
       "      <td>17443.664286</td>\n",
       "      <td>168164.285714</td>\n",
       "      <td>1.660714</td>\n",
       "      <td>1.475000</td>\n",
       "      <td>35.600000</td>\n",
       "      <td>-0.121429</td>\n",
       "      <td>-0.303571</td>\n",
       "      <td>-0.375000</td>\n",
       "      <td>...</td>\n",
       "      <td>71743.357143</td>\n",
       "      <td>62275.767857</td>\n",
       "      <td>53568.014286</td>\n",
       "      <td>46083.860714</td>\n",
       "      <td>5970.714286</td>\n",
       "      <td>8912.921429</td>\n",
       "      <td>7718.510714</td>\n",
       "      <td>4927.332143</td>\n",
       "      <td>4633.246429</td>\n",
       "      <td>7772.114286</td>\n",
       "    </tr>\n",
       "    <tr>\n",
       "      <th>5</th>\n",
       "      <td>6</td>\n",
       "      <td>16894.019608</td>\n",
       "      <td>16895.019608</td>\n",
       "      <td>148235.294118</td>\n",
       "      <td>1.509804</td>\n",
       "      <td>1.490196</td>\n",
       "      <td>43.901961</td>\n",
       "      <td>-0.176471</td>\n",
       "      <td>-0.313725</td>\n",
       "      <td>-0.372549</td>\n",
       "      <td>...</td>\n",
       "      <td>70586.313725</td>\n",
       "      <td>54259.490196</td>\n",
       "      <td>44510.745098</td>\n",
       "      <td>39578.509804</td>\n",
       "      <td>9780.450980</td>\n",
       "      <td>6176.431373</td>\n",
       "      <td>7644.941176</td>\n",
       "      <td>5179.490196</td>\n",
       "      <td>11691.137255</td>\n",
       "      <td>14773.901961</td>\n",
       "    </tr>\n",
       "  </tbody>\n",
       "</table>\n",
       "<p>6 rows × 25 columns</p>\n",
       "</div>"
      ],
      "text/plain": [
       "   escolaridade    Unnamed: 0            ID  valor_credito      sexo  \\\n",
       "0             1  14696.212187  14697.212187  212956.069910  1.588663   \n",
       "1             2  15023.237776  15024.237776  147062.437634  1.616964   \n",
       "2             3  15341.314013  15342.314013  126550.270490  1.595282   \n",
       "3             4  18142.447154  18143.447154  220894.308943  1.658537   \n",
       "4             5  17442.664286  17443.664286  168164.285714  1.660714   \n",
       "5             6  16894.019608  16895.019608  148235.294118  1.509804   \n",
       "\n",
       "   estado_civil      idade  status_pag_set_2005  status_pag_ago_2005  \\\n",
       "0      1.652338  34.231838            -0.233916            -0.408125   \n",
       "1      1.523022  34.722096             0.102210             0.022523   \n",
       "2      1.421192  40.299980             0.132805             0.040879   \n",
       "3      1.601626  33.853659            -0.504065            -0.772358   \n",
       "4      1.475000  35.600000            -0.121429            -0.303571   \n",
       "5      1.490196  43.901961            -0.176471            -0.313725   \n",
       "\n",
       "   status_pag_jul_2005  ...  extrato_jul_2005  extrato_jun_2005  \\\n",
       "0            -0.425886  ...      45781.689183      42931.065187   \n",
       "1            -0.018532  ...      48662.161582      44748.779758   \n",
       "2             0.002644  ...      43440.916616      38718.582266   \n",
       "3            -0.764228  ...      44983.804878      39570.268293   \n",
       "4            -0.375000  ...      71743.357143      62275.767857   \n",
       "5            -0.372549  ...      70586.313725      54259.490196   \n",
       "\n",
       "   extrato_mai_2005  extrato_abr_2005  valor_pag_set_2005  valor_pag_ago_2005  \\\n",
       "0      40388.891261      38668.076051         6780.933585         7306.622201   \n",
       "1      41588.566287      40431.943835         5080.463293         5106.711333   \n",
       "2      35957.469392      34704.597315         4866.397397         5053.454139   \n",
       "3      33840.113821      32136.130081         5450.512195         6555.008130   \n",
       "4      53568.014286      46083.860714         5970.714286         8912.921429   \n",
       "5      44510.745098      39578.509804         9780.450980         6176.431373   \n",
       "\n",
       "   valor_pag_jul_2005  valor_pag_jun_2005  valor_pag_mai_2005  \\\n",
       "0         6560.585735         5804.565612         5776.562211   \n",
       "1         4556.800000         4375.387313         4452.678689   \n",
       "2         3964.056742         3992.658532         3599.658938   \n",
       "3         9990.626016         5104.861789         5991.642276   \n",
       "4         7718.510714         4927.332143         4633.246429   \n",
       "5         7644.941176         5179.490196        11691.137255   \n",
       "\n",
       "   valor_pag_abr_2005  \n",
       "0         6422.554842  \n",
       "1         4716.487028  \n",
       "2         3825.749034  \n",
       "3         4284.967480  \n",
       "4         7772.114286  \n",
       "5        14773.901961  \n",
       "\n",
       "[6 rows x 25 columns]"
      ]
     },
     "execution_count": 84,
     "metadata": {},
     "output_type": "execute_result"
    }
   ],
   "source": [
    "#     Agrupando Dados\n",
    "credit_grouped = credit.groupby(['escolaridade']).mean().reset_index()\n",
    "\n",
    "credit_grouped"
   ]
  },
  {
   "cell_type": "code",
   "execution_count": 126,
   "id": "0db2af02",
   "metadata": {},
   "outputs": [
    {
     "data": {
      "image/png": "[encoded data removed]",
      "text/plain": [
       "<Figure size 720x576 with 1 Axes>"
      ]
     },
     "metadata": {},
     "output_type": "display_data"
    }
   ],
   "source": [
    "#     Gráfico de barras com Matplotlib\n",
    "    #    Média de crédito concedida conforme a escolaridade\n",
    "plt.figure(figsize = (10,8), facecolor= \"w\") # Configurando tamanho do gráfico\n",
    "plt.title(\"Valor de Crédito conforme a Escolaridade\") # Configurando título do Gráfico\n",
    "plt.xlabel(\"Nível de Escolaridade\") # Configurando título do eixo x\n",
    "plt.ylabel(\"Média do Valor de Crédito\") # Configurando título do eixo y\n",
    "#Configurando valores dos eixos\n",
    "plt.bar(credit_grouped.escolaridade, credit_grouped.valor_credito, color = 'Green');"
   ]
  },
  {
   "cell_type": "code",
   "execution_count": 129,
   "id": "d4f2e961",
   "metadata": {},
   "outputs": [
    {
     "data": {
      "image/png": "[encoded data removed]",
      "text/plain": [
       "<Figure size 1440x1080 with 4 Axes>"
      ]
     },
     "metadata": {},
     "output_type": "display_data"
    }
   ],
   "source": [
    "#     Gráficos de barras multiplos com Seaborn\n",
    "    #     Verificando extrato bancário de acordo com o nível de escolaridade para cada mês\n",
    "fig, axes = plt.subplots(2, 2, figsize = (20, 15), facecolor = \"w\")\n",
    "sns.barplot(data = credit_grouped, x = \"escolaridade\", y = \"extrato_jun_2005\", ax = axes[0, 0])\n",
    "sns.barplot(data = credit_grouped, x = \"escolaridade\", y = \"extrato_jul_2005\", ax = axes[0, 1])\n",
    "sns.barplot(data = credit_grouped, x = \"escolaridade\", y = \"extrato_ago_2005\", ax = axes[1, 0])\n",
    "sns.barplot(data = credit_grouped, x = \"escolaridade\", y = \"extrato_set_2005\", ax = axes[1, 1]);"
   ]
  },
  {
   "cell_type": "code",
   "execution_count": 157,
   "id": "d4d007b5",
   "metadata": {},
   "outputs": [
    {
     "data": {
      "application/vnd.plotly.v1+json": {
       "config": {
        "plotlyServerURL": "https://plot.ly"
       },
       "data": [
        {
         "marker": {
          "color": "Red"
         },
         "name": "Valor Pago em Abril",
         "type": "bar",
         "x": [
          1,
          2,
          3,
          4,
          5,
          6
         ],
         "y": [
          6422.554841757204,
          4716.487027797577,
          3825.749033963799,
          4284.967479674797,
          7772.114285714286,
          14773.901960784313
         ]
        },
        {
         "marker": {
          "color": "Green"
         },
         "name": "Valor Pago em Junho",
         "type": "bar",
         "x": [
          1,
          2,
          3,
          4,
          5,
          6
         ],
         "y": [
          5804.565611714691,
          4375.387312900926,
          3992.658531624975,
          5104.861788617886,
          4927.332142857143,
          5179.490196078431
         ]
        },
        {
         "marker": {
          "color": "Blue"
         },
         "name": "Valor Pago em Julho",
         "type": "bar",
         "x": [
          1,
          2,
          3,
          4,
          5,
          6
         ],
         "y": [
          6560.5857345299955,
          4556.8,
          3964.0567419158024,
          9990.626016260163,
          7718.510714285714,
          7644.941176470588
         ]
        },
        {
         "marker": {
          "color": "Yellow"
         },
         "name": "Valor Pago em Agosto",
         "type": "bar",
         "x": [
          1,
          2,
          3,
          4,
          5,
          6
         ],
         "y": [
          7306.622201228153,
          5106.711332858161,
          5053.454138702461,
          6555.008130081301,
          8912.921428571428,
          6176.431372549019
         ]
        },
        {
         "marker": {
          "color": "Purple"
         },
         "name": "Valor Pago em Setembro",
         "type": "bar",
         "x": [
          1,
          2,
          3,
          4,
          5,
          6
         ],
         "y": [
          6780.933585262163,
          5080.463292943692,
          4866.397396786659,
          5450.512195121952,
          5970.714285714285,
          9780.450980392157
         ]
        }
       ],
       "layout": {
        "template": {
         "data": {
          "bar": [
           {
            "error_x": {
             "color": "#2a3f5f"
            },
            "error_y": {
             "color": "#2a3f5f"
            },
            "marker": {
             "line": {
              "color": "#E5ECF6",
              "width": 0.5
             },
             "pattern": {
              "fillmode": "overlay",
              "size": 10,
              "solidity": 0.2
             }
            },
            "type": "bar"
           }
          ],
          "barpolar": [
           {
            "marker": {
             "line": {
              "color": "#E5ECF6",
              "width": 0.5
             },
             "pattern": {
              "fillmode": "overlay",
              "size": 10,
              "solidity": 0.2
             }
            },
            "type": "barpolar"
           }
          ],
          "carpet": [
           {
            "aaxis": {
             "endlinecolor": "#2a3f5f",
             "gridcolor": "white",
             "linecolor": "white",
             "minorgridcolor": "white",
             "startlinecolor": "#2a3f5f"
            },
            "baxis": {
             "endlinecolor": "#2a3f5f",
             "gridcolor": "white",
             "linecolor": "white",
             "minorgridcolor": "white",
             "startlinecolor": "#2a3f5f"
            },
            "type": "carpet"
           }
          ],
          "choropleth": [
           {
            "colorbar": {
             "outlinewidth": 0,
             "ticks": ""
            },
            "type": "choropleth"
           }
          ],
          "contour": [
           {
            "colorbar": {
             "outlinewidth": 0,
             "ticks": ""
            },
            "colorscale": [
             [
              0,
              "#0d0887"
             ],
             [
              0.1111111111111111,
              "#46039f"
             ],
             [
              0.2222222222222222,
              "#7201a8"
             ],
             [
              0.3333333333333333,
              "#9c179e"
             ],
             [
              0.4444444444444444,
              "#bd3786"
             ],
             [
              0.5555555555555556,
              "#d8576b"
             ],
             [
              0.6666666666666666,
              "#ed7953"
             ],
             [
              0.7777777777777778,
              "#fb9f3a"
             ],
             [
              0.8888888888888888,
              "#fdca26"
             ],
             [
              1,
              "#f0f921"
             ]
            ],
            "type": "contour"
           }
          ],
          "contourcarpet": [
           {
            "colorbar": {
             "outlinewidth": 0,
             "ticks": ""
            },
            "type": "contourcarpet"
           }
          ],
          "heatmap": [
           {
            "colorbar": {
             "outlinewidth": 0,
             "ticks": ""
            },
            "colorscale": [
             [
              0,
              "#0d0887"
             ],
             [
              0.1111111111111111,
              "#46039f"
             ],
             [
              0.2222222222222222,
              "#7201a8"
             ],
             [
              0.3333333333333333,
              "#9c179e"
             ],
             [
              0.4444444444444444,
              "#bd3786"
             ],
             [
              0.5555555555555556,
              "#d8576b"
             ],
             [
              0.6666666666666666,
              "#ed7953"
             ],
             [
              0.7777777777777778,
              "#fb9f3a"
             ],
             [
              0.8888888888888888,
              "#fdca26"
             ],
             [
              1,
              "#f0f921"
             ]
            ],
            "type": "heatmap"
           }
          ],
          "heatmapgl": [
           {
            "colorbar": {
             "outlinewidth": 0,
             "ticks": ""
            },
            "colorscale": [
             [
              0,
              "#0d0887"
             ],
             [
              0.1111111111111111,
              "#46039f"
             ],
             [
              0.2222222222222222,
              "#7201a8"
             ],
             [
              0.3333333333333333,
              "#9c179e"
             ],
             [
              0.4444444444444444,
              "#bd3786"
             ],
             [
              0.5555555555555556,
              "#d8576b"
             ],
             [
              0.6666666666666666,
              "#ed7953"
             ],
             [
              0.7777777777777778,
              "#fb9f3a"
             ],
             [
              0.8888888888888888,
              "#fdca26"
             ],
             [
              1,
              "#f0f921"
             ]
            ],
            "type": "heatmapgl"
           }
          ],
          "histogram": [
           {
            "marker": {
             "pattern": {
              "fillmode": "overlay",
              "size": 10,
              "solidity": 0.2
             }
            },
            "type": "histogram"
           }
          ],
          "histogram2d": [
           {
            "colorbar": {
             "outlinewidth": 0,
             "ticks": ""
            },
            "colorscale": [
             [
              0,
              "#0d0887"
             ],
             [
              0.1111111111111111,
              "#46039f"
             ],
             [
              0.2222222222222222,
              "#7201a8"
             ],
             [
              0.3333333333333333,
              "#9c179e"
             ],
             [
              0.4444444444444444,
              "#bd3786"
             ],
             [
              0.5555555555555556,
              "#d8576b"
             ],
             [
              0.6666666666666666,
              "#ed7953"
             ],
             [
              0.7777777777777778,
              "#fb9f3a"
             ],
             [
              0.8888888888888888,
              "#fdca26"
             ],
             [
              1,
              "#f0f921"
             ]
            ],
            "type": "histogram2d"
           }
          ],
          "histogram2dcontour": [
           {
            "colorbar": {
             "outlinewidth": 0,
             "ticks": ""
            },
            "colorscale": [
             [
              0,
              "#0d0887"
             ],
             [
              0.1111111111111111,
              "#46039f"
             ],
             [
              0.2222222222222222,
              "#7201a8"
             ],
             [
              0.3333333333333333,
              "#9c179e"
             ],
             [
              0.4444444444444444,
              "#bd3786"
             ],
             [
              0.5555555555555556,
              "#d8576b"
             ],
             [
              0.6666666666666666,
              "#ed7953"
             ],
             [
              0.7777777777777778,
              "#fb9f3a"
             ],
             [
              0.8888888888888888,
              "#fdca26"
             ],
             [
              1,
              "#f0f921"
             ]
            ],
            "type": "histogram2dcontour"
           }
          ],
          "mesh3d": [
           {
            "colorbar": {
             "outlinewidth": 0,
             "ticks": ""
            },
            "type": "mesh3d"
           }
          ],
          "parcoords": [
           {
            "line": {
             "colorbar": {
              "outlinewidth": 0,
              "ticks": ""
             }
            },
            "type": "parcoords"
           }
          ],
          "pie": [
           {
            "automargin": true,
            "type": "pie"
           }
          ],
          "scatter": [
           {
            "marker": {
             "colorbar": {
              "outlinewidth": 0,
              "ticks": ""
             }
            },
            "type": "scatter"
           }
          ],
          "scatter3d": [
           {
            "line": {
             "colorbar": {
              "outlinewidth": 0,
              "ticks": ""
             }
            },
            "marker": {
             "colorbar": {
              "outlinewidth": 0,
              "ticks": ""
             }
            },
            "type": "scatter3d"
           }
          ],
          "scattercarpet": [
           {
            "marker": {
             "colorbar": {
              "outlinewidth": 0,
              "ticks": ""
             }
            },
            "type": "scattercarpet"
           }
          ],
          "scattergeo": [
           {
            "marker": {
             "colorbar": {
              "outlinewidth": 0,
              "ticks": ""
             }
            },
            "type": "scattergeo"
           }
          ],
          "scattergl": [
           {
            "marker": {
             "colorbar": {
              "outlinewidth": 0,
              "ticks": ""
             }
            },
            "type": "scattergl"
           }
          ],
          "scattermapbox": [
           {
            "marker": {
             "colorbar": {
              "outlinewidth": 0,
              "ticks": ""
             }
            },
            "type": "scattermapbox"
           }
          ],
          "scatterpolar": [
           {
            "marker": {
             "colorbar": {
              "outlinewidth": 0,
              "ticks": ""
             }
            },
            "type": "scatterpolar"
           }
          ],
          "scatterpolargl": [
           {
            "marker": {
             "colorbar": {
              "outlinewidth": 0,
              "ticks": ""
             }
            },
            "type": "scatterpolargl"
           }
          ],
          "scatterternary": [
           {
            "marker": {
             "colorbar": {
              "outlinewidth": 0,
              "ticks": ""
             }
            },
            "type": "scatterternary"
           }
          ],
          "surface": [
           {
            "colorbar": {
             "outlinewidth": 0,
             "ticks": ""
            },
            "colorscale": [
             [
              0,
              "#0d0887"
             ],
             [
              0.1111111111111111,
              "#46039f"
             ],
             [
              0.2222222222222222,
              "#7201a8"
             ],
             [
              0.3333333333333333,
              "#9c179e"
             ],
             [
              0.4444444444444444,
              "#bd3786"
             ],
             [
              0.5555555555555556,
              "#d8576b"
             ],
             [
              0.6666666666666666,
              "#ed7953"
             ],
             [
              0.7777777777777778,
              "#fb9f3a"
             ],
             [
              0.8888888888888888,
              "#fdca26"
             ],
             [
              1,
              "#f0f921"
             ]
            ],
            "type": "surface"
           }
          ],
          "table": [
           {
            "cells": {
             "fill": {
              "color": "#EBF0F8"
             },
             "line": {
              "color": "white"
             }
            },
            "header": {
             "fill": {
              "color": "#C8D4E3"
             },
             "line": {
              "color": "white"
             }
            },
            "type": "table"
           }
          ]
         },
         "layout": {
          "annotationdefaults": {
           "arrowcolor": "#2a3f5f",
           "arrowhead": 0,
           "arrowwidth": 1
          },
          "autotypenumbers": "strict",
          "coloraxis": {
           "colorbar": {
            "outlinewidth": 0,
            "ticks": ""
           }
          },
          "colorscale": {
           "diverging": [
            [
             0,
             "#8e0152"
            ],
            [
             0.1,
             "#c51b7d"
            ],
            [
             0.2,
             "#de77ae"
            ],
            [
             0.3,
             "#f1b6da"
            ],
            [
             0.4,
             "#fde0ef"
            ],
            [
             0.5,
             "#f7f7f7"
            ],
            [
             0.6,
             "#e6f5d0"
            ],
            [
             0.7,
             "#b8e186"
            ],
            [
             0.8,
             "#7fbc41"
            ],
            [
             0.9,
             "#4d9221"
            ],
            [
             1,
             "#276419"
            ]
           ],
           "sequential": [
            [
             0,
             "#0d0887"
            ],
            [
             0.1111111111111111,
             "#46039f"
            ],
            [
             0.2222222222222222,
             "#7201a8"
            ],
            [
             0.3333333333333333,
             "#9c179e"
            ],
            [
             0.4444444444444444,
             "#bd3786"
            ],
            [
             0.5555555555555556,
             "#d8576b"
            ],
            [
             0.6666666666666666,
             "#ed7953"
            ],
            [
             0.7777777777777778,
             "#fb9f3a"
            ],
            [
             0.8888888888888888,
             "#fdca26"
            ],
            [
             1,
             "#f0f921"
            ]
           ],
           "sequentialminus": [
            [
             0,
             "#0d0887"
            ],
            [
             0.1111111111111111,
             "#46039f"
            ],
            [
             0.2222222222222222,
             "#7201a8"
            ],
            [
             0.3333333333333333,
             "#9c179e"
            ],
            [
             0.4444444444444444,
             "#bd3786"
            ],
            [
             0.5555555555555556,
             "#d8576b"
            ],
            [
             0.6666666666666666,
             "#ed7953"
            ],
            [
             0.7777777777777778,
             "#fb9f3a"
            ],
            [
             0.8888888888888888,
             "#fdca26"
            ],
            [
             1,
             "#f0f921"
            ]
           ]
          },
          "colorway": [
           "#636efa",
           "#EF553B",
           "#00cc96",
           "#ab63fa",
           "#FFA15A",
           "#19d3f3",
           "#FF6692",
           "#B6E880",
           "#FF97FF",
           "#FECB52"
          ],
          "font": {
           "color": "#2a3f5f"
          },
          "geo": {
           "bgcolor": "white",
           "lakecolor": "white",
           "landcolor": "#E5ECF6",
           "showlakes": true,
           "showland": true,
           "subunitcolor": "white"
          },
          "hoverlabel": {
           "align": "left"
          },
          "hovermode": "closest",
          "mapbox": {
           "style": "light"
          },
          "paper_bgcolor": "white",
          "plot_bgcolor": "#E5ECF6",
          "polar": {
           "angularaxis": {
            "gridcolor": "white",
            "linecolor": "white",
            "ticks": ""
           },
           "bgcolor": "#E5ECF6",
           "radialaxis": {
            "gridcolor": "white",
            "linecolor": "white",
            "ticks": ""
           }
          },
          "scene": {
           "xaxis": {
            "backgroundcolor": "#E5ECF6",
            "gridcolor": "white",
            "gridwidth": 2,
            "linecolor": "white",
            "showbackground": true,
            "ticks": "",
            "zerolinecolor": "white"
           },
           "yaxis": {
            "backgroundcolor": "#E5ECF6",
            "gridcolor": "white",
            "gridwidth": 2,
            "linecolor": "white",
            "showbackground": true,
            "ticks": "",
            "zerolinecolor": "white"
           },
           "zaxis": {
            "backgroundcolor": "#E5ECF6",
            "gridcolor": "white",
            "gridwidth": 2,
            "linecolor": "white",
            "showbackground": true,
            "ticks": "",
            "zerolinecolor": "white"
           }
          },
          "shapedefaults": {
           "line": {
            "color": "#2a3f5f"
           }
          },
          "ternary": {
           "aaxis": {
            "gridcolor": "white",
            "linecolor": "white",
            "ticks": ""
           },
           "baxis": {
            "gridcolor": "white",
            "linecolor": "white",
            "ticks": ""
           },
           "bgcolor": "#E5ECF6",
           "caxis": {
            "gridcolor": "white",
            "linecolor": "white",
            "ticks": ""
           }
          },
          "title": {
           "x": 0.05
          },
          "xaxis": {
           "automargin": true,
           "gridcolor": "white",
           "linecolor": "white",
           "ticks": "",
           "title": {
            "standoff": 15
           },
           "zerolinecolor": "white",
           "zerolinewidth": 2
          },
          "yaxis": {
           "automargin": true,
           "gridcolor": "white",
           "linecolor": "white",
           "ticks": "",
           "title": {
            "standoff": 15
           },
           "zerolinecolor": "white",
           "zerolinewidth": 2
          }
         }
        },
        "title": {
         "text": "Valor Pago em Cada Mês Conforme a Escolaridade"
        },
        "xaxis": {
         "tickfont": {
          "size": 12
         },
         "title": {
          "font": {
           "size": 14
          },
          "text": "Nível de Escolaridade"
         }
        },
        "yaxis": {
         "tickfont": {
          "size": 12
         },
         "title": {
          "font": {
           "size": 14
          },
          "text": "Valor Pago"
         }
        }
       }
      },
      "text/html": [
       "<div>                            <div id=\"8b6edf15-bed4-4c46-a1ca-60397d22b604\" class=\"plotly-graph-div\" style=\"height:525px; width:100%;\"></div>            <script type=\"text/javascript\">                require([\"plotly\"], function(Plotly) {                    window.PLOTLYENV=window.PLOTLYENV || {};                                    if (document.getElementById(\"8b6edf15-bed4-4c46-a1ca-60397d22b604\")) {                    Plotly.newPlot(                        \"8b6edf15-bed4-4c46-a1ca-60397d22b604\",                        [{\"marker\":{\"color\":\"Red\"},\"name\":\"Valor Pago em Abril\",\"x\":[1,2,3,4,5,6],\"y\":[6422.554841757204,4716.487027797577,3825.749033963799,4284.967479674797,7772.114285714286,14773.901960784313],\"type\":\"bar\"},{\"marker\":{\"color\":\"Green\"},\"name\":\"Valor Pago em Junho\",\"x\":[1,2,3,4,5,6],\"y\":[5804.565611714691,4375.387312900926,3992.658531624975,5104.861788617886,4927.332142857143,5179.490196078431],\"type\":\"bar\"},{\"marker\":{\"color\":\"Blue\"},\"name\":\"Valor Pago em Julho\",\"x\":[1,2,3,4,5,6],\"y\":[6560.5857345299955,4556.8,3964.0567419158024,9990.626016260163,7718.510714285714,7644.941176470588],\"type\":\"bar\"},{\"marker\":{\"color\":\"Yellow\"},\"name\":\"Valor Pago em Agosto\",\"x\":[1,2,3,4,5,6],\"y\":[7306.622201228153,5106.711332858161,5053.454138702461,6555.008130081301,8912.921428571428,6176.431372549019],\"type\":\"bar\"},{\"marker\":{\"color\":\"Purple\"},\"name\":\"Valor Pago em Setembro\",\"x\":[1,2,3,4,5,6],\"y\":[6780.933585262163,5080.463292943692,4866.397396786659,5450.512195121952,5970.714285714285,9780.450980392157],\"type\":\"bar\"}],                        {\"template\":{\"data\":{\"bar\":[{\"error_x\":{\"color\":\"#2a3f5f\"},\"error_y\":{\"color\":\"#2a3f5f\"},\"marker\":{\"line\":{\"color\":\"#E5ECF6\",\"width\":0.5},\"pattern\":{\"fillmode\":\"overlay\",\"size\":10,\"solidity\":0.2}},\"type\":\"bar\"}],\"barpolar\":[{\"marker\":{\"line\":{\"color\":\"#E5ECF6\",\"width\":0.5},\"pattern\":{\"fillmode\":\"overlay\",\"size\":10,\"solidity\":0.2}},\"type\":\"barpolar\"}],\"carpet\":[{\"aaxis\":{\"endlinecolor\":\"#2a3f5f\",\"gridcolor\":\"white\",\"linecolor\":\"white\",\"minorgridcolor\":\"white\",\"startlinecolor\":\"#2a3f5f\"},\"baxis\":{\"endlinecolor\":\"#2a3f5f\",\"gridcolor\":\"white\",\"linecolor\":\"white\",\"minorgridcolor\":\"white\",\"startlinecolor\":\"#2a3f5f\"},\"type\":\"carpet\"}],\"choropleth\":[{\"colorbar\":{\"outlinewidth\":0,\"ticks\":\"\"},\"type\":\"choropleth\"}],\"contour\":[{\"colorbar\":{\"outlinewidth\":0,\"ticks\":\"\"},\"colorscale\":[[0.0,\"#0d0887\"],[0.1111111111111111,\"#46039f\"],[0.2222222222222222,\"#7201a8\"],[0.3333333333333333,\"#9c179e\"],[0.4444444444444444,\"#bd3786\"],[0.5555555555555556,\"#d8576b\"],[0.6666666666666666,\"#ed7953\"],[0.7777777777777778,\"#fb9f3a\"],[0.8888888888888888,\"#fdca26\"],[1.0,\"#f0f921\"]],\"type\":\"contour\"}],\"contourcarpet\":[{\"colorbar\":{\"outlinewidth\":0,\"ticks\":\"\"},\"type\":\"contourcarpet\"}],\"heatmap\":[{\"colorbar\":{\"outlinewidth\":0,\"ticks\":\"\"},\"colorscale\":[[0.0,\"#0d0887\"],[0.1111111111111111,\"#46039f\"],[0.2222222222222222,\"#7201a8\"],[0.3333333333333333,\"#9c179e\"],[0.4444444444444444,\"#bd3786\"],[0.5555555555555556,\"#d8576b\"],[0.6666666666666666,\"#ed7953\"],[0.7777777777777778,\"#fb9f3a\"],[0.8888888888888888,\"#fdca26\"],[1.0,\"#f0f921\"]],\"type\":\"heatmap\"}],\"heatmapgl\":[{\"colorbar\":{\"outlinewidth\":0,\"ticks\":\"\"},\"colorscale\":[[0.0,\"#0d0887\"],[0.1111111111111111,\"#46039f\"],[0.2222222222222222,\"#7201a8\"],[0.3333333333333333,\"#9c179e\"],[0.4444444444444444,\"#bd3786\"],[0.5555555555555556,\"#d8576b\"],[0.6666666666666666,\"#ed7953\"],[0.7777777777777778,\"#fb9f3a\"],[0.8888888888888888,\"#fdca26\"],[1.0,\"#f0f921\"]],\"type\":\"heatmapgl\"}],\"histogram\":[{\"marker\":{\"pattern\":{\"fillmode\":\"overlay\",\"size\":10,\"solidity\":0.2}},\"type\":\"histogram\"}],\"histogram2d\":[{\"colorbar\":{\"outlinewidth\":0,\"ticks\":\"\"},\"colorscale\":[[0.0,\"#0d0887\"],[0.1111111111111111,\"#46039f\"],[0.2222222222222222,\"#7201a8\"],[0.3333333333333333,\"#9c179e\"],[0.4444444444444444,\"#bd3786\"],[0.5555555555555556,\"#d8576b\"],[0.6666666666666666,\"#ed7953\"],[0.7777777777777778,\"#fb9f3a\"],[0.8888888888888888,\"#fdca26\"],[1.0,\"#f0f921\"]],\"type\":\"histogram2d\"}],\"histogram2dcontour\":[{\"colorbar\":{\"outlinewidth\":0,\"ticks\":\"\"},\"colorscale\":[[0.0,\"#0d0887\"],[0.1111111111111111,\"#46039f\"],[0.2222222222222222,\"#7201a8\"],[0.3333333333333333,\"#9c179e\"],[0.4444444444444444,\"#bd3786\"],[0.5555555555555556,\"#d8576b\"],[0.6666666666666666,\"#ed7953\"],[0.7777777777777778,\"#fb9f3a\"],[0.8888888888888888,\"#fdca26\"],[1.0,\"#f0f921\"]],\"type\":\"histogram2dcontour\"}],\"mesh3d\":[{\"colorbar\":{\"outlinewidth\":0,\"ticks\":\"\"},\"type\":\"mesh3d\"}],\"parcoords\":[{\"line\":{\"colorbar\":{\"outlinewidth\":0,\"ticks\":\"\"}},\"type\":\"parcoords\"}],\"pie\":[{\"automargin\":true,\"type\":\"pie\"}],\"scatter\":[{\"marker\":{\"colorbar\":{\"outlinewidth\":0,\"ticks\":\"\"}},\"type\":\"scatter\"}],\"scatter3d\":[{\"line\":{\"colorbar\":{\"outlinewidth\":0,\"ticks\":\"\"}},\"marker\":{\"colorbar\":{\"outlinewidth\":0,\"ticks\":\"\"}},\"type\":\"scatter3d\"}],\"scattercarpet\":[{\"marker\":{\"colorbar\":{\"outlinewidth\":0,\"ticks\":\"\"}},\"type\":\"scattercarpet\"}],\"scattergeo\":[{\"marker\":{\"colorbar\":{\"outlinewidth\":0,\"ticks\":\"\"}},\"type\":\"scattergeo\"}],\"scattergl\":[{\"marker\":{\"colorbar\":{\"outlinewidth\":0,\"ticks\":\"\"}},\"type\":\"scattergl\"}],\"scattermapbox\":[{\"marker\":{\"colorbar\":{\"outlinewidth\":0,\"ticks\":\"\"}},\"type\":\"scattermapbox\"}],\"scatterpolar\":[{\"marker\":{\"colorbar\":{\"outlinewidth\":0,\"ticks\":\"\"}},\"type\":\"scatterpolar\"}],\"scatterpolargl\":[{\"marker\":{\"colorbar\":{\"outlinewidth\":0,\"ticks\":\"\"}},\"type\":\"scatterpolargl\"}],\"scatterternary\":[{\"marker\":{\"colorbar\":{\"outlinewidth\":0,\"ticks\":\"\"}},\"type\":\"scatterternary\"}],\"surface\":[{\"colorbar\":{\"outlinewidth\":0,\"ticks\":\"\"},\"colorscale\":[[0.0,\"#0d0887\"],[0.1111111111111111,\"#46039f\"],[0.2222222222222222,\"#7201a8\"],[0.3333333333333333,\"#9c179e\"],[0.4444444444444444,\"#bd3786\"],[0.5555555555555556,\"#d8576b\"],[0.6666666666666666,\"#ed7953\"],[0.7777777777777778,\"#fb9f3a\"],[0.8888888888888888,\"#fdca26\"],[1.0,\"#f0f921\"]],\"type\":\"surface\"}],\"table\":[{\"cells\":{\"fill\":{\"color\":\"#EBF0F8\"},\"line\":{\"color\":\"white\"}},\"header\":{\"fill\":{\"color\":\"#C8D4E3\"},\"line\":{\"color\":\"white\"}},\"type\":\"table\"}]},\"layout\":{\"annotationdefaults\":{\"arrowcolor\":\"#2a3f5f\",\"arrowhead\":0,\"arrowwidth\":1},\"autotypenumbers\":\"strict\",\"coloraxis\":{\"colorbar\":{\"outlinewidth\":0,\"ticks\":\"\"}},\"colorscale\":{\"diverging\":[[0,\"#8e0152\"],[0.1,\"#c51b7d\"],[0.2,\"#de77ae\"],[0.3,\"#f1b6da\"],[0.4,\"#fde0ef\"],[0.5,\"#f7f7f7\"],[0.6,\"#e6f5d0\"],[0.7,\"#b8e186\"],[0.8,\"#7fbc41\"],[0.9,\"#4d9221\"],[1,\"#276419\"]],\"sequential\":[[0.0,\"#0d0887\"],[0.1111111111111111,\"#46039f\"],[0.2222222222222222,\"#7201a8\"],[0.3333333333333333,\"#9c179e\"],[0.4444444444444444,\"#bd3786\"],[0.5555555555555556,\"#d8576b\"],[0.6666666666666666,\"#ed7953\"],[0.7777777777777778,\"#fb9f3a\"],[0.8888888888888888,\"#fdca26\"],[1.0,\"#f0f921\"]],\"sequentialminus\":[[0.0,\"#0d0887\"],[0.1111111111111111,\"#46039f\"],[0.2222222222222222,\"#7201a8\"],[0.3333333333333333,\"#9c179e\"],[0.4444444444444444,\"#bd3786\"],[0.5555555555555556,\"#d8576b\"],[0.6666666666666666,\"#ed7953\"],[0.7777777777777778,\"#fb9f3a\"],[0.8888888888888888,\"#fdca26\"],[1.0,\"#f0f921\"]]},\"colorway\":[\"#636efa\",\"#EF553B\",\"#00cc96\",\"#ab63fa\",\"#FFA15A\",\"#19d3f3\",\"#FF6692\",\"#B6E880\",\"#FF97FF\",\"#FECB52\"],\"font\":{\"color\":\"#2a3f5f\"},\"geo\":{\"bgcolor\":\"white\",\"lakecolor\":\"white\",\"landcolor\":\"#E5ECF6\",\"showlakes\":true,\"showland\":true,\"subunitcolor\":\"white\"},\"hoverlabel\":{\"align\":\"left\"},\"hovermode\":\"closest\",\"mapbox\":{\"style\":\"light\"},\"paper_bgcolor\":\"white\",\"plot_bgcolor\":\"#E5ECF6\",\"polar\":{\"angularaxis\":{\"gridcolor\":\"white\",\"linecolor\":\"white\",\"ticks\":\"\"},\"bgcolor\":\"#E5ECF6\",\"radialaxis\":{\"gridcolor\":\"white\",\"linecolor\":\"white\",\"ticks\":\"\"}},\"scene\":{\"xaxis\":{\"backgroundcolor\":\"#E5ECF6\",\"gridcolor\":\"white\",\"gridwidth\":2,\"linecolor\":\"white\",\"showbackground\":true,\"ticks\":\"\",\"zerolinecolor\":\"white\"},\"yaxis\":{\"backgroundcolor\":\"#E5ECF6\",\"gridcolor\":\"white\",\"gridwidth\":2,\"linecolor\":\"white\",\"showbackground\":true,\"ticks\":\"\",\"zerolinecolor\":\"white\"},\"zaxis\":{\"backgroundcolor\":\"#E5ECF6\",\"gridcolor\":\"white\",\"gridwidth\":2,\"linecolor\":\"white\",\"showbackground\":true,\"ticks\":\"\",\"zerolinecolor\":\"white\"}},\"shapedefaults\":{\"line\":{\"color\":\"#2a3f5f\"}},\"ternary\":{\"aaxis\":{\"gridcolor\":\"white\",\"linecolor\":\"white\",\"ticks\":\"\"},\"baxis\":{\"gridcolor\":\"white\",\"linecolor\":\"white\",\"ticks\":\"\"},\"bgcolor\":\"#E5ECF6\",\"caxis\":{\"gridcolor\":\"white\",\"linecolor\":\"white\",\"ticks\":\"\"}},\"title\":{\"x\":0.05},\"xaxis\":{\"automargin\":true,\"gridcolor\":\"white\",\"linecolor\":\"white\",\"ticks\":\"\",\"title\":{\"standoff\":15},\"zerolinecolor\":\"white\",\"zerolinewidth\":2},\"yaxis\":{\"automargin\":true,\"gridcolor\":\"white\",\"linecolor\":\"white\",\"ticks\":\"\",\"title\":{\"standoff\":15},\"zerolinecolor\":\"white\",\"zerolinewidth\":2}}},\"xaxis\":{\"title\":{\"text\":\"N\\u00edvel de Escolaridade\",\"font\":{\"size\":14}},\"tickfont\":{\"size\":12}},\"yaxis\":{\"title\":{\"text\":\"Valor Pago\",\"font\":{\"size\":14}},\"tickfont\":{\"size\":12}},\"title\":{\"text\":\"Valor Pago em Cada M\\u00eas Conforme a Escolaridade\"}},                        {\"responsive\": true}                    ).then(function(){\n",
       "                            \n",
       "var gd = document.getElementById('8b6edf15-bed4-4c46-a1ca-60397d22b604');\n",
       "var x = new MutationObserver(function (mutations, observer) {{\n",
       "        var display = window.getComputedStyle(gd).display;\n",
       "        if (!display || display === 'none') {{\n",
       "            console.log([gd, 'removed!']);\n",
       "            Plotly.purge(gd);\n",
       "            observer.disconnect();\n",
       "        }}\n",
       "}});\n",
       "\n",
       "// Listen for the removal of the full notebook cells\n",
       "var notebookContainer = gd.closest('#notebook-container');\n",
       "if (notebookContainer) {{\n",
       "    x.observe(notebookContainer, {childList: true});\n",
       "}}\n",
       "\n",
       "// Listen for the clearing of the current output cell\n",
       "var outputEl = gd.closest('.output');\n",
       "if (outputEl) {{\n",
       "    x.observe(outputEl, {childList: true});\n",
       "}}\n",
       "\n",
       "                        })                };                });            </script>        </div>"
      ]
     },
     "metadata": {},
     "output_type": "display_data"
    }
   ],
   "source": [
    "#     Gráfico de barras com Ploty\n",
    "    #     Valor pago nos últimos conforme escolaridade\n",
    "fig = go.Figure()\n",
    "\n",
    "fig.add_trace(go.Bar(x = credit_grouped.escolaridade, \n",
    "                     y= credit_grouped.valor_pag_abr_2005,\n",
    "                    marker_color = \"Red\",\n",
    "                    name = \"Valor Pago em Abril\"))\n",
    "fig.add_trace(go.Bar(x = credit_grouped.escolaridade, \n",
    "                     y= credit_grouped.valor_pag_jun_2005,\n",
    "                    marker_color = \"Green\",\n",
    "                    name = \"Valor Pago em Junho\"))\n",
    "fig.add_trace(go.Bar(x = credit_grouped.escolaridade, \n",
    "                     y= credit_grouped.valor_pag_jul_2005,\n",
    "                    marker_color = \"Blue\",\n",
    "                    name = \"Valor Pago em Julho\"))\n",
    "fig.add_trace(go.Bar(x = credit_grouped.escolaridade, \n",
    "                     y= credit_grouped.valor_pag_ago_2005,\n",
    "                    marker_color = \"Yellow\",\n",
    "                    name = \"Valor Pago em Agosto\"))\n",
    "fig.add_trace(go.Bar(x = credit_grouped.escolaridade, \n",
    "                     y= credit_grouped.valor_pag_set_2005,\n",
    "                    marker_color = \"Purple\",\n",
    "                    name = \"Valor Pago em Setembro\"))\n",
    "fig.update_layout(title= \"Valor Pago em Cada Mês Conforme a Escolaridade\",\n",
    "                  xaxis=dict(title = \"Nível de Escolaridade\", titlefont_size = 14, tickfont_size = 12),\n",
    "                  yaxis=dict(title = \"Valor Pago\", titlefont_size = 14, tickfont_size = 12))\n",
    "#     Salvando Gráfico Interativo em html\n",
    "fig.write_html(\"Arquivos da Aplicação/Valor pago por escolaridade.html\")\n",
    "#     Mostrando gráfico no output\n",
    "fig.show()"
   ]
  }
 ],
 "metadata": {
  "kernelspec": {
   "display_name": "Python 3 (ipykernel)",
   "language": "python",
   "name": "python3"
  },
  "language_info": {
   "codemirror_mode": {
    "name": "ipython",
    "version": 3
   },
   "file_extension": ".py",
   "mimetype": "text/x-python",
   "name": "python",
   "nbconvert_exporter": "python",
   "pygments_lexer": "ipython3",
   "version": "3.9.7"
  }
 },
 "nbformat": 4,
 "nbformat_minor": 5
}
